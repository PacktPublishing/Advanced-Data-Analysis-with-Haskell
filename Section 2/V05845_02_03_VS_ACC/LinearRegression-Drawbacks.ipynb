{
 "cells": [
  {
   "cell_type": "code",
   "execution_count": 1,
   "metadata": {
    "collapsed": true
   },
   "outputs": [],
   "source": [
    "import Graphics.EasyPlot\n",
    "import Database.HDBC\n",
    "import Database.HDBC.Sqlite3"
   ]
  },
  {
   "cell_type": "code",
   "execution_count": 2,
   "metadata": {
    "collapsed": false
   },
   "outputs": [
    {
     "data": {
      "text/plain": []
     },
     "metadata": {},
     "output_type": "display_data"
    }
   ],
   "source": [
    "db <- connectSqlite3 \"../data/regression.sqlite3\""
   ]
  },
  {
   "cell_type": "code",
   "execution_count": 3,
   "metadata": {
    "collapsed": false
   },
   "outputs": [],
   "source": [
    "x1raw <- quickQuery db \"SELECT x FROM set1\" []\n",
    "y1raw <- quickQuery db \"SELECT y FROM set1\" []\n",
    "x2raw <- quickQuery db \"SELECT x FROM set2\" []\n",
    "y2raw <- quickQuery db \"SELECT y FROM set2\" []\n",
    "x3raw <- quickQuery db \"SELECT x FROM set3\" []\n",
    "y3raw <- quickQuery db \"SELECT y FROM set3\" []\n",
    "x4raw <- quickQuery db \"SELECT x FROM set4\" []\n",
    "y4raw <- quickQuery db \"SELECT y FROM set4\" []"
   ]
  },
  {
   "cell_type": "code",
   "execution_count": 4,
   "metadata": {
    "collapsed": false
   },
   "outputs": [],
   "source": [
    "x1 = map (fromSql . head) x1raw :: [Double]\n",
    "y1 = map (fromSql . head) y1raw :: [Double]\n",
    "x2 = map (fromSql . head) x2raw :: [Double]\n",
    "y2 = map (fromSql . head) y2raw :: [Double]\n",
    "x3 = map (fromSql . head) x3raw :: [Double]\n",
    "y3 = map (fromSql . head) y3raw :: [Double]\n",
    "x4 = map (fromSql . head) x4raw :: [Double]\n",
    "y4 = map (fromSql . head) y4raw :: [Double]"
   ]
  },
  {
   "cell_type": "code",
   "execution_count": 5,
   "metadata": {
    "collapsed": true
   },
   "outputs": [],
   "source": [
    "average xs = sum xs / fromIntegral (length xs)"
   ]
  },
  {
   "cell_type": "code",
   "execution_count": 6,
   "metadata": {
    "collapsed": true
   },
   "outputs": [],
   "source": [
    "covariance xs ys = average $ zipWith (\\xi yi -> (xi-average xs)*(yi-average ys)) xs ys"
   ]
  },
  {
   "cell_type": "code",
   "execution_count": 7,
   "metadata": {
    "collapsed": true
   },
   "outputs": [],
   "source": [
    "variance xs = covariance xs xs"
   ]
  },
  {
   "cell_type": "code",
   "execution_count": 8,
   "metadata": {
    "collapsed": true
   },
   "outputs": [],
   "source": [
    "linearRegression :: [Double] -> [Double] -> (Double, Double)\n",
    "linearRegression xs ys = (gradient, intercept)\n",
    "  where\n",
    "    gradient = covariance xs ys / variance xs\n",
    "    intercept = (average ys) - gradient * (average xs)"
   ]
  },
  {
   "cell_type": "code",
   "execution_count": 9,
   "metadata": {
    "collapsed": true
   },
   "outputs": [],
   "source": [
    "stdev xs = sqrt (variance xs)"
   ]
  },
  {
   "cell_type": "code",
   "execution_count": 10,
   "metadata": {
    "collapsed": true
   },
   "outputs": [],
   "source": [
    "pearsonr xs ys = covariance xs ys / (stdev xs * stdev ys)"
   ]
  },
  {
   "cell_type": "code",
   "execution_count": 11,
   "metadata": {
    "collapsed": true
   },
   "outputs": [],
   "source": [
    "pearsonrsqrd xs ys = pearsonr xs ys ^ 2"
   ]
  },
  {
   "cell_type": "code",
   "execution_count": 12,
   "metadata": {
    "collapsed": true
   },
   "outputs": [],
   "source": [
    "let xlist = [x1, x2, x3, x4]"
   ]
  },
  {
   "cell_type": "code",
   "execution_count": 13,
   "metadata": {
    "collapsed": true
   },
   "outputs": [],
   "source": [
    "let ylist = [y1, y2, y3, y4]"
   ]
  },
  {
   "cell_type": "code",
   "execution_count": 14,
   "metadata": {
    "collapsed": false
   },
   "outputs": [
    {
     "data": {
      "text/plain": [
       "[9.0,9.0,9.0,9.0]"
      ]
     },
     "metadata": {},
     "output_type": "display_data"
    }
   ],
   "source": [
    "map average xlist"
   ]
  },
  {
   "cell_type": "code",
   "execution_count": 15,
   "metadata": {
    "collapsed": false
   },
   "outputs": [
    {
     "data": {
      "text/plain": [
       "[7.500909090909093,7.500909090909091,7.500000000000001,7.50090909090909]"
      ]
     },
     "metadata": {},
     "output_type": "display_data"
    }
   ],
   "source": [
    "map average ylist"
   ]
  },
  {
   "cell_type": "code",
   "execution_count": 16,
   "metadata": {
    "collapsed": false
   },
   "outputs": [
    {
     "data": {
      "text/plain": [
       "[3.1622776601683795,3.1622776601683795,3.1622776601683795,3.1622776601683795]"
      ]
     },
     "metadata": {},
     "output_type": "display_data"
    }
   ],
   "source": [
    "map stdev xlist"
   ]
  },
  {
   "cell_type": "code",
   "execution_count": 17,
   "metadata": {
    "collapsed": false
   },
   "outputs": [
    {
     "data": {
      "text/plain": [
       "[1.937024215108669,1.93710869148962,1.9359329439927313,1.9360806451340837]"
      ]
     },
     "metadata": {},
     "output_type": "display_data"
    }
   ],
   "source": [
    "map stdev ylist"
   ]
  },
  {
   "cell_type": "code",
   "execution_count": 18,
   "metadata": {
    "collapsed": false
   },
   "outputs": [
    {
     "data": {
      "text/plain": [
       "[0.8164205163448399,0.8162365060002427,0.8162867394895982,0.8165214368885028]"
      ]
     },
     "metadata": {},
     "output_type": "display_data"
    }
   ],
   "source": [
    "zipWith pearsonr xlist ylist"
   ]
  },
  {
   "cell_type": "code",
   "execution_count": 19,
   "metadata": {
    "collapsed": false
   },
   "outputs": [
    {
     "data": {
      "text/plain": [
       "[(0.5000909090909091,3.0000909090909103),(0.5,3.000909090909091),(0.4997272727272727,3.0024545454545466),(0.4999090909090909,3.0017272727272717)]"
      ]
     },
     "metadata": {},
     "output_type": "display_data"
    }
   ],
   "source": [
    "zipWith linearRegression xlist ylist"
   ]
  },
  {
   "cell_type": "code",
   "execution_count": null,
   "metadata": {
    "collapsed": true
   },
   "outputs": [],
   "source": [
    "plot X11 $ map (Data2D [] [] . uncurry zip) (zip xlist ylist)"
   ]
  },
  {
   "cell_type": "code",
   "execution_count": null,
   "metadata": {
    "collapsed": true
   },
   "outputs": [],
   "source": []
  }
 ],
 "metadata": {
  "kernelspec": {
   "display_name": "Haskell",
   "language": "haskell",
   "name": "haskell"
  },
  "language_info": {
   "codemirror_mode": "ihaskell",
   "file_extension": ".hs",
   "name": "haskell",
   "version": "7.6.3"
  }
 },
 "nbformat": 4,
 "nbformat_minor": 0
}
