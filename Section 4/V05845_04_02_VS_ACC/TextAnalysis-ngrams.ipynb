{
 "cells": [
  {
   "cell_type": "code",
   "execution_count": 1,
   "metadata": {
    "collapsed": true
   },
   "outputs": [],
   "source": [
    "import Data.Char\n",
    "import Data.List as L\n",
    "import Data.HashMap.Strict as HM\n",
    "import Text.Printf"
   ]
  },
  {
   "cell_type": "code",
   "execution_count": 2,
   "metadata": {
    "collapsed": true
   },
   "outputs": [],
   "source": [
    "readFederalist num = do\n",
    "    let filename = printf \"../data/federalist/federalist%02d.txt\" num :: String\n",
    "    filecontents <- readFile filename\n",
    "    return (lines filecontents)"
   ]
  },
  {
   "cell_type": "code",
   "execution_count": 3,
   "metadata": {
    "collapsed": true
   },
   "outputs": [],
   "source": [
    "corpus = L.map readFederalist [1..85]"
   ]
  },
  {
   "cell_type": "code",
   "execution_count": 4,
   "metadata": {
    "collapsed": true
   },
   "outputs": [],
   "source": [
    "first <- head corpus"
   ]
  },
  {
   "cell_type": "code",
   "execution_count": 5,
   "metadata": {
    "collapsed": false
   },
   "outputs": [
    {
     "data": {
      "text/html": [
       "<style>/* Styles used for the Hoogle display in the pager */\n",
       ".hoogle-doc {\n",
       "display: block;\n",
       "padding-bottom: 1.3em;\n",
       "padding-left: 0.4em;\n",
       "}\n",
       ".hoogle-code {\n",
       "display: block;\n",
       "font-family: monospace;\n",
       "white-space: pre;\n",
       "}\n",
       ".hoogle-text {\n",
       "display: block;\n",
       "}\n",
       ".hoogle-name {\n",
       "color: green;\n",
       "font-weight: bold;\n",
       "}\n",
       ".hoogle-head {\n",
       "font-weight: bold;\n",
       "}\n",
       ".hoogle-sub {\n",
       "display: block;\n",
       "margin-left: 0.4em;\n",
       "}\n",
       ".hoogle-package {\n",
       "font-weight: bold;\n",
       "font-style: italic;\n",
       "}\n",
       ".hoogle-module {\n",
       "font-weight: bold;\n",
       "}\n",
       ".hoogle-class {\n",
       "font-weight: bold;\n",
       "}\n",
       ".get-type {\n",
       "color: green;\n",
       "font-weight: bold;\n",
       "font-family: monospace;\n",
       "display: block;\n",
       "white-space: pre-wrap;\n",
       "}\n",
       ".show-type {\n",
       "color: green;\n",
       "font-weight: bold;\n",
       "font-family: monospace;\n",
       "margin-left: 1em;\n",
       "}\n",
       ".mono {\n",
       "font-family: monospace;\n",
       "display: block;\n",
       "}\n",
       ".err-msg {\n",
       "color: red;\n",
       "font-style: italic;\n",
       "font-family: monospace;\n",
       "white-space: pre;\n",
       "display: block;\n",
       "}\n",
       "#unshowable {\n",
       "color: red;\n",
       "font-weight: bold;\n",
       "}\n",
       ".err-msg.in.collapse {\n",
       "padding-top: 0.7em;\n",
       "}\n",
       ".highlight-code {\n",
       "white-space: pre;\n",
       "font-family: monospace;\n",
       "}\n",
       ".suggestion-warning { \n",
       "font-weight: bold;\n",
       "color: rgb(200, 130, 0);\n",
       "}\n",
       ".suggestion-error { \n",
       "font-weight: bold;\n",
       "color: red;\n",
       "}\n",
       ".suggestion-name {\n",
       "font-weight: bold;\n",
       "}\n",
       "</style><span class='get-type'>first :: [String]</span>"
      ],
      "text/plain": [
       "first :: [String]"
      ]
     },
     "metadata": {},
     "output_type": "display_data"
    }
   ],
   "source": [
    ":t first"
   ]
  },
  {
   "cell_type": "code",
   "execution_count": 6,
   "metadata": {
    "collapsed": false
   },
   "outputs": [
    {
     "data": {
      "text/plain": [
       "\"Author: Alexander Hamilton\""
      ]
     },
     "metadata": {},
     "output_type": "display_data"
    }
   ],
   "source": [
    "head first"
   ]
  },
  {
   "cell_type": "code",
   "execution_count": 7,
   "metadata": {
    "collapsed": true
   },
   "outputs": [],
   "source": [
    "rest = unwords (tail first)"
   ]
  },
  {
   "cell_type": "code",
   "execution_count": 8,
   "metadata": {
    "collapsed": true
   },
   "outputs": [
    {
     "data": {
      "text/plain": [
       "\" To the People of the State of New York:  AFTER an unequivocal experience of the inefficiency of the subsisting federal government, you are called upon to deliberate on a new Constitution for the United States of America. The subject speaks its own importance; comprehending in its consequences nothing less than the existence of the UNION, the safety and welfare of the parts of which it is composed, the fate of an empire in many respects the most interesting in the world. It has been frequently remarked that it seems to have been reserved to the people of this country, by their conduct and example, to decide the important question, whether societies of men are really capable or not of establishing good government from reflection and choice, or whether they are forever destined to depend for their political constitutions on accident and force. If there be any truth in the remark, the crisis at which we are arrived may with propriety be regarded as the era in which that decision is to be made; and a wrong election of the part we shall act may, in this view, deserve to be considered as the general misfortune of mankind.  This idea will add the inducements of philanthropy to those of patriotism, to heighten the solicitude which all considerate and good men must feel for the event. Happy will it be if our choice should be directed by a judicious estimate of our true interests, unperplexed and unbiased by considerations not connected with the public good. But this is a thing more ardently to be wished than seriously to be expected. The plan offered to our deliberations affects too many particular interests, innovates upon too many local institutions, not to involve in its discussion a variety of objects foreign to its merits, and of views, passions and prejudices little favorable to the discovery of truth.  Among the most formidable of the obstacles which the new Constitution will have to encounter may readily be distinguished the obvious interest of a certain class of men in every State to resist all changes which may hazard a diminution of the power, emolument, and consequence of the offices they hold under the State establishments; and the perverted ambition of another class of men, who will either hope to aggrandize themselves by the confusions of their country, or will flatter themselves with fairer prospects of elevation from the subdivision of the empire into several partial confederacies than from its union under one government.  It is not, however, my design to dwell upon observations of this nature. I am well aware that it would be disingenuous to resolve indiscriminately the opposition of any set of men (merely because their situations might subject them to suspicion) into interested or ambitious views. Candor will oblige us to admit that even such men may be actuated by upright intentions; and it cannot be doubted that much of the opposition which has made its appearance, or may hereafter make its appearance, will spring from sources, blameless at least, if not respectable--the honest errors of minds led astray by preconceived jealousies and fears. So numerous indeed and so powerful are the causes which serve to give a false bias to the judgment, that we, upon many occasions, see wise and good men on the wrong as well as on the right side of questions of the first magnitude to society. This circumstance, if duly attended to, would furnish a lesson of moderation to those who are ever so much persuaded of their being in the right in any controversy. And a further reason for caution, in this respect, might be drawn from the reflection that we are not always sure that those who advocate the truth are influenced by purer principles than their antagonists. Ambition, avarice, personal animosity, party opposition, and many other motives not more laudable than these, are apt to operate as well upon those who support as those who oppose the right side of a question. Were there not even these inducements to moderation, nothing could be more ill-judged than that intolerant spirit which has, at all times, characterized political parties. For in politics, as in religion, it is equally absurd to aim at making proselytes by fire and sword. Heresies in either can rarely be cured by persecution.  And yet, however just these sentiments will be allowed to be, we have already sufficient indications that it will happen in this as in all former cases of great national discussion. A torrent of angry and malignant passions will be let loose. To judge from the conduct of the opposite parties, we shall be led to conclude that they will mutually hope to evince the justness of their opinions, and to increase the number of their converts by the loudness of their declamations and the bitterness of their invectives. An enlightened zeal for the energy and efficiency of government will be stigmatized as the offspring of a temper fond of despotic power and hostile to the principles of liberty. An over-scrupulous jealousy of danger to the rights of the people, which is more commonly the fault of the head than of the heart, will be represented as mere pretense and artifice, the stale bait for popularity at the expense of the public good. It will be forgotten, on the one hand, that jealousy is the usual concomitant of love, and that the noble enthusiasm of liberty is apt to be infected with a spirit of narrow and illiberal distrust. On the other hand, it will be equally forgotten that the vigor of government is essential to the security of liberty; that, in the contemplation of a sound and well-informed judgment, their interest can never be separated; and that a dangerous ambition more often lurks behind the specious mask of zeal for the rights of the people than under the forbidden appearance of zeal for the firmness and efficiency of government. History will teach us that the former has been found a much more certain road to the introduction of despotism than the latter, and that of those men who have overturned the liberties of republics, the greatest number have begun their career by paying an obsequious court to the people; commencing demagogues, and ending tyrants.  In the course of the preceding observations, I have had an eye, my fellow-citizens, to putting you upon your guard against all attempts, from whatever quarter, to influence your decision in a matter of the utmost moment to your welfare, by any impressions other than those which may result from the evidence of truth. You will, no doubt, at the same time, have collected from the general scope of them, that they proceed from a source not unfriendly to the new Constitution. Yes, my countrymen, I own to you that, after having given it an attentive consideration, I am clearly of opinion it is your interest to adopt it. I am convinced that this is the safest course for your liberty, your dignity, and your happiness. I affect not reserves which I do not feel. I will not amuse you with an appearance of deliberation when I have decided. I frankly acknowledge to you my convictions, and I will freely lay before you the reasons on which they are founded. The consciousness of good intentions disdains ambiguity. I shall not, however, multiply professions on this head. My motives must remain in the depository of my own breast. My arguments will be open to all, and may be judged of by all. They shall at least be offered in a spirit which will not disgrace the cause of truth.  I propose, in a series of papers, to discuss the following interesting particulars:  THE UTILITY OF THE UNION TO YOUR POLITICAL PROSPERITY THE INSUFFICIENCY OF THE PRESENT CONFEDERATION TO PRESERVE THAT UNION THE NECESSITY OF A GOVERNMENT AT LEAST EQUALLY ENERGETIC WITH THE ONE PROPOSED, TO THE ATTAINMENT OF THIS OBJECT THE CONFORMITY OF THE PROPOSED CONSTITUTION TO THE TRUE PRINCIPLES OF REPUBLICAN GOVERNMENT ITS ANALOGY TO YOUR OWN STATE CONSTITUTION and lastly, THE ADDITIONAL SECURITY WHICH ITS ADOPTION WILL AFFORD TO THE PRESERVATION OF THAT SPECIES OF GOVERNMENT, TO LIBERTY, AND TO PROPERTY.  In the progress of this discussion I shall endeavor to give a satisfactory answer to all the objections which shall have made their appearance, that may seem to have any claim to your attention.  It may perhaps be thought superfluous to offer arguments to prove the utility of the UNION, a point, no doubt, deeply engraved on the hearts of the great body of the people in every State, and one, which it may be imagined, has no adversaries. But the fact is, that we already hear it whispered in the private circles of those who oppose the new Constitution, that the thirteen States are of too great extent for any general system, and that we must of necessity resort to separate confederacies of distinct portions of the whole. [1] This doctrine will, in all probability, be gradually propagated, till it has votaries enough to countenance an open avowal of it. For nothing can be more evident, to those who are able to take an enlarged view of the subject, than the alternative of an adoption of the new Constitution or a dismemberment of the Union. It will therefore be of use to begin by examining the advantages of that Union, the certain evils, and the probable dangers, to which every State will be exposed from its dissolution. This shall accordingly constitute the subject of my next address.  PUBLIUS.  1. The same idea, tracing the arguments to their consequences, is held out in several of the late publications against the new Constitution.  \""
      ]
     },
     "metadata": {},
     "output_type": "display_data"
    }
   ],
   "source": [
    "rest"
   ]
  },
  {
   "cell_type": "code",
   "execution_count": 9,
   "metadata": {
    "collapsed": true
   },
   "outputs": [
    {
     "data": {
      "text/plain": [
       "\" to the people of the state of new york:  after an unequivocal experience of the inefficiency of the subsisting federal government, you are called upon to deliberate on a new constitution for the united states of america. the subject speaks its own importance; comprehending in its consequences nothing less than the existence of the union, the safety and welfare of the parts of which it is composed, the fate of an empire in many respects the most interesting in the world. it has been frequently remarked that it seems to have been reserved to the people of this country, by their conduct and example, to decide the important question, whether societies of men are really capable or not of establishing good government from reflection and choice, or whether they are forever destined to depend for their political constitutions on accident and force. if there be any truth in the remark, the crisis at which we are arrived may with propriety be regarded as the era in which that decision is to be made; and a wrong election of the part we shall act may, in this view, deserve to be considered as the general misfortune of mankind.  this idea will add the inducements of philanthropy to those of patriotism, to heighten the solicitude which all considerate and good men must feel for the event. happy will it be if our choice should be directed by a judicious estimate of our true interests, unperplexed and unbiased by considerations not connected with the public good. but this is a thing more ardently to be wished than seriously to be expected. the plan offered to our deliberations affects too many particular interests, innovates upon too many local institutions, not to involve in its discussion a variety of objects foreign to its merits, and of views, passions and prejudices little favorable to the discovery of truth.  among the most formidable of the obstacles which the new constitution will have to encounter may readily be distinguished the obvious interest of a certain class of men in every state to resist all changes which may hazard a diminution of the power, emolument, and consequence of the offices they hold under the state establishments; and the perverted ambition of another class of men, who will either hope to aggrandize themselves by the confusions of their country, or will flatter themselves with fairer prospects of elevation from the subdivision of the empire into several partial confederacies than from its union under one government.  it is not, however, my design to dwell upon observations of this nature. i am well aware that it would be disingenuous to resolve indiscriminately the opposition of any set of men (merely because their situations might subject them to suspicion) into interested or ambitious views. candor will oblige us to admit that even such men may be actuated by upright intentions; and it cannot be doubted that much of the opposition which has made its appearance, or may hereafter make its appearance, will spring from sources, blameless at least, if not respectable--the honest errors of minds led astray by preconceived jealousies and fears. so numerous indeed and so powerful are the causes which serve to give a false bias to the judgment, that we, upon many occasions, see wise and good men on the wrong as well as on the right side of questions of the first magnitude to society. this circumstance, if duly attended to, would furnish a lesson of moderation to those who are ever so much persuaded of their being in the right in any controversy. and a further reason for caution, in this respect, might be drawn from the reflection that we are not always sure that those who advocate the truth are influenced by purer principles than their antagonists. ambition, avarice, personal animosity, party opposition, and many other motives not more laudable than these, are apt to operate as well upon those who support as those who oppose the right side of a question. were there not even these inducements to moderation, nothing could be more ill-judged than that intolerant spirit which has, at all times, characterized political parties. for in politics, as in religion, it is equally absurd to aim at making proselytes by fire and sword. heresies in either can rarely be cured by persecution.  and yet, however just these sentiments will be allowed to be, we have already sufficient indications that it will happen in this as in all former cases of great national discussion. a torrent of angry and malignant passions will be let loose. to judge from the conduct of the opposite parties, we shall be led to conclude that they will mutually hope to evince the justness of their opinions, and to increase the number of their converts by the loudness of their declamations and the bitterness of their invectives. an enlightened zeal for the energy and efficiency of government will be stigmatized as the offspring of a temper fond of despotic power and hostile to the principles of liberty. an over-scrupulous jealousy of danger to the rights of the people, which is more commonly the fault of the head than of the heart, will be represented as mere pretense and artifice, the stale bait for popularity at the expense of the public good. it will be forgotten, on the one hand, that jealousy is the usual concomitant of love, and that the noble enthusiasm of liberty is apt to be infected with a spirit of narrow and illiberal distrust. on the other hand, it will be equally forgotten that the vigor of government is essential to the security of liberty; that, in the contemplation of a sound and well-informed judgment, their interest can never be separated; and that a dangerous ambition more often lurks behind the specious mask of zeal for the rights of the people than under the forbidden appearance of zeal for the firmness and efficiency of government. history will teach us that the former has been found a much more certain road to the introduction of despotism than the latter, and that of those men who have overturned the liberties of republics, the greatest number have begun their career by paying an obsequious court to the people; commencing demagogues, and ending tyrants.  in the course of the preceding observations, i have had an eye, my fellow-citizens, to putting you upon your guard against all attempts, from whatever quarter, to influence your decision in a matter of the utmost moment to your welfare, by any impressions other than those which may result from the evidence of truth. you will, no doubt, at the same time, have collected from the general scope of them, that they proceed from a source not unfriendly to the new constitution. yes, my countrymen, i own to you that, after having given it an attentive consideration, i am clearly of opinion it is your interest to adopt it. i am convinced that this is the safest course for your liberty, your dignity, and your happiness. i affect not reserves which i do not feel. i will not amuse you with an appearance of deliberation when i have decided. i frankly acknowledge to you my convictions, and i will freely lay before you the reasons on which they are founded. the consciousness of good intentions disdains ambiguity. i shall not, however, multiply professions on this head. my motives must remain in the depository of my own breast. my arguments will be open to all, and may be judged of by all. they shall at least be offered in a spirit which will not disgrace the cause of truth.  i propose, in a series of papers, to discuss the following interesting particulars:  the utility of the union to your political prosperity the insufficiency of the present confederation to preserve that union the necessity of a government at least equally energetic with the one proposed, to the attainment of this object the conformity of the proposed constitution to the true principles of republican government its analogy to your own state constitution and lastly, the additional security which its adoption will afford to the preservation of that species of government, to liberty, and to property.  in the progress of this discussion i shall endeavor to give a satisfactory answer to all the objections which shall have made their appearance, that may seem to have any claim to your attention.  it may perhaps be thought superfluous to offer arguments to prove the utility of the union, a point, no doubt, deeply engraved on the hearts of the great body of the people in every state, and one, which it may be imagined, has no adversaries. but the fact is, that we already hear it whispered in the private circles of those who oppose the new constitution, that the thirteen states are of too great extent for any general system, and that we must of necessity resort to separate confederacies of distinct portions of the whole. [1] this doctrine will, in all probability, be gradually propagated, till it has votaries enough to countenance an open avowal of it. for nothing can be more evident, to those who are able to take an enlarged view of the subject, than the alternative of an adoption of the new constitution or a dismemberment of the union. it will therefore be of use to begin by examining the advantages of that union, the certain evils, and the probable dangers, to which every state will be exposed from its dissolution. this shall accordingly constitute the subject of my next address.  publius.  1. the same idea, tracing the arguments to their consequences, is held out in several of the late publications against the new constitution.  \""
      ]
     },
     "metadata": {},
     "output_type": "display_data"
    }
   ],
   "source": [
    "L.map toLower rest"
   ]
  },
  {
   "cell_type": "code",
   "execution_count": 10,
   "metadata": {
    "collapsed": true
   },
   "outputs": [
    {
     "data": {
      "text/plain": [
       "\" to the people of the state of new york  after an unequivocal experience of the inefficiency of the subsisting federal government you are called upon to deliberate on a new constitution for the united states of america the subject speaks its own importance comprehending in its consequences nothing less than the existence of the union the safety and welfare of the parts of which it is composed the fate of an empire in many respects the most interesting in the world it has been frequently remarked that it seems to have been reserved to the people of this country by their conduct and example to decide the important question whether societies of men are really capable or not of establishing good government from reflection and choice or whether they are forever destined to depend for their political constitutions on accident and force if there be any truth in the remark the crisis at which we are arrived may with propriety be regarded as the era in which that decision is to be made and a wrong election of the part we shall act may in this view deserve to be considered as the general misfortune of mankind  this idea will add the inducements of philanthropy to those of patriotism to heighten the solicitude which all considerate and good men must feel for the event happy will it be if our choice should be directed by a judicious estimate of our true interests unperplexed and unbiased by considerations not connected with the public good but this is a thing more ardently to be wished than seriously to be expected the plan offered to our deliberations affects too many particular interests innovates upon too many local institutions not to involve in its discussion a variety of objects foreign to its merits and of views passions and prejudices little favorable to the discovery of truth  among the most formidable of the obstacles which the new constitution will have to encounter may readily be distinguished the obvious interest of a certain class of men in every state to resist all changes which may hazard a diminution of the power emolument and consequence of the offices they hold under the state establishments and the perverted ambition of another class of men who will either hope to aggrandize themselves by the confusions of their country or will flatter themselves with fairer prospects of elevation from the subdivision of the empire into several partial confederacies than from its union under one government  it is not however my design to dwell upon observations of this nature i am well aware that it would be disingenuous to resolve indiscriminately the opposition of any set of men merely because their situations might subject them to suspicion into interested or ambitious views candor will oblige us to admit that even such men may be actuated by upright intentions and it cannot be doubted that much of the opposition which has made its appearance or may hereafter make its appearance will spring from sources blameless at least if not respectablethe honest errors of minds led astray by preconceived jealousies and fears so numerous indeed and so powerful are the causes which serve to give a false bias to the judgment that we upon many occasions see wise and good men on the wrong as well as on the right side of questions of the first magnitude to society this circumstance if duly attended to would furnish a lesson of moderation to those who are ever so much persuaded of their being in the right in any controversy and a further reason for caution in this respect might be drawn from the reflection that we are not always sure that those who advocate the truth are influenced by purer principles than their antagonists ambition avarice personal animosity party opposition and many other motives not more laudable than these are apt to operate as well upon those who support as those who oppose the right side of a question were there not even these inducements to moderation nothing could be more illjudged than that intolerant spirit which has at all times characterized political parties for in politics as in religion it is equally absurd to aim at making proselytes by fire and sword heresies in either can rarely be cured by persecution  and yet however just these sentiments will be allowed to be we have already sufficient indications that it will happen in this as in all former cases of great national discussion a torrent of angry and malignant passions will be let loose to judge from the conduct of the opposite parties we shall be led to conclude that they will mutually hope to evince the justness of their opinions and to increase the number of their converts by the loudness of their declamations and the bitterness of their invectives an enlightened zeal for the energy and efficiency of government will be stigmatized as the offspring of a temper fond of despotic power and hostile to the principles of liberty an overscrupulous jealousy of danger to the rights of the people which is more commonly the fault of the head than of the heart will be represented as mere pretense and artifice the stale bait for popularity at the expense of the public good it will be forgotten on the one hand that jealousy is the usual concomitant of love and that the noble enthusiasm of liberty is apt to be infected with a spirit of narrow and illiberal distrust on the other hand it will be equally forgotten that the vigor of government is essential to the security of liberty that in the contemplation of a sound and wellinformed judgment their interest can never be separated and that a dangerous ambition more often lurks behind the specious mask of zeal for the rights of the people than under the forbidden appearance of zeal for the firmness and efficiency of government history will teach us that the former has been found a much more certain road to the introduction of despotism than the latter and that of those men who have overturned the liberties of republics the greatest number have begun their career by paying an obsequious court to the people commencing demagogues and ending tyrants  in the course of the preceding observations i have had an eye my fellowcitizens to putting you upon your guard against all attempts from whatever quarter to influence your decision in a matter of the utmost moment to your welfare by any impressions other than those which may result from the evidence of truth you will no doubt at the same time have collected from the general scope of them that they proceed from a source not unfriendly to the new constitution yes my countrymen i own to you that after having given it an attentive consideration i am clearly of opinion it is your interest to adopt it i am convinced that this is the safest course for your liberty your dignity and your happiness i affect not reserves which i do not feel i will not amuse you with an appearance of deliberation when i have decided i frankly acknowledge to you my convictions and i will freely lay before you the reasons on which they are founded the consciousness of good intentions disdains ambiguity i shall not however multiply professions on this head my motives must remain in the depository of my own breast my arguments will be open to all and may be judged of by all they shall at least be offered in a spirit which will not disgrace the cause of truth  i propose in a series of papers to discuss the following interesting particulars  the utility of the union to your political prosperity the insufficiency of the present confederation to preserve that union the necessity of a government at least equally energetic with the one proposed to the attainment of this object the conformity of the proposed constitution to the true principles of republican government its analogy to your own state constitution and lastly the additional security which its adoption will afford to the preservation of that species of government to liberty and to property  in the progress of this discussion i shall endeavor to give a satisfactory answer to all the objections which shall have made their appearance that may seem to have any claim to your attention  it may perhaps be thought superfluous to offer arguments to prove the utility of the union a point no doubt deeply engraved on the hearts of the great body of the people in every state and one which it may be imagined has no adversaries but the fact is that we already hear it whispered in the private circles of those who oppose the new constitution that the thirteen states are of too great extent for any general system and that we must of necessity resort to separate confederacies of distinct portions of the whole  this doctrine will in all probability be gradually propagated till it has votaries enough to countenance an open avowal of it for nothing can be more evident to those who are able to take an enlarged view of the subject than the alternative of an adoption of the new constitution or a dismemberment of the union it will therefore be of use to begin by examining the advantages of that union the certain evils and the probable dangers to which every state will be exposed from its dissolution this shall accordingly constitute the subject of my next address  publius   the same idea tracing the arguments to their consequences is held out in several of the late publications against the new constitution  \""
      ]
     },
     "metadata": {},
     "output_type": "display_data"
    }
   ],
   "source": [
    "L.filter (\\ch -> isAsciiLower ch || ch == ' ') (L.map toLower rest)"
   ]
  },
  {
   "cell_type": "code",
   "execution_count": 11,
   "metadata": {
    "collapsed": true
   },
   "outputs": [],
   "source": [
    "firstWords = words $ L.filter (\\ch -> isAsciiLower ch || ch == ' ') (L.map toLower rest)"
   ]
  },
  {
   "cell_type": "code",
   "execution_count": 12,
   "metadata": {
    "collapsed": true
   },
   "outputs": [
    {
     "data": {
      "text/plain": [
       "[\"to\",\"the\",\"people\",\"of\",\"the\",\"state\",\"of\",\"new\",\"york\",\"after\",\"an\",\"unequivocal\",\"experience\",\"of\",\"the\",\"inefficiency\",\"of\",\"the\",\"subsisting\",\"federal\",\"government\",\"you\",\"are\",\"called\",\"upon\",\"to\",\"deliberate\",\"on\",\"a\",\"new\",\"constitution\",\"for\",\"the\",\"united\",\"states\",\"of\",\"america\",\"the\",\"subject\",\"speaks\",\"its\",\"own\",\"importance\",\"comprehending\",\"in\",\"its\",\"consequences\",\"nothing\",\"less\",\"than\",\"the\",\"existence\",\"of\",\"the\",\"union\",\"the\",\"safety\",\"and\",\"welfare\",\"of\",\"the\",\"parts\",\"of\",\"which\",\"it\",\"is\",\"composed\",\"the\",\"fate\",\"of\",\"an\",\"empire\",\"in\",\"many\",\"respects\",\"the\",\"most\",\"interesting\",\"in\",\"the\",\"world\",\"it\",\"has\",\"been\",\"frequently\",\"remarked\",\"that\",\"it\",\"seems\",\"to\",\"have\",\"been\",\"reserved\",\"to\",\"the\",\"people\",\"of\",\"this\",\"country\",\"by\",\"their\",\"conduct\",\"and\",\"example\",\"to\",\"decide\",\"the\",\"important\",\"question\",\"whether\",\"societies\",\"of\",\"men\",\"are\",\"really\",\"capable\",\"or\",\"not\",\"of\",\"establishing\",\"good\",\"government\",\"from\",\"reflection\",\"and\",\"choice\",\"or\",\"whether\",\"they\",\"are\",\"forever\",\"destined\",\"to\",\"depend\",\"for\",\"their\",\"political\",\"constitutions\",\"on\",\"accident\",\"and\",\"force\",\"if\",\"there\",\"be\",\"any\",\"truth\",\"in\",\"the\",\"remark\",\"the\",\"crisis\",\"at\",\"which\",\"we\",\"are\",\"arrived\",\"may\",\"with\",\"propriety\",\"be\",\"regarded\",\"as\",\"the\",\"era\",\"in\",\"which\",\"that\",\"decision\",\"is\",\"to\",\"be\",\"made\",\"and\",\"a\",\"wrong\",\"election\",\"of\",\"the\",\"part\",\"we\",\"shall\",\"act\",\"may\",\"in\",\"this\",\"view\",\"deserve\",\"to\",\"be\",\"considered\",\"as\",\"the\",\"general\",\"misfortune\",\"of\",\"mankind\",\"this\",\"idea\",\"will\",\"add\",\"the\",\"inducements\",\"of\",\"philanthropy\",\"to\",\"those\",\"of\",\"patriotism\",\"to\",\"heighten\",\"the\",\"solicitude\",\"which\",\"all\",\"considerate\",\"and\",\"good\",\"men\",\"must\",\"feel\",\"for\",\"the\",\"event\",\"happy\",\"will\",\"it\",\"be\",\"if\",\"our\",\"choice\",\"should\",\"be\",\"directed\",\"by\",\"a\",\"judicious\",\"estimate\",\"of\",\"our\",\"true\",\"interests\",\"unperplexed\",\"and\",\"unbiased\",\"by\",\"considerations\",\"not\",\"connected\",\"with\",\"the\",\"public\",\"good\",\"but\",\"this\",\"is\",\"a\",\"thing\",\"more\",\"ardently\",\"to\",\"be\",\"wished\",\"than\",\"seriously\",\"to\",\"be\",\"expected\",\"the\",\"plan\",\"offered\",\"to\",\"our\",\"deliberations\",\"affects\",\"too\",\"many\",\"particular\",\"interests\",\"innovates\",\"upon\",\"too\",\"many\",\"local\",\"institutions\",\"not\",\"to\",\"involve\",\"in\",\"its\",\"discussion\",\"a\",\"variety\",\"of\",\"objects\",\"foreign\",\"to\",\"its\",\"merits\",\"and\",\"of\",\"views\",\"passions\",\"and\",\"prejudices\",\"little\",\"favorable\",\"to\",\"the\",\"discovery\",\"of\",\"truth\",\"among\",\"the\",\"most\",\"formidable\",\"of\",\"the\",\"obstacles\",\"which\",\"the\",\"new\",\"constitution\",\"will\",\"have\",\"to\",\"encounter\",\"may\",\"readily\",\"be\",\"distinguished\",\"the\",\"obvious\",\"interest\",\"of\",\"a\",\"certain\",\"class\",\"of\",\"men\",\"in\",\"every\",\"state\",\"to\",\"resist\",\"all\",\"changes\",\"which\",\"may\",\"hazard\",\"a\",\"diminution\",\"of\",\"the\",\"power\",\"emolument\",\"and\",\"consequence\",\"of\",\"the\",\"offices\",\"they\",\"hold\",\"under\",\"the\",\"state\",\"establishments\",\"and\",\"the\",\"perverted\",\"ambition\",\"of\",\"another\",\"class\",\"of\",\"men\",\"who\",\"will\",\"either\",\"hope\",\"to\",\"aggrandize\",\"themselves\",\"by\",\"the\",\"confusions\",\"of\",\"their\",\"country\",\"or\",\"will\",\"flatter\",\"themselves\",\"with\",\"fairer\",\"prospects\",\"of\",\"elevation\",\"from\",\"the\",\"subdivision\",\"of\",\"the\",\"empire\",\"into\",\"several\",\"partial\",\"confederacies\",\"than\",\"from\",\"its\",\"union\",\"under\",\"one\",\"government\",\"it\",\"is\",\"not\",\"however\",\"my\",\"design\",\"to\",\"dwell\",\"upon\",\"observations\",\"of\",\"this\",\"nature\",\"i\",\"am\",\"well\",\"aware\",\"that\",\"it\",\"would\",\"be\",\"disingenuous\",\"to\",\"resolve\",\"indiscriminately\",\"the\",\"opposition\",\"of\",\"any\",\"set\",\"of\",\"men\",\"merely\",\"because\",\"their\",\"situations\",\"might\",\"subject\",\"them\",\"to\",\"suspicion\",\"into\",\"interested\",\"or\",\"ambitious\",\"views\",\"candor\",\"will\",\"oblige\",\"us\",\"to\",\"admit\",\"that\",\"even\",\"such\",\"men\",\"may\",\"be\",\"actuated\",\"by\",\"upright\",\"intentions\",\"and\",\"it\",\"cannot\",\"be\",\"doubted\",\"that\",\"much\",\"of\",\"the\",\"opposition\",\"which\",\"has\",\"made\",\"its\",\"appearance\",\"or\",\"may\",\"hereafter\",\"make\",\"its\",\"appearance\",\"will\",\"spring\",\"from\",\"sources\",\"blameless\",\"at\",\"least\",\"if\",\"not\",\"respectablethe\",\"honest\",\"errors\",\"of\",\"minds\",\"led\",\"astray\",\"by\",\"preconceived\",\"jealousies\",\"and\",\"fears\",\"so\",\"numerous\",\"indeed\",\"and\",\"so\",\"powerful\",\"are\",\"the\",\"causes\",\"which\",\"serve\",\"to\",\"give\",\"a\",\"false\",\"bias\",\"to\",\"the\",\"judgment\",\"that\",\"we\",\"upon\",\"many\",\"occasions\",\"see\",\"wise\",\"and\",\"good\",\"men\",\"on\",\"the\",\"wrong\",\"as\",\"well\",\"as\",\"on\",\"the\",\"right\",\"side\",\"of\",\"questions\",\"of\",\"the\",\"first\",\"magnitude\",\"to\",\"society\",\"this\",\"circumstance\",\"if\",\"duly\",\"attended\",\"to\",\"would\",\"furnish\",\"a\",\"lesson\",\"of\",\"moderation\",\"to\",\"those\",\"who\",\"are\",\"ever\",\"so\",\"much\",\"persuaded\",\"of\",\"their\",\"being\",\"in\",\"the\",\"right\",\"in\",\"any\",\"controversy\",\"and\",\"a\",\"further\",\"reason\",\"for\",\"caution\",\"in\",\"this\",\"respect\",\"might\",\"be\",\"drawn\",\"from\",\"the\",\"reflection\",\"that\",\"we\",\"are\",\"not\",\"always\",\"sure\",\"that\",\"those\",\"who\",\"advocate\",\"the\",\"truth\",\"are\",\"influenced\",\"by\",\"purer\",\"principles\",\"than\",\"their\",\"antagonists\",\"ambition\",\"avarice\",\"personal\",\"animosity\",\"party\",\"opposition\",\"and\",\"many\",\"other\",\"motives\",\"not\",\"more\",\"laudable\",\"than\",\"these\",\"are\",\"apt\",\"to\",\"operate\",\"as\",\"well\",\"upon\",\"those\",\"who\",\"support\",\"as\",\"those\",\"who\",\"oppose\",\"the\",\"right\",\"side\",\"of\",\"a\",\"question\",\"were\",\"there\",\"not\",\"even\",\"these\",\"inducements\",\"to\",\"moderation\",\"nothing\",\"could\",\"be\",\"more\",\"illjudged\",\"than\",\"that\",\"intolerant\",\"spirit\",\"which\",\"has\",\"at\",\"all\",\"times\",\"characterized\",\"political\",\"parties\",\"for\",\"in\",\"politics\",\"as\",\"in\",\"religion\",\"it\",\"is\",\"equally\",\"absurd\",\"to\",\"aim\",\"at\",\"making\",\"proselytes\",\"by\",\"fire\",\"and\",\"sword\",\"heresies\",\"in\",\"either\",\"can\",\"rarely\",\"be\",\"cured\",\"by\",\"persecution\",\"and\",\"yet\",\"however\",\"just\",\"these\",\"sentiments\",\"will\",\"be\",\"allowed\",\"to\",\"be\",\"we\",\"have\",\"already\",\"sufficient\",\"indications\",\"that\",\"it\",\"will\",\"happen\",\"in\",\"this\",\"as\",\"in\",\"all\",\"former\",\"cases\",\"of\",\"great\",\"national\",\"discussion\",\"a\",\"torrent\",\"of\",\"angry\",\"and\",\"malignant\",\"passions\",\"will\",\"be\",\"let\",\"loose\",\"to\",\"judge\",\"from\",\"the\",\"conduct\",\"of\",\"the\",\"opposite\",\"parties\",\"we\",\"shall\",\"be\",\"led\",\"to\",\"conclude\",\"that\",\"they\",\"will\",\"mutually\",\"hope\",\"to\",\"evince\",\"the\",\"justness\",\"of\",\"their\",\"opinions\",\"and\",\"to\",\"increase\",\"the\",\"number\",\"of\",\"their\",\"converts\",\"by\",\"the\",\"loudness\",\"of\",\"their\",\"declamations\",\"and\",\"the\",\"bitterness\",\"of\",\"their\",\"invectives\",\"an\",\"enlightened\",\"zeal\",\"for\",\"the\",\"energy\",\"and\",\"efficiency\",\"of\",\"government\",\"will\",\"be\",\"stigmatized\",\"as\",\"the\",\"offspring\",\"of\",\"a\",\"temper\",\"fond\",\"of\",\"despotic\",\"power\",\"and\",\"hostile\",\"to\",\"the\",\"principles\",\"of\",\"liberty\",\"an\",\"overscrupulous\",\"jealousy\",\"of\",\"danger\",\"to\",\"the\",\"rights\",\"of\",\"the\",\"people\",\"which\",\"is\",\"more\",\"commonly\",\"the\",\"fault\",\"of\",\"the\",\"head\",\"than\",\"of\",\"the\",\"heart\",\"will\",\"be\",\"represented\",\"as\",\"mere\",\"pretense\",\"and\",\"artifice\",\"the\",\"stale\",\"bait\",\"for\",\"popularity\",\"at\",\"the\",\"expense\",\"of\",\"the\",\"public\",\"good\",\"it\",\"will\",\"be\",\"forgotten\",\"on\",\"the\",\"one\",\"hand\",\"that\",\"jealousy\",\"is\",\"the\",\"usual\",\"concomitant\",\"of\",\"love\",\"and\",\"that\",\"the\",\"noble\",\"enthusiasm\",\"of\",\"liberty\",\"is\",\"apt\",\"to\",\"be\",\"infected\",\"with\",\"a\",\"spirit\",\"of\",\"narrow\",\"and\",\"illiberal\",\"distrust\",\"on\",\"the\",\"other\",\"hand\",\"it\",\"will\",\"be\",\"equally\",\"forgotten\",\"that\",\"the\",\"vigor\",\"of\",\"government\",\"is\",\"essential\",\"to\",\"the\",\"security\",\"of\",\"liberty\",\"that\",\"in\",\"the\",\"contemplation\",\"of\",\"a\",\"sound\",\"and\",\"wellinformed\",\"judgment\",\"their\",\"interest\",\"can\",\"never\",\"be\",\"separated\",\"and\",\"that\",\"a\",\"dangerous\",\"ambition\",\"more\",\"often\",\"lurks\",\"behind\",\"the\",\"specious\",\"mask\",\"of\",\"zeal\",\"for\",\"the\",\"rights\",\"of\",\"the\",\"people\",\"than\",\"under\",\"the\",\"forbidden\",\"appearance\",\"of\",\"zeal\",\"for\",\"the\",\"firmness\",\"and\",\"efficiency\",\"of\",\"government\",\"history\",\"will\",\"teach\",\"us\",\"that\",\"the\",\"former\",\"has\",\"been\",\"found\",\"a\",\"much\",\"more\",\"certain\",\"road\",\"to\",\"the\",\"introduction\",\"of\",\"despotism\",\"than\",\"the\",\"latter\",\"and\",\"that\",\"of\",\"those\",\"men\",\"who\",\"have\",\"overturned\",\"the\",\"liberties\",\"of\",\"republics\",\"the\",\"greatest\",\"number\",\"have\",\"begun\",\"their\",\"career\",\"by\",\"paying\",\"an\",\"obsequious\",\"court\",\"to\",\"the\",\"people\",\"commencing\",\"demagogues\",\"and\",\"ending\",\"tyrants\",\"in\",\"the\",\"course\",\"of\",\"the\",\"preceding\",\"observations\",\"i\",\"have\",\"had\",\"an\",\"eye\",\"my\",\"fellowcitizens\",\"to\",\"putting\",\"you\",\"upon\",\"your\",\"guard\",\"against\",\"all\",\"attempts\",\"from\",\"whatever\",\"quarter\",\"to\",\"influence\",\"your\",\"decision\",\"in\",\"a\",\"matter\",\"of\",\"the\",\"utmost\",\"moment\",\"to\",\"your\",\"welfare\",\"by\",\"any\",\"impressions\",\"other\",\"than\",\"those\",\"which\",\"may\",\"result\",\"from\",\"the\",\"evidence\",\"of\",\"truth\",\"you\",\"will\",\"no\",\"doubt\",\"at\",\"the\",\"same\",\"time\",\"have\",\"collected\",\"from\",\"the\",\"general\",\"scope\",\"of\",\"them\",\"that\",\"they\",\"proceed\",\"from\",\"a\",\"source\",\"not\",\"unfriendly\",\"to\",\"the\",\"new\",\"constitution\",\"yes\",\"my\",\"countrymen\",\"i\",\"own\",\"to\",\"you\",\"that\",\"after\",\"having\",\"given\",\"it\",\"an\",\"attentive\",\"consideration\",\"i\",\"am\",\"clearly\",\"of\",\"opinion\",\"it\",\"is\",\"your\",\"interest\",\"to\",\"adopt\",\"it\",\"i\",\"am\",\"convinced\",\"that\",\"this\",\"is\",\"the\",\"safest\",\"course\",\"for\",\"your\",\"liberty\",\"your\",\"dignity\",\"and\",\"your\",\"happiness\",\"i\",\"affect\",\"not\",\"reserves\",\"which\",\"i\",\"do\",\"not\",\"feel\",\"i\",\"will\",\"not\",\"amuse\",\"you\",\"with\",\"an\",\"appearance\",\"of\",\"deliberation\",\"when\",\"i\",\"have\",\"decided\",\"i\",\"frankly\",\"acknowledge\",\"to\",\"you\",\"my\",\"convictions\",\"and\",\"i\",\"will\",\"freely\",\"lay\",\"before\",\"you\",\"the\",\"reasons\",\"on\",\"which\",\"they\",\"are\",\"founded\",\"the\",\"consciousness\",\"of\",\"good\",\"intentions\",\"disdains\",\"ambiguity\",\"i\",\"shall\",\"not\",\"however\",\"multiply\",\"professions\",\"on\",\"this\",\"head\",\"my\",\"motives\",\"must\",\"remain\",\"in\",\"the\",\"depository\",\"of\",\"my\",\"own\",\"breast\",\"my\",\"arguments\",\"will\",\"be\",\"open\",\"to\",\"all\",\"and\",\"may\",\"be\",\"judged\",\"of\",\"by\",\"all\",\"they\",\"shall\",\"at\",\"least\",\"be\",\"offered\",\"in\",\"a\",\"spirit\",\"which\",\"will\",\"not\",\"disgrace\",\"the\",\"cause\",\"of\",\"truth\",\"i\",\"propose\",\"in\",\"a\",\"series\",\"of\",\"papers\",\"to\",\"discuss\",\"the\",\"following\",\"interesting\",\"particulars\",\"the\",\"utility\",\"of\",\"the\",\"union\",\"to\",\"your\",\"political\",\"prosperity\",\"the\",\"insufficiency\",\"of\",\"the\",\"present\",\"confederation\",\"to\",\"preserve\",\"that\",\"union\",\"the\",\"necessity\",\"of\",\"a\",\"government\",\"at\",\"least\",\"equally\",\"energetic\",\"with\",\"the\",\"one\",\"proposed\",\"to\",\"the\",\"attainment\",\"of\",\"this\",\"object\",\"the\",\"conformity\",\"of\",\"the\",\"proposed\",\"constitution\",\"to\",\"the\",\"true\",\"principles\",\"of\",\"republican\",\"government\",\"its\",\"analogy\",\"to\",\"your\",\"own\",\"state\",\"constitution\",\"and\",\"lastly\",\"the\",\"additional\",\"security\",\"which\",\"its\",\"adoption\",\"will\",\"afford\",\"to\",\"the\",\"preservation\",\"of\",\"that\",\"species\",\"of\",\"government\",\"to\",\"liberty\",\"and\",\"to\",\"property\",\"in\",\"the\",\"progress\",\"of\",\"this\",\"discussion\",\"i\",\"shall\",\"endeavor\",\"to\",\"give\",\"a\",\"satisfactory\",\"answer\",\"to\",\"all\",\"the\",\"objections\",\"which\",\"shall\",\"have\",\"made\",\"their\",\"appearance\",\"that\",\"may\",\"seem\",\"to\",\"have\",\"any\",\"claim\",\"to\",\"your\",\"attention\",\"it\",\"may\",\"perhaps\",\"be\",\"thought\",\"superfluous\",\"to\",\"offer\",\"arguments\",\"to\",\"prove\",\"the\",\"utility\",\"of\",\"the\",\"union\",\"a\",\"point\",\"no\",\"doubt\",\"deeply\",\"engraved\",\"on\",\"the\",\"hearts\",\"of\",\"the\",\"great\",\"body\",\"of\",\"the\",\"people\",\"in\",\"every\",\"state\",\"and\",\"one\",\"which\",\"it\",\"may\",\"be\",\"imagined\",\"has\",\"no\",\"adversaries\",\"but\",\"the\",\"fact\",\"is\",\"that\",\"we\",\"already\",\"hear\",\"it\",\"whispered\",\"in\",\"the\",\"private\",\"circles\",\"of\",\"those\",\"who\",\"oppose\",\"the\",\"new\",\"constitution\",\"that\",\"the\",\"thirteen\",\"states\",\"are\",\"of\",\"too\",\"great\",\"extent\",\"for\",\"any\",\"general\",\"system\",\"and\",\"that\",\"we\",\"must\",\"of\",\"necessity\",\"resort\",\"to\",\"separate\",\"confederacies\",\"of\",\"distinct\",\"portions\",\"of\",\"the\",\"whole\",\"this\",\"doctrine\",\"will\",\"in\",\"all\",\"probability\",\"be\",\"gradually\",\"propagated\",\"till\",\"it\",\"has\",\"votaries\",\"enough\",\"to\",\"countenance\",\"an\",\"open\",\"avowal\",\"of\",\"it\",\"for\",\"nothing\",\"can\",\"be\",\"more\",\"evident\",\"to\",\"those\",\"who\",\"are\",\"able\",\"to\",\"take\",\"an\",\"enlarged\",\"view\",\"of\",\"the\",\"subject\",\"than\",\"the\",\"alternative\",\"of\",\"an\",\"adoption\",\"of\",\"the\",\"new\",\"constitution\",\"or\",\"a\",\"dismemberment\",\"of\",\"the\",\"union\",\"it\",\"will\",\"therefore\",\"be\",\"of\",\"use\",\"to\",\"begin\",\"by\",\"examining\",\"the\",\"advantages\",\"of\",\"that\",\"union\",\"the\",\"certain\",\"evils\",\"and\",\"the\",\"probable\",\"dangers\",\"to\",\"which\",\"every\",\"state\",\"will\",\"be\",\"exposed\",\"from\",\"its\",\"dissolution\",\"this\",\"shall\",\"accordingly\",\"constitute\",\"the\",\"subject\",\"of\",\"my\",\"next\",\"address\",\"publius\",\"the\",\"same\",\"idea\",\"tracing\",\"the\",\"arguments\",\"to\",\"their\",\"consequences\",\"is\",\"held\",\"out\",\"in\",\"several\",\"of\",\"the\",\"late\",\"publications\",\"against\",\"the\",\"new\",\"constitution\"]"
      ]
     },
     "metadata": {},
     "output_type": "display_data"
    }
   ],
   "source": [
    "firstWords"
   ]
  },
  {
   "cell_type": "code",
   "execution_count": 13,
   "metadata": {
    "collapsed": true
   },
   "outputs": [],
   "source": [
    "subseq start len = take len . drop start"
   ]
  },
  {
   "cell_type": "code",
   "execution_count": 14,
   "metadata": {
    "collapsed": false
   },
   "outputs": [
    {
     "data": {
      "text/html": [
       "<style>/* Styles used for the Hoogle display in the pager */\n",
       ".hoogle-doc {\n",
       "display: block;\n",
       "padding-bottom: 1.3em;\n",
       "padding-left: 0.4em;\n",
       "}\n",
       ".hoogle-code {\n",
       "display: block;\n",
       "font-family: monospace;\n",
       "white-space: pre;\n",
       "}\n",
       ".hoogle-text {\n",
       "display: block;\n",
       "}\n",
       ".hoogle-name {\n",
       "color: green;\n",
       "font-weight: bold;\n",
       "}\n",
       ".hoogle-head {\n",
       "font-weight: bold;\n",
       "}\n",
       ".hoogle-sub {\n",
       "display: block;\n",
       "margin-left: 0.4em;\n",
       "}\n",
       ".hoogle-package {\n",
       "font-weight: bold;\n",
       "font-style: italic;\n",
       "}\n",
       ".hoogle-module {\n",
       "font-weight: bold;\n",
       "}\n",
       ".hoogle-class {\n",
       "font-weight: bold;\n",
       "}\n",
       ".get-type {\n",
       "color: green;\n",
       "font-weight: bold;\n",
       "font-family: monospace;\n",
       "display: block;\n",
       "white-space: pre-wrap;\n",
       "}\n",
       ".show-type {\n",
       "color: green;\n",
       "font-weight: bold;\n",
       "font-family: monospace;\n",
       "margin-left: 1em;\n",
       "}\n",
       ".mono {\n",
       "font-family: monospace;\n",
       "display: block;\n",
       "}\n",
       ".err-msg {\n",
       "color: red;\n",
       "font-style: italic;\n",
       "font-family: monospace;\n",
       "white-space: pre;\n",
       "display: block;\n",
       "}\n",
       "#unshowable {\n",
       "color: red;\n",
       "font-weight: bold;\n",
       "}\n",
       ".err-msg.in.collapse {\n",
       "padding-top: 0.7em;\n",
       "}\n",
       ".highlight-code {\n",
       "white-space: pre;\n",
       "font-family: monospace;\n",
       "}\n",
       ".suggestion-warning { \n",
       "font-weight: bold;\n",
       "color: rgb(200, 130, 0);\n",
       "}\n",
       ".suggestion-error { \n",
       "font-weight: bold;\n",
       "color: red;\n",
       "}\n",
       ".suggestion-name {\n",
       "font-weight: bold;\n",
       "}\n",
       "</style><span class='get-type'>subseq :: forall a. Int -> Int -> [a] -> [a]</span>"
      ],
      "text/plain": [
       "subseq :: forall a. Int -> Int -> [a] -> [a]"
      ]
     },
     "metadata": {},
     "output_type": "display_data"
    }
   ],
   "source": [
    ":t subseq"
   ]
  },
  {
   "cell_type": "code",
   "execution_count": 16,
   "metadata": {
    "collapsed": false
   },
   "outputs": [
    {
     "data": {
      "text/plain": [
       "[\"to\",\"the\",\"people\"]"
      ]
     },
     "metadata": {},
     "output_type": "display_data"
    }
   ],
   "source": [
    "subseq 0 3 firstWords"
   ]
  },
  {
   "cell_type": "code",
   "execution_count": 17,
   "metadata": {
    "collapsed": false
   },
   "outputs": [
    {
     "data": {
      "text/plain": [
       "[\"the\",\"people\",\"of\"]"
      ]
     },
     "metadata": {},
     "output_type": "display_data"
    }
   ],
   "source": [
    "subseq 1 3 firstWords"
   ]
  },
  {
   "cell_type": "code",
   "execution_count": 18,
   "metadata": {
    "collapsed": false
   },
   "outputs": [
    {
     "data": {
      "text/plain": [
       "[\"people\",\"of\",\"the\"]"
      ]
     },
     "metadata": {},
     "output_type": "display_data"
    }
   ],
   "source": [
    "subseq 2 3 firstWords"
   ]
  },
  {
   "cell_type": "code",
   "execution_count": 19,
   "metadata": {
    "collapsed": true
   },
   "outputs": [],
   "source": [
    "ngrams listwords n = L.map (\\index -> unwords (subseq index n listwords)) [0..(length listwords - n)]"
   ]
  },
  {
   "cell_type": "code",
   "execution_count": 20,
   "metadata": {
    "collapsed": true
   },
   "outputs": [
    {
     "data": {
      "text/plain": [
       "[\"to the\",\"the people\",\"people of\",\"of the\",\"the state\",\"state of\",\"of new\",\"new york\",\"york after\",\"after an\",\"an unequivocal\",\"unequivocal experience\",\"experience of\",\"of the\",\"the inefficiency\",\"inefficiency of\",\"of the\",\"the subsisting\",\"subsisting federal\",\"federal government\",\"government you\",\"you are\",\"are called\",\"called upon\",\"upon to\",\"to deliberate\",\"deliberate on\",\"on a\",\"a new\",\"new constitution\",\"constitution for\",\"for the\",\"the united\",\"united states\",\"states of\",\"of america\",\"america the\",\"the subject\",\"subject speaks\",\"speaks its\",\"its own\",\"own importance\",\"importance comprehending\",\"comprehending in\",\"in its\",\"its consequences\",\"consequences nothing\",\"nothing less\",\"less than\",\"than the\",\"the existence\",\"existence of\",\"of the\",\"the union\",\"union the\",\"the safety\",\"safety and\",\"and welfare\",\"welfare of\",\"of the\",\"the parts\",\"parts of\",\"of which\",\"which it\",\"it is\",\"is composed\",\"composed the\",\"the fate\",\"fate of\",\"of an\",\"an empire\",\"empire in\",\"in many\",\"many respects\",\"respects the\",\"the most\",\"most interesting\",\"interesting in\",\"in the\",\"the world\",\"world it\",\"it has\",\"has been\",\"been frequently\",\"frequently remarked\",\"remarked that\",\"that it\",\"it seems\",\"seems to\",\"to have\",\"have been\",\"been reserved\",\"reserved to\",\"to the\",\"the people\",\"people of\",\"of this\",\"this country\",\"country by\",\"by their\",\"their conduct\",\"conduct and\",\"and example\",\"example to\",\"to decide\",\"decide the\",\"the important\",\"important question\",\"question whether\",\"whether societies\",\"societies of\",\"of men\",\"men are\",\"are really\",\"really capable\",\"capable or\",\"or not\",\"not of\",\"of establishing\",\"establishing good\",\"good government\",\"government from\",\"from reflection\",\"reflection and\",\"and choice\",\"choice or\",\"or whether\",\"whether they\",\"they are\",\"are forever\",\"forever destined\",\"destined to\",\"to depend\",\"depend for\",\"for their\",\"their political\",\"political constitutions\",\"constitutions on\",\"on accident\",\"accident and\",\"and force\",\"force if\",\"if there\",\"there be\",\"be any\",\"any truth\",\"truth in\",\"in the\",\"the remark\",\"remark the\",\"the crisis\",\"crisis at\",\"at which\",\"which we\",\"we are\",\"are arrived\",\"arrived may\",\"may with\",\"with propriety\",\"propriety be\",\"be regarded\",\"regarded as\",\"as the\",\"the era\",\"era in\",\"in which\",\"which that\",\"that decision\",\"decision is\",\"is to\",\"to be\",\"be made\",\"made and\",\"and a\",\"a wrong\",\"wrong election\",\"election of\",\"of the\",\"the part\",\"part we\",\"we shall\",\"shall act\",\"act may\",\"may in\",\"in this\",\"this view\",\"view deserve\",\"deserve to\",\"to be\",\"be considered\",\"considered as\",\"as the\",\"the general\",\"general misfortune\",\"misfortune of\",\"of mankind\",\"mankind this\",\"this idea\",\"idea will\",\"will add\",\"add the\",\"the inducements\",\"inducements of\",\"of philanthropy\",\"philanthropy to\",\"to those\",\"those of\",\"of patriotism\",\"patriotism to\",\"to heighten\",\"heighten the\",\"the solicitude\",\"solicitude which\",\"which all\",\"all considerate\",\"considerate and\",\"and good\",\"good men\",\"men must\",\"must feel\",\"feel for\",\"for the\",\"the event\",\"event happy\",\"happy will\",\"will it\",\"it be\",\"be if\",\"if our\",\"our choice\",\"choice should\",\"should be\",\"be directed\",\"directed by\",\"by a\",\"a judicious\",\"judicious estimate\",\"estimate of\",\"of our\",\"our true\",\"true interests\",\"interests unperplexed\",\"unperplexed and\",\"and unbiased\",\"unbiased by\",\"by considerations\",\"considerations not\",\"not connected\",\"connected with\",\"with the\",\"the public\",\"public good\",\"good but\",\"but this\",\"this is\",\"is a\",\"a thing\",\"thing more\",\"more ardently\",\"ardently to\",\"to be\",\"be wished\",\"wished than\",\"than seriously\",\"seriously to\",\"to be\",\"be expected\",\"expected the\",\"the plan\",\"plan offered\",\"offered to\",\"to our\",\"our deliberations\",\"deliberations affects\",\"affects too\",\"too many\",\"many particular\",\"particular interests\",\"interests innovates\",\"innovates upon\",\"upon too\",\"too many\",\"many local\",\"local institutions\",\"institutions not\",\"not to\",\"to involve\",\"involve in\",\"in its\",\"its discussion\",\"discussion a\",\"a variety\",\"variety of\",\"of objects\",\"objects foreign\",\"foreign to\",\"to its\",\"its merits\",\"merits and\",\"and of\",\"of views\",\"views passions\",\"passions and\",\"and prejudices\",\"prejudices little\",\"little favorable\",\"favorable to\",\"to the\",\"the discovery\",\"discovery of\",\"of truth\",\"truth among\",\"among the\",\"the most\",\"most formidable\",\"formidable of\",\"of the\",\"the obstacles\",\"obstacles which\",\"which the\",\"the new\",\"new constitution\",\"constitution will\",\"will have\",\"have to\",\"to encounter\",\"encounter may\",\"may readily\",\"readily be\",\"be distinguished\",\"distinguished the\",\"the obvious\",\"obvious interest\",\"interest of\",\"of a\",\"a certain\",\"certain class\",\"class of\",\"of men\",\"men in\",\"in every\",\"every state\",\"state to\",\"to resist\",\"resist all\",\"all changes\",\"changes which\",\"which may\",\"may hazard\",\"hazard a\",\"a diminution\",\"diminution of\",\"of the\",\"the power\",\"power emolument\",\"emolument and\",\"and consequence\",\"consequence of\",\"of the\",\"the offices\",\"offices they\",\"they hold\",\"hold under\",\"under the\",\"the state\",\"state establishments\",\"establishments and\",\"and the\",\"the perverted\",\"perverted ambition\",\"ambition of\",\"of another\",\"another class\",\"class of\",\"of men\",\"men who\",\"who will\",\"will either\",\"either hope\",\"hope to\",\"to aggrandize\",\"aggrandize themselves\",\"themselves by\",\"by the\",\"the confusions\",\"confusions of\",\"of their\",\"their country\",\"country or\",\"or will\",\"will flatter\",\"flatter themselves\",\"themselves with\",\"with fairer\",\"fairer prospects\",\"prospects of\",\"of elevation\",\"elevation from\",\"from the\",\"the subdivision\",\"subdivision of\",\"of the\",\"the empire\",\"empire into\",\"into several\",\"several partial\",\"partial confederacies\",\"confederacies than\",\"than from\",\"from its\",\"its union\",\"union under\",\"under one\",\"one government\",\"government it\",\"it is\",\"is not\",\"not however\",\"however my\",\"my design\",\"design to\",\"to dwell\",\"dwell upon\",\"upon observations\",\"observations of\",\"of this\",\"this nature\",\"nature i\",\"i am\",\"am well\",\"well aware\",\"aware that\",\"that it\",\"it would\",\"would be\",\"be disingenuous\",\"disingenuous to\",\"to resolve\",\"resolve indiscriminately\",\"indiscriminately the\",\"the opposition\",\"opposition of\",\"of any\",\"any set\",\"set of\",\"of men\",\"men merely\",\"merely because\",\"because their\",\"their situations\",\"situations might\",\"might subject\",\"subject them\",\"them to\",\"to suspicion\",\"suspicion into\",\"into interested\",\"interested or\",\"or ambitious\",\"ambitious views\",\"views candor\",\"candor will\",\"will oblige\",\"oblige us\",\"us to\",\"to admit\",\"admit that\",\"that even\",\"even such\",\"such men\",\"men may\",\"may be\",\"be actuated\",\"actuated by\",\"by upright\",\"upright intentions\",\"intentions and\",\"and it\",\"it cannot\",\"cannot be\",\"be doubted\",\"doubted that\",\"that much\",\"much of\",\"of the\",\"the opposition\",\"opposition which\",\"which has\",\"has made\",\"made its\",\"its appearance\",\"appearance or\",\"or may\",\"may hereafter\",\"hereafter make\",\"make its\",\"its appearance\",\"appearance will\",\"will spring\",\"spring from\",\"from sources\",\"sources blameless\",\"blameless at\",\"at least\",\"least if\",\"if not\",\"not respectablethe\",\"respectablethe honest\",\"honest errors\",\"errors of\",\"of minds\",\"minds led\",\"led astray\",\"astray by\",\"by preconceived\",\"preconceived jealousies\",\"jealousies and\",\"and fears\",\"fears so\",\"so numerous\",\"numerous indeed\",\"indeed and\",\"and so\",\"so powerful\",\"powerful are\",\"are the\",\"the causes\",\"causes which\",\"which serve\",\"serve to\",\"to give\",\"give a\",\"a false\",\"false bias\",\"bias to\",\"to the\",\"the judgment\",\"judgment that\",\"that we\",\"we upon\",\"upon many\",\"many occasions\",\"occasions see\",\"see wise\",\"wise and\",\"and good\",\"good men\",\"men on\",\"on the\",\"the wrong\",\"wrong as\",\"as well\",\"well as\",\"as on\",\"on the\",\"the right\",\"right side\",\"side of\",\"of questions\",\"questions of\",\"of the\",\"the first\",\"first magnitude\",\"magnitude to\",\"to society\",\"society this\",\"this circumstance\",\"circumstance if\",\"if duly\",\"duly attended\",\"attended to\",\"to would\",\"would furnish\",\"furnish a\",\"a lesson\",\"lesson of\",\"of moderation\",\"moderation to\",\"to those\",\"those who\",\"who are\",\"are ever\",\"ever so\",\"so much\",\"much persuaded\",\"persuaded of\",\"of their\",\"their being\",\"being in\",\"in the\",\"the right\",\"right in\",\"in any\",\"any controversy\",\"controversy and\",\"and a\",\"a further\",\"further reason\",\"reason for\",\"for caution\",\"caution in\",\"in this\",\"this respect\",\"respect might\",\"might be\",\"be drawn\",\"drawn from\",\"from the\",\"the reflection\",\"reflection that\",\"that we\",\"we are\",\"are not\",\"not always\",\"always sure\",\"sure that\",\"that those\",\"those who\",\"who advocate\",\"advocate the\",\"the truth\",\"truth are\",\"are influenced\",\"influenced by\",\"by purer\",\"purer principles\",\"principles than\",\"than their\",\"their antagonists\",\"antagonists ambition\",\"ambition avarice\",\"avarice personal\",\"personal animosity\",\"animosity party\",\"party opposition\",\"opposition and\",\"and many\",\"many other\",\"other motives\",\"motives not\",\"not more\",\"more laudable\",\"laudable than\",\"than these\",\"these are\",\"are apt\",\"apt to\",\"to operate\",\"operate as\",\"as well\",\"well upon\",\"upon those\",\"those who\",\"who support\",\"support as\",\"as those\",\"those who\",\"who oppose\",\"oppose the\",\"the right\",\"right side\",\"side of\",\"of a\",\"a question\",\"question were\",\"were there\",\"there not\",\"not even\",\"even these\",\"these inducements\",\"inducements to\",\"to moderation\",\"moderation nothing\",\"nothing could\",\"could be\",\"be more\",\"more illjudged\",\"illjudged than\",\"than that\",\"that intolerant\",\"intolerant spirit\",\"spirit which\",\"which has\",\"has at\",\"at all\",\"all times\",\"times characterized\",\"characterized political\",\"political parties\",\"parties for\",\"for in\",\"in politics\",\"politics as\",\"as in\",\"in religion\",\"religion it\",\"it is\",\"is equally\",\"equally absurd\",\"absurd to\",\"to aim\",\"aim at\",\"at making\",\"making proselytes\",\"proselytes by\",\"by fire\",\"fire and\",\"and sword\",\"sword heresies\",\"heresies in\",\"in either\",\"either can\",\"can rarely\",\"rarely be\",\"be cured\",\"cured by\",\"by persecution\",\"persecution and\",\"and yet\",\"yet however\",\"however just\",\"just these\",\"these sentiments\",\"sentiments will\",\"will be\",\"be allowed\",\"allowed to\",\"to be\",\"be we\",\"we have\",\"have already\",\"already sufficient\",\"sufficient indications\",\"indications that\",\"that it\",\"it will\",\"will happen\",\"happen in\",\"in this\",\"this as\",\"as in\",\"in all\",\"all former\",\"former cases\",\"cases of\",\"of great\",\"great national\",\"national discussion\",\"discussion a\",\"a torrent\",\"torrent of\",\"of angry\",\"angry and\",\"and malignant\",\"malignant passions\",\"passions will\",\"will be\",\"be let\",\"let loose\",\"loose to\",\"to judge\",\"judge from\",\"from the\",\"the conduct\",\"conduct of\",\"of the\",\"the opposite\",\"opposite parties\",\"parties we\",\"we shall\",\"shall be\",\"be led\",\"led to\",\"to conclude\",\"conclude that\",\"that they\",\"they will\",\"will mutually\",\"mutually hope\",\"hope to\",\"to evince\",\"evince the\",\"the justness\",\"justness of\",\"of their\",\"their opinions\",\"opinions and\",\"and to\",\"to increase\",\"increase the\",\"the number\",\"number of\",\"of their\",\"their converts\",\"converts by\",\"by the\",\"the loudness\",\"loudness of\",\"of their\",\"their declamations\",\"declamations and\",\"and the\",\"the bitterness\",\"bitterness of\",\"of their\",\"their invectives\",\"invectives an\",\"an enlightened\",\"enlightened zeal\",\"zeal for\",\"for the\",\"the energy\",\"energy and\",\"and efficiency\",\"efficiency of\",\"of government\",\"government will\",\"will be\",\"be stigmatized\",\"stigmatized as\",\"as the\",\"the offspring\",\"offspring of\",\"of a\",\"a temper\",\"temper fond\",\"fond of\",\"of despotic\",\"despotic power\",\"power and\",\"and hostile\",\"hostile to\",\"to the\",\"the principles\",\"principles of\",\"of liberty\",\"liberty an\",\"an overscrupulous\",\"overscrupulous jealousy\",\"jealousy of\",\"of danger\",\"danger to\",\"to the\",\"the rights\",\"rights of\",\"of the\",\"the people\",\"people which\",\"which is\",\"is more\",\"more commonly\",\"commonly the\",\"the fault\",\"fault of\",\"of the\",\"the head\",\"head than\",\"than of\",\"of the\",\"the heart\",\"heart will\",\"will be\",\"be represented\",\"represented as\",\"as mere\",\"mere pretense\",\"pretense and\",\"and artifice\",\"artifice the\",\"the stale\",\"stale bait\",\"bait for\",\"for popularity\",\"popularity at\",\"at the\",\"the expense\",\"expense of\",\"of the\",\"the public\",\"public good\",\"good it\",\"it will\",\"will be\",\"be forgotten\",\"forgotten on\",\"on the\",\"the one\",\"one hand\",\"hand that\",\"that jealousy\",\"jealousy is\",\"is the\",\"the usual\",\"usual concomitant\",\"concomitant of\",\"of love\",\"love and\",\"and that\",\"that the\",\"the noble\",\"noble enthusiasm\",\"enthusiasm of\",\"of liberty\",\"liberty is\",\"is apt\",\"apt to\",\"to be\",\"be infected\",\"infected with\",\"with a\",\"a spirit\",\"spirit of\",\"of narrow\",\"narrow and\",\"and illiberal\",\"illiberal distrust\",\"distrust on\",\"on the\",\"the other\",\"other hand\",\"hand it\",\"it will\",\"will be\",\"be equally\",\"equally forgotten\",\"forgotten that\",\"that the\",\"the vigor\",\"vigor of\",\"of government\",\"government is\",\"is essential\",\"essential to\",\"to the\",\"the security\",\"security of\",\"of liberty\",\"liberty that\",\"that in\",\"in the\",\"the contemplation\",\"contemplation of\",\"of a\",\"a sound\",\"sound and\",\"and wellinformed\",\"wellinformed judgment\",\"judgment their\",\"their interest\",\"interest can\",\"can never\",\"never be\",\"be separated\",\"separated and\",\"and that\",\"that a\",\"a dangerous\",\"dangerous ambition\",\"ambition more\",\"more often\",\"often lurks\",\"lurks behind\",\"behind the\",\"the specious\",\"specious mask\",\"mask of\",\"of zeal\",\"zeal for\",\"for the\",\"the rights\",\"rights of\",\"of the\",\"the people\",\"people than\",\"than under\",\"under the\",\"the forbidden\",\"forbidden appearance\",\"appearance of\",\"of zeal\",\"zeal for\",\"for the\",\"the firmness\",\"firmness and\",\"and efficiency\",\"efficiency of\",\"of government\",\"government history\",\"history will\",\"will teach\",\"teach us\",\"us that\",\"that the\",\"the former\",\"former has\",\"has been\",\"been found\",\"found a\",\"a much\",\"much more\",\"more certain\",\"certain road\",\"road to\",\"to the\",\"the introduction\",\"introduction of\",\"of despotism\",\"despotism than\",\"than the\",\"the latter\",\"latter and\",\"and that\",\"that of\",\"of those\",\"those men\",\"men who\",\"who have\",\"have overturned\",\"overturned the\",\"the liberties\",\"liberties of\",\"of republics\",\"republics the\",\"the greatest\",\"greatest number\",\"number have\",\"have begun\",\"begun their\",\"their career\",\"career by\",\"by paying\",\"paying an\",\"an obsequious\",\"obsequious court\",\"court to\",\"to the\",\"the people\",\"people commencing\",\"commencing demagogues\",\"demagogues and\",\"and ending\",\"ending tyrants\",\"tyrants in\",\"in the\",\"the course\",\"course of\",\"of the\",\"the preceding\",\"preceding observations\",\"observations i\",\"i have\",\"have had\",\"had an\",\"an eye\",\"eye my\",\"my fellowcitizens\",\"fellowcitizens to\",\"to putting\",\"putting you\",\"you upon\",\"upon your\",\"your guard\",\"guard against\",\"against all\",\"all attempts\",\"attempts from\",\"from whatever\",\"whatever quarter\",\"quarter to\",\"to influence\",\"influence your\",\"your decision\",\"decision in\",\"in a\",\"a matter\",\"matter of\",\"of the\",\"the utmost\",\"utmost moment\",\"moment to\",\"to your\",\"your welfare\",\"welfare by\",\"by any\",\"any impressions\",\"impressions other\",\"other than\",\"than those\",\"those which\",\"which may\",\"may result\",\"result from\",\"from the\",\"the evidence\",\"evidence of\",\"of truth\",\"truth you\",\"you will\",\"will no\",\"no doubt\",\"doubt at\",\"at the\",\"the same\",\"same time\",\"time have\",\"have collected\",\"collected from\",\"from the\",\"the general\",\"general scope\",\"scope of\",\"of them\",\"them that\",\"that they\",\"they proceed\",\"proceed from\",\"from a\",\"a source\",\"source not\",\"not unfriendly\",\"unfriendly to\",\"to the\",\"the new\",\"new constitution\",\"constitution yes\",\"yes my\",\"my countrymen\",\"countrymen i\",\"i own\",\"own to\",\"to you\",\"you that\",\"that after\",\"after having\",\"having given\",\"given it\",\"it an\",\"an attentive\",\"attentive consideration\",\"consideration i\",\"i am\",\"am clearly\",\"clearly of\",\"of opinion\",\"opinion it\",\"it is\",\"is your\",\"your interest\",\"interest to\",\"to adopt\",\"adopt it\",\"it i\",\"i am\",\"am convinced\",\"convinced that\",\"that this\",\"this is\",\"is the\",\"the safest\",\"safest course\",\"course for\",\"for your\",\"your liberty\",\"liberty your\",\"your dignity\",\"dignity and\",\"and your\",\"your happiness\",\"happiness i\",\"i affect\",\"affect not\",\"not reserves\",\"reserves which\",\"which i\",\"i do\",\"do not\",\"not feel\",\"feel i\",\"i will\",\"will not\",\"not amuse\",\"amuse you\",\"you with\",\"with an\",\"an appearance\",\"appearance of\",\"of deliberation\",\"deliberation when\",\"when i\",\"i have\",\"have decided\",\"decided i\",\"i frankly\",\"frankly acknowledge\",\"acknowledge to\",\"to you\",\"you my\",\"my convictions\",\"convictions and\",\"and i\",\"i will\",\"will freely\",\"freely lay\",\"lay before\",\"before you\",\"you the\",\"the reasons\",\"reasons on\",\"on which\",\"which they\",\"they are\",\"are founded\",\"founded the\",\"the consciousness\",\"consciousness of\",\"of good\",\"good intentions\",\"intentions disdains\",\"disdains ambiguity\",\"ambiguity i\",\"i shall\",\"shall not\",\"not however\",\"however multiply\",\"multiply professions\",\"professions on\",\"on this\",\"this head\",\"head my\",\"my motives\",\"motives must\",\"must remain\",\"remain in\",\"in the\",\"the depository\",\"depository of\",\"of my\",\"my own\",\"own breast\",\"breast my\",\"my arguments\",\"arguments will\",\"will be\",\"be open\",\"open to\",\"to all\",\"all and\",\"and may\",\"may be\",\"be judged\",\"judged of\",\"of by\",\"by all\",\"all they\",\"they shall\",\"shall at\",\"at least\",\"least be\",\"be offered\",\"offered in\",\"in a\",\"a spirit\",\"spirit which\",\"which will\",\"will not\",\"not disgrace\",\"disgrace the\",\"the cause\",\"cause of\",\"of truth\",\"truth i\",\"i propose\",\"propose in\",\"in a\",\"a series\",\"series of\",\"of papers\",\"papers to\",\"to discuss\",\"discuss the\",\"the following\",\"following interesting\",\"interesting particulars\",\"particulars the\",\"the utility\",\"utility of\",\"of the\",\"the union\",\"union to\",\"to your\",\"your political\",\"political prosperity\",\"prosperity the\",\"the insufficiency\",\"insufficiency of\",\"of the\",\"the present\",\"present confederation\",\"confederation to\",\"to preserve\",\"preserve that\",\"that union\",\"union the\",\"the necessity\",\"necessity of\",\"of a\",\"a government\",\"government at\",\"at least\",\"least equally\",\"equally energetic\",\"energetic with\",\"with the\",\"the one\",\"one proposed\",\"proposed to\",\"to the\",\"the attainment\",\"attainment of\",\"of this\",\"this object\",\"object the\",\"the conformity\",\"conformity of\",\"of the\",\"the proposed\",\"proposed constitution\",\"constitution to\",\"to the\",\"the true\",\"true principles\",\"principles of\",\"of republican\",\"republican government\",\"government its\",\"its analogy\",\"analogy to\",\"to your\",\"your own\",\"own state\",\"state constitution\",\"constitution and\",\"and lastly\",\"lastly the\",\"the additional\",\"additional security\",\"security which\",\"which its\",\"its adoption\",\"adoption will\",\"will afford\",\"afford to\",\"to the\",\"the preservation\",\"preservation of\",\"of that\",\"that species\",\"species of\",\"of government\",\"government to\",\"to liberty\",\"liberty and\",\"and to\",\"to property\",\"property in\",\"in the\",\"the progress\",\"progress of\",\"of this\",\"this discussion\",\"discussion i\",\"i shall\",\"shall endeavor\",\"endeavor to\",\"to give\",\"give a\",\"a satisfactory\",\"satisfactory answer\",\"answer to\",\"to all\",\"all the\",\"the objections\",\"objections which\",\"which shall\",\"shall have\",\"have made\",\"made their\",\"their appearance\",\"appearance that\",\"that may\",\"may seem\",\"seem to\",\"to have\",\"have any\",\"any claim\",\"claim to\",\"to your\",\"your attention\",\"attention it\",\"it may\",\"may perhaps\",\"perhaps be\",\"be thought\",\"thought superfluous\",\"superfluous to\",\"to offer\",\"offer arguments\",\"arguments to\",\"to prove\",\"prove the\",\"the utility\",\"utility of\",\"of the\",\"the union\",\"union a\",\"a point\",\"point no\",\"no doubt\",\"doubt deeply\",\"deeply engraved\",\"engraved on\",\"on the\",\"the hearts\",\"hearts of\",\"of the\",\"the great\",\"great body\",\"body of\",\"of the\",\"the people\",\"people in\",\"in every\",\"every state\",\"state and\",\"and one\",\"one which\",\"which it\",\"it may\",\"may be\",\"be imagined\",\"imagined has\",\"has no\",\"no adversaries\",\"adversaries but\",\"but the\",\"the fact\",\"fact is\",\"is that\",\"that we\",\"we already\",\"already hear\",\"hear it\",\"it whispered\",\"whispered in\",\"in the\",\"the private\",\"private circles\",\"circles of\",\"of those\",\"those who\",\"who oppose\",\"oppose the\",\"the new\",\"new constitution\",\"constitution that\",\"that the\",\"the thirteen\",\"thirteen states\",\"states are\",\"are of\",\"of too\",\"too great\",\"great extent\",\"extent for\",\"for any\",\"any general\",\"general system\",\"system and\",\"and that\",\"that we\",\"we must\",\"must of\",\"of necessity\",\"necessity resort\",\"resort to\",\"to separate\",\"separate confederacies\",\"confederacies of\",\"of distinct\",\"distinct portions\",\"portions of\",\"of the\",\"the whole\",\"whole this\",\"this doctrine\",\"doctrine will\",\"will in\",\"in all\",\"all probability\",\"probability be\",\"be gradually\",\"gradually propagated\",\"propagated till\",\"till it\",\"it has\",\"has votaries\",\"votaries enough\",\"enough to\",\"to countenance\",\"countenance an\",\"an open\",\"open avowal\",\"avowal of\",\"of it\",\"it for\",\"for nothing\",\"nothing can\",\"can be\",\"be more\",\"more evident\",\"evident to\",\"to those\",\"those who\",\"who are\",\"are able\",\"able to\",\"to take\",\"take an\",\"an enlarged\",\"enlarged view\",\"view of\",\"of the\",\"the subject\",\"subject than\",\"than the\",\"the alternative\",\"alternative of\",\"of an\",\"an adoption\",\"adoption of\",\"of the\",\"the new\",\"new constitution\",\"constitution or\",\"or a\",\"a dismemberment\",\"dismemberment of\",\"of the\",\"the union\",\"union it\",\"it will\",\"will therefore\",\"therefore be\",\"be of\",\"of use\",\"use to\",\"to begin\",\"begin by\",\"by examining\",\"examining the\",\"the advantages\",\"advantages of\",\"of that\",\"that union\",\"union the\",\"the certain\",\"certain evils\",\"evils and\",\"and the\",\"the probable\",\"probable dangers\",\"dangers to\",\"to which\",\"which every\",\"every state\",\"state will\",\"will be\",\"be exposed\",\"exposed from\",\"from its\",\"its dissolution\",\"dissolution this\",\"this shall\",\"shall accordingly\",\"accordingly constitute\",\"constitute the\",\"the subject\",\"subject of\",\"of my\",\"my next\",\"next address\",\"address publius\",\"publius the\",\"the same\",\"same idea\",\"idea tracing\",\"tracing the\",\"the arguments\",\"arguments to\",\"to their\",\"their consequences\",\"consequences is\",\"is held\",\"held out\",\"out in\",\"in several\",\"several of\",\"of the\",\"the late\",\"late publications\",\"publications against\",\"against the\",\"the new\",\"new constitution\"]"
      ]
     },
     "metadata": {},
     "output_type": "display_data"
    }
   ],
   "source": [
    "ngrams firstWords 2"
   ]
  },
  {
   "cell_type": "code",
   "execution_count": 21,
   "metadata": {
    "collapsed": true
   },
   "outputs": [],
   "source": [
    "oneMap = L.foldl (\\mymap ngram -> insertWith (+) ngram 1.0 mymap) empty (ngrams firstWords 2)"
   ]
  },
  {
   "cell_type": "code",
   "execution_count": 22,
   "metadata": {
    "collapsed": true
   },
   "outputs": [
    {
     "data": {
      "text/plain": [
       "fromList [(\"their conduct\",1.0),(\"alternative of\",1.0),(\"accident and\",1.0),(\"an enlightened\",1.0),(\"be gradually\",1.0),(\"to which\",1.0),(\"to begin\",1.0),(\"of government\",4.0),(\"constitution for\",1.0),(\"of papers\",1.0),(\"nothing could\",1.0),(\"on which\",1.0),(\"convinced that\",1.0),(\"of questions\",1.0),(\"affects too\",1.0),(\"to would\",1.0),(\"offered to\",1.0),(\"spirit which\",2.0),(\"aggrandize themselves\",1.0),(\"union a\",1.0),(\"liberties of\",1.0),(\"lastly the\",1.0),(\"and many\",1.0),(\"people of\",2.0),(\"the contemplation\",1.0),(\"men merely\",1.0),(\"to admit\",1.0),(\"a series\",1.0),(\"do not\",1.0),(\"the confusions\",1.0),(\"in all\",2.0),(\"but the\",1.0),(\"the opposite\",1.0),(\"the course\",1.0),(\"union to\",1.0),(\"the attainment\",1.0),(\"its merits\",1.0),(\"popularity at\",1.0),(\"i affect\",1.0),(\"the following\",1.0),(\"however my\",1.0),(\"might be\",1.0),(\"persecution and\",1.0),(\"cause of\",1.0),(\"of truth\",3.0),(\"having given\",1.0),(\"first magnitude\",1.0),(\"rights of\",2.0),(\"objects foreign\",1.0),(\"union the\",3.0),(\"views passions\",1.0),(\"of those\",2.0),(\"less than\",1.0),(\"motives must\",1.0),(\"object the\",1.0),(\"address publius\",1.0),(\"the liberties\",1.0),(\"interest can\",1.0),(\"certain road\",1.0),(\"should be\",1.0),(\"of narrow\",1.0),(\"we already\",1.0),(\"had an\",1.0),(\"illiberal distrust\",1.0),(\"may perhaps\",1.0),(\"the alternative\",1.0),(\"jealousy is\",1.0),(\"in either\",1.0),(\"drawn from\",1.0),(\"loudness of\",1.0),(\"adversaries but\",1.0),(\"constitution yes\",1.0),(\"government you\",1.0),(\"they are\",2.0),(\"energetic with\",1.0),(\"this is\",2.0),(\"government to\",1.0),(\"forgotten that\",1.0),(\"teach us\",1.0),(\"remark the\",1.0),(\"the advantages\",1.0),(\"publius the\",1.0),(\"is held\",1.0),(\"parties for\",1.0),(\"magnitude to\",1.0),(\"led astray\",1.0),(\"the security\",1.0),(\"has no\",1.0),(\"of love\",1.0),(\"yes my\",1.0),(\"to heighten\",1.0),(\"held out\",1.0),(\"and prejudices\",1.0),(\"i have\",2.0),(\"which is\",1.0),(\"the noble\",1.0),(\"this idea\",1.0),(\"is equally\",1.0),(\"part we\",1.0),(\"my convictions\",1.0),(\"will add\",1.0),(\"must feel\",1.0),(\"discovery of\",1.0),(\"thirteen states\",1.0),(\"that species\",1.0),(\"shall be\",1.0),(\"the general\",2.0),(\"the inefficiency\",1.0),(\"decided i\",1.0),(\"government history\",1.0),(\"the same\",2.0),(\"disgrace the\",1.0),(\"particulars the\",1.0),(\"country by\",1.0),(\"been frequently\",1.0),(\"men in\",1.0),(\"hostile to\",1.0),(\"your decision\",1.0),(\"hope to\",2.0),(\"forgotten on\",1.0),(\"your welfare\",1.0),(\"which its\",1.0),(\"extent for\",1.0),(\"result from\",1.0),(\"to its\",1.0),(\"a dangerous\",1.0),(\"commencing demagogues\",1.0),(\"is apt\",1.0),(\"appearance of\",2.0),(\"an appearance\",1.0),(\"which will\",1.0),(\"consideration i\",1.0),(\"to preserve\",1.0),(\"of opinion\",1.0),(\"not even\",1.0),(\"more certain\",1.0),(\"obstacles which\",1.0),(\"societies of\",1.0),(\"advantages of\",1.0),(\"evince the\",1.0),(\"bait for\",1.0),(\"of views\",1.0),(\"states of\",1.0),(\"found a\",1.0),(\"your interest\",1.0),(\"security which\",1.0),(\"lurks behind\",1.0),(\"and wellinformed\",1.0),(\"america the\",1.0),(\"dignity and\",1.0),(\"road to\",1.0),(\"stale bait\",1.0),(\"be imagined\",1.0),(\"for their\",1.0),(\"unperplexed and\",1.0),(\"the great\",1.0),(\"the consciousness\",1.0),(\"deliberation when\",1.0),(\"people in\",1.0),(\"happiness i\",1.0),(\"evidence of\",1.0),(\"that union\",2.0),(\"liberty an\",1.0),(\"of that\",2.0),(\"in many\",1.0),(\"partial confederacies\",1.0),(\"resort to\",1.0),(\"many particular\",1.0),(\"if not\",1.0),(\"upon too\",1.0),(\"liberty and\",1.0),(\"am well\",1.0),(\"truth you\",1.0),(\"we are\",2.0),(\"artifice the\",1.0),(\"whispered in\",1.0),(\"the stale\",1.0),(\"much of\",1.0),(\"passions will\",1.0),(\"a government\",1.0),(\"the insufficiency\",1.0),(\"founded the\",1.0),(\"and fears\",1.0),(\"much more\",1.0),(\"insufficiency of\",1.0),(\"reasons on\",1.0),(\"of another\",1.0),(\"the obvious\",1.0),(\"a wrong\",1.0),(\"and good\",2.0),(\"to be\",6.0),(\"will have\",1.0),(\"who are\",2.0),(\"establishing good\",1.0),(\"so powerful\",1.0),(\"inducements of\",1.0),(\"under one\",1.0),(\"gradually propagated\",1.0),(\"many respects\",1.0),(\"republics the\",1.0),(\"of good\",1.0),(\"necessity of\",1.0),(\"or a\",1.0),(\"not respectablethe\",1.0),(\"public good\",2.0),(\"state of\",1.0),(\"hand that\",1.0),(\"matter of\",1.0),(\"from its\",2.0),(\"mankind this\",1.0),(\"subject them\",1.0),(\"putting you\",1.0),(\"influence your\",1.0),(\"not always\",1.0),(\"given it\",1.0),(\"much persuaded\",1.0),(\"national discussion\",1.0),(\"constitution and\",1.0),(\"good intentions\",1.0),(\"it for\",1.0),(\"the truth\",1.0),(\"all and\",1.0),(\"honest errors\",1.0),(\"in which\",1.0),(\"the perverted\",1.0),(\"however multiply\",1.0),(\"opinions and\",1.0),(\"would be\",1.0),(\"not reserves\",1.0),(\"your happiness\",1.0),(\"the reasons\",1.0),(\"their invectives\",1.0),(\"and that\",4.0),(\"the people\",6.0),(\"to you\",2.0),(\"from whatever\",1.0),(\"equally forgotten\",1.0),(\"the late\",1.0),(\"idea tracing\",1.0),(\"countrymen i\",1.0),(\"opposition of\",1.0),(\"this circumstance\",1.0),(\"the remark\",1.0),(\"duly attended\",1.0),(\"introduction of\",1.0),(\"innovates upon\",1.0),(\"interesting in\",1.0),(\"body of\",1.0),(\"government from\",1.0),(\"sword heresies\",1.0),(\"noble enthusiasm\",1.0),(\"decision in\",1.0),(\"fire and\",1.0),(\"it has\",2.0),(\"an empire\",1.0),(\"thing more\",1.0),(\"obvious interest\",1.0),(\"one which\",1.0),(\"animosity party\",1.0),(\"good men\",2.0),(\"the new\",5.0),(\"themselves by\",1.0),(\"dangerous ambition\",1.0),(\"quarter to\",1.0),(\"whole this\",1.0),(\"people commencing\",1.0),(\"jealousy of\",1.0),(\"begun their\",1.0),(\"their situations\",1.0),(\"have collected\",1.0),(\"candor will\",1.0),(\"that intolerant\",1.0),(\"emolument and\",1.0),(\"york after\",1.0),(\"of america\",1.0),(\"offspring of\",1.0),(\"adoption of\",1.0),(\"commonly the\",1.0),(\"latter and\",1.0),(\"dissolution this\",1.0),(\"your attention\",1.0),(\"laudable than\",1.0),(\"time have\",1.0),(\"pretense and\",1.0),(\"many other\",1.0),(\"to depend\",1.0),(\"of their\",6.0),(\"which they\",1.0),(\"enough to\",1.0),(\"proselytes by\",1.0),(\"to resolve\",1.0),(\"number have\",1.0),(\"claim to\",1.0),(\"a further\",1.0),(\"will either\",1.0),(\"own state\",1.0),(\"a certain\",1.0),(\"no doubt\",2.0),(\"this view\",1.0),(\"scope of\",1.0),(\"several of\",1.0),(\"judgment that\",1.0),(\"the first\",1.0),(\"interests unperplexed\",1.0),(\"expense of\",1.0),(\"more laudable\",1.0),(\"that they\",2.0),(\"judge from\",1.0),(\"and so\",1.0),(\"act may\",1.0),(\"most interesting\",1.0),(\"the judgment\",1.0),(\"if there\",1.0),(\"controversy and\",1.0),(\"fault of\",1.0),(\"are the\",1.0),(\"will be\",8.0),(\"energy and\",1.0),(\"favorable to\",1.0),(\"question were\",1.0),(\"same idea\",1.0),(\"before you\",1.0),(\"i do\",1.0),(\"greatest number\",1.0),(\"the evidence\",1.0),(\"states are\",1.0),(\"may in\",1.0),(\"principles than\",1.0),(\"cured by\",1.0),(\"well as\",1.0),(\"be stigmatized\",1.0),(\"than that\",1.0),(\"parties we\",1.0),(\"add the\",1.0),(\"well upon\",1.0),(\"caution in\",1.0),(\"can never\",1.0),(\"circumstance if\",1.0),(\"all former\",1.0),(\"many local\",1.0),(\"probability be\",1.0),(\"confederacies of\",1.0),(\"plan offered\",1.0),(\"the union\",4.0),(\"and may\",1.0),(\"your liberty\",1.0),(\"indications that\",1.0),(\"state constitution\",1.0),(\"merely because\",1.0),(\"fairer prospects\",1.0),(\"comprehending in\",1.0),(\"constitution that\",1.0),(\"impressions other\",1.0),(\"at least\",3.0),(\"have been\",1.0),(\"election of\",1.0),(\"am clearly\",1.0),(\"men who\",2.0),(\"be actuated\",1.0),(\"the reflection\",1.0),(\"all probability\",1.0),(\"particular interests\",1.0),(\"affect not\",1.0),(\"your political\",1.0),(\"the part\",1.0),(\"furnish a\",1.0),(\"at which\",1.0),(\"heart will\",1.0),(\"made and\",1.0),(\"to your\",4.0),(\"preceding observations\",1.0),(\"government at\",1.0),(\"danger to\",1.0),(\"property in\",1.0),(\"false bias\",1.0),(\"be disingenuous\",1.0),(\"rarely be\",1.0),(\"general misfortune\",1.0),(\"wrong election\",1.0),(\"as well\",2.0),(\"nature i\",1.0),(\"wellinformed judgment\",1.0),(\"against the\",1.0),(\"federal government\",1.0),(\"formidable of\",1.0),(\"of republics\",1.0),(\"considerate and\",1.0),(\"liberty that\",1.0),(\"source not\",1.0),(\"the whole\",1.0),(\"interested or\",1.0),(\"a much\",1.0),(\"judgment their\",1.0),(\"respectablethe honest\",1.0),(\"is composed\",1.0),(\"than the\",3.0),(\"not amuse\",1.0),(\"doubted that\",1.0),(\"court to\",1.0),(\"convictions and\",1.0),(\"to take\",1.0),(\"all the\",1.0),(\"to aim\",1.0),(\"my design\",1.0),(\"a temper\",1.0),(\"the vigor\",1.0),(\"till it\",1.0),(\"other hand\",1.0),(\"another class\",1.0),(\"might subject\",1.0),(\"an enlarged\",1.0),(\"blameless at\",1.0),(\"intolerant spirit\",1.0),(\"times characterized\",1.0),(\"usual concomitant\",1.0),(\"the preservation\",1.0),(\"their political\",1.0),(\"will no\",1.0),(\"discussion a\",2.0),(\"depository of\",1.0),(\"there not\",1.0),(\"seem to\",1.0),(\"the safety\",1.0),(\"were there\",1.0),(\"answer to\",1.0),(\"or will\",1.0),(\"fate of\",1.0),(\"to moderation\",1.0),(\"be directed\",1.0),(\"to increase\",1.0),(\"adopt it\",1.0),(\"your own\",1.0),(\"upon observations\",1.0),(\"security of\",1.0),(\"true interests\",1.0),(\"nothing can\",1.0),(\"feel for\",1.0),(\"are called\",1.0),(\"of our\",1.0),(\"sufficient indications\",1.0),(\"really capable\",1.0),(\"be we\",1.0),(\"on this\",1.0),(\"a variety\",1.0),(\"to prove\",1.0),(\"the expense\",1.0),(\"these sentiments\",1.0),(\"with the\",2.0),(\"may with\",1.0),(\"from the\",5.0),(\"a diminution\",1.0),(\"suspicion into\",1.0),(\"many occasions\",1.0),(\"examining the\",1.0),(\"freely lay\",1.0),(\"multiply professions\",1.0),(\"it will\",4.0),(\"which shall\",1.0),(\"have had\",1.0),(\"after having\",1.0),(\"hazard a\",1.0),(\"torrent of\",1.0),(\"all they\",1.0),(\"remain in\",1.0),(\"equally energetic\",1.0),(\"a thing\",1.0),(\"clearly of\",1.0),(\"accordingly constitute\",1.0),(\"reason for\",1.0),(\"estimate of\",1.0),(\"occasions see\",1.0),(\"consequences nothing\",1.0),(\"this object\",1.0),(\"state will\",1.0),(\"fears so\",1.0),(\"loose to\",1.0),(\"even such\",1.0),(\"made its\",1.0),(\"that this\",1.0),(\"is the\",2.0),(\"and example\",1.0),(\"diminution of\",1.0),(\"the depository\",1.0),(\"appearance or\",1.0),(\"the offspring\",1.0),(\"upon your\",1.0),(\"happen in\",1.0),(\"zeal for\",3.0),(\"expected the\",1.0),(\"there be\",1.0),(\"must remain\",1.0),(\"interest to\",1.0),(\"ambitious views\",1.0),(\"enlarged view\",1.0),(\"out in\",1.0),(\"will in\",1.0),(\"aware that\",1.0),(\"even these\",1.0),(\"votaries enough\",1.0),(\"reflection that\",1.0),(\"for popularity\",1.0),(\"sure that\",1.0),(\"by preconceived\",1.0),(\"consciousness of\",1.0),(\"any set\",1.0),(\"utmost moment\",1.0),(\"been found\",1.0),(\"and force\",1.0),(\"in religion\",1.0),(\"of establishing\",1.0),(\"and the\",3.0),(\"more ardently\",1.0),(\"to conclude\",1.0),(\"for caution\",1.0),(\"be doubted\",1.0),(\"which it\",2.0),(\"any controversy\",1.0),(\"my arguments\",1.0),(\"local institutions\",1.0),(\"efficiency of\",2.0),(\"advocate the\",1.0),(\"own importance\",1.0),(\"that of\",1.0),(\"present confederation\",1.0),(\"that much\",1.0),(\"to liberty\",1.0),(\"characterized political\",1.0),(\"sound and\",1.0),(\"view of\",1.0),(\"whatever quarter\",1.0),(\"the subsisting\",1.0),(\"we shall\",2.0),(\"separate confederacies\",1.0),(\"of by\",1.0),(\"be offered\",1.0),(\"my own\",1.0),(\"necessity resort\",1.0),(\"evils and\",1.0),(\"intentions disdains\",1.0),(\"fact is\",1.0),(\"have overturned\",1.0),(\"truth i\",1.0),(\"which every\",1.0),(\"of a\",5.0),(\"admit that\",1.0),(\"attempts from\",1.0),(\"have already\",1.0),(\"this country\",1.0),(\"be more\",2.0),(\"have decided\",1.0),(\"certain class\",1.0),(\"spirit of\",1.0),(\"confusions of\",1.0),(\"and to\",2.0),(\"this respect\",1.0),(\"must of\",1.0),(\"all considerate\",1.0),(\"influenced by\",1.0),(\"motives not\",1.0),(\"which i\",1.0),(\"people than\",1.0),(\"by considerations\",1.0),(\"be judged\",1.0),(\"firmness and\",1.0),(\"that it\",3.0),(\"most formidable\",1.0),(\"offered in\",1.0),(\"empire into\",1.0),(\"well aware\",1.0),(\"give a\",2.0),(\"event happy\",1.0),(\"appearance will\",1.0),(\"of the\",31.0),(\"this doctrine\",1.0),(\"crisis at\",1.0),(\"be separated\",1.0),(\"it be\",1.0),(\"their appearance\",1.0),(\"and a\",2.0),(\"could be\",1.0),(\"oblige us\",1.0),(\"its adoption\",1.0),(\"who oppose\",2.0),(\"good but\",1.0),(\"consequence of\",1.0),(\"attainment of\",1.0),(\"not to\",1.0),(\"not more\",1.0),(\"these inducements\",1.0),(\"considered as\",1.0),(\"are apt\",1.0),(\"illjudged than\",1.0),(\"wished than\",1.0),(\"converts by\",1.0),(\"heresies in\",1.0),(\"wise and\",1.0),(\"welfare of\",1.0),(\"numerous indeed\",1.0),(\"is more\",1.0),(\"made their\",1.0),(\"may readily\",1.0),(\"former has\",1.0),(\"be considered\",1.0),(\"be distinguished\",1.0),(\"purer principles\",1.0),(\"you will\",1.0),(\"am convinced\",1.0),(\"a torrent\",1.0),(\"more commonly\",1.0),(\"foreign to\",1.0),(\"than from\",1.0),(\"oppose the\",2.0),(\"those who\",6.0),(\"objections which\",1.0),(\"lay before\",1.0),(\"preserve that\",1.0),(\"causes which\",1.0),(\"by their\",1.0),(\"to resist\",1.0),(\"allowed to\",1.0),(\"speaks its\",1.0),(\"its analogy\",1.0),(\"point no\",1.0),(\"power emolument\",1.0),(\"mask of\",1.0),(\"liberty is\",1.0),(\"to operate\",1.0),(\"world it\",1.0),(\"to dwell\",1.0),(\"i will\",2.0),(\"of my\",2.0),(\"personal animosity\",1.0),(\"upon those\",1.0),(\"able to\",1.0),(\"other motives\",1.0),(\"who advocate\",1.0),(\"men must\",1.0),(\"era in\",1.0),(\"a question\",1.0),(\"utility of\",2.0),(\"my motives\",1.0),(\"i shall\",2.0),(\"and welfare\",1.0),(\"men on\",1.0),(\"an adoption\",1.0),(\"may seem\",1.0),(\"our choice\",1.0),(\"love and\",1.0),(\"following interesting\",1.0),(\"variety of\",1.0),(\"certain evils\",1.0),(\"proposed constitution\",1.0),(\"all times\",1.0),(\"as those\",1.0),(\"that decision\",1.0),(\"is that\",1.0),(\"shall accordingly\",1.0),(\"views candor\",1.0),(\"misfortune of\",1.0),(\"existence of\",1.0),(\"despotism than\",1.0),(\"dangers to\",1.0),(\"general system\",1.0),(\"under the\",2.0),(\"government its\",1.0),(\"truth among\",1.0),(\"depend for\",1.0),(\"either hope\",1.0),(\"but this\",1.0),(\"conduct and\",1.0),(\"is to\",1.0),(\"conduct of\",1.0),(\"after an\",1.0),(\"of objects\",1.0),(\"may hereafter\",1.0),(\"jealousies and\",1.0),(\"and one\",1.0),(\"you are\",1.0),(\"avowal of\",1.0),(\"this discussion\",1.0),(\"disdains ambiguity\",1.0),(\"dwell upon\",1.0),(\"in every\",2.0),(\"intentions and\",1.0),(\"thought superfluous\",1.0),(\"and malignant\",1.0),(\"the public\",2.0),(\"that those\",1.0),(\"in a\",3.0),(\"involve in\",1.0),(\"it an\",1.0),(\"be thought\",1.0),(\"to putting\",1.0),(\"equally absurd\",1.0),(\"obsequious court\",1.0),(\"who will\",1.0),(\"infected with\",1.0),(\"unequivocal experience\",1.0),(\"reserves which\",1.0),(\"actuated by\",1.0),(\"than of\",1.0),(\"shall have\",1.0),(\"my countrymen\",1.0),(\"its appearance\",2.0),(\"apt to\",2.0),(\"the justness\",1.0),(\"this as\",1.0),(\"contemplation of\",1.0),(\"it may\",2.0),(\"to deliberate\",1.0),(\"observations of\",1.0),(\"religion it\",1.0),(\"the number\",1.0),(\"interests innovates\",1.0),(\"the cause\",1.0),(\"or may\",1.0),(\"encounter may\",1.0),(\"have any\",1.0),(\"power and\",1.0),(\"already sufficient\",1.0),(\"minds led\",1.0),(\"of angry\",1.0),(\"progress of\",1.0),(\"history will\",1.0),(\"a false\",1.0),(\"side of\",2.0),(\"changes which\",1.0),(\"a matter\",1.0),(\"be let\",1.0),(\"in the\",8.0),(\"publications against\",1.0),(\"is essential\",1.0),(\"of which\",1.0),(\"political prosperity\",1.0),(\"a source\",1.0),(\"general scope\",1.0),(\"operate as\",1.0),(\"be led\",1.0),(\"than these\",1.0),(\"a spirit\",2.0),(\"imagined has\",1.0),(\"the crisis\",1.0),(\"be represented\",1.0),(\"it cannot\",1.0),(\"propagated till\",1.0),(\"to those\",3.0),(\"professions on\",1.0),(\"no adversaries\",1.0),(\"for the\",5.0),(\"distinct portions\",1.0),(\"and lastly\",1.0),(\"already hear\",1.0),(\"former cases\",1.0),(\"and consequence\",1.0),(\"those which\",1.0),(\"the hearts\",1.0),(\"the solicitude\",1.0),(\"system and\",1.0),(\"the proposed\",1.0),(\"any truth\",1.0),(\"endeavor to\",1.0),(\"are influenced\",1.0),(\"will mutually\",1.0),(\"are arrived\",1.0),(\"to evince\",1.0),(\"be open\",1.0),(\"not feel\",1.0),(\"to offer\",1.0),(\"design to\",1.0),(\"not however\",2.0),(\"this nature\",1.0),(\"deeply engraved\",1.0),(\"united states\",1.0),(\"be forgotten\",1.0),(\"the heart\",1.0),(\"to adopt\",1.0),(\"them that\",1.0),(\"are of\",1.0),(\"that jealousy\",1.0),(\"conformity of\",1.0),(\"example to\",1.0),(\"you my\",1.0),(\"heighten the\",1.0),(\"an unequivocal\",1.0),(\"i am\",3.0),(\"behind the\",1.0),(\"of despotism\",1.0),(\"preconceived jealousies\",1.0),(\"fellowcitizens to\",1.0),(\"political constitutions\",1.0),(\"and hostile\",1.0),(\"the head\",1.0),(\"shall not\",1.0),(\"either can\",1.0),(\"of distinct\",1.0),(\"appearance that\",1.0),(\"attention it\",1.0),(\"with an\",1.0),(\"the existence\",1.0),(\"great extent\",1.0),(\"feel i\",1.0),(\"political parties\",1.0),(\"and yet\",1.0),(\"that even\",1.0),(\"parts of\",1.0),(\"shall at\",1.0),(\"too great\",1.0),(\"more illjudged\",1.0),(\"probable dangers\",1.0),(\"the world\",1.0),(\"importance comprehending\",1.0),(\"by any\",1.0),(\"frankly acknowledge\",1.0),(\"subject speaks\",1.0),(\"indiscriminately the\",1.0),(\"state establishments\",1.0),(\"as in\",2.0),(\"have to\",1.0),(\"who support\",1.0),(\"the fate\",1.0),(\"career by\",1.0),(\"called upon\",1.0),(\"represented as\",1.0),(\"whether societies\",1.0),(\"the utmost\",1.0),(\"in several\",1.0),(\"so much\",1.0),(\"of zeal\",2.0),(\"their opinions\",1.0),(\"interest of\",1.0),(\"late publications\",1.0),(\"upon many\",1.0),(\"forever destined\",1.0),(\"among the\",1.0),(\"have made\",1.0),(\"great body\",1.0),(\"take an\",1.0),(\"the firmness\",1.0),(\"which that\",1.0),(\"offer arguments\",1.0),(\"concomitant of\",1.0),(\"confederacies than\",1.0),(\"to influence\",1.0),(\"an overscrupulous\",1.0),(\"least be\",1.0),(\"of use\",1.0),(\"justness of\",1.0),(\"countenance an\",1.0),(\"ever so\",1.0),(\"least equally\",1.0),(\"further reason\",1.0),(\"upright intentions\",1.0),(\"ambition of\",1.0),(\"important question\",1.0),(\"and artifice\",1.0),(\"at the\",2.0),(\"at all\",1.0),(\"course for\",1.0),(\"circles of\",1.0),(\"the inducements\",1.0),(\"the state\",2.0),(\"questions of\",1.0),(\"your guard\",1.0),(\"ambiguity i\",1.0),(\"good it\",1.0),(\"always sure\",1.0),(\"force if\",1.0),(\"and efficiency\",2.0),(\"be equally\",1.0),(\"to countenance\",1.0),(\"republican government\",1.0),(\"state to\",1.0),(\"it seems\",1.0),(\"from sources\",1.0),(\"the thirteen\",1.0),(\"may be\",3.0),(\"to give\",2.0),(\"the subdivision\",1.0),(\"flatter themselves\",1.0),(\"inducements to\",1.0),(\"it i\",1.0),(\"subdivision of\",1.0),(\"bias to\",1.0),(\"the progress\",1.0),(\"the wrong\",1.0),(\"ambition more\",1.0),(\"every state\",3.0),(\"men are\",1.0),(\"by the\",2.0),(\"so numerous\",1.0),(\"the united\",1.0),(\"any claim\",1.0),(\"an eye\",1.0),(\"ambition avarice\",1.0),(\"the necessity\",1.0),(\"temper fond\",1.0),(\"guard against\",1.0),(\"their consequences\",1.0),(\"course of\",1.0),(\"of elevation\",1.0),(\"superfluous to\",1.0),(\"frequently remarked\",1.0),(\"by all\",1.0),(\"which serve\",1.0),(\"led to\",1.0),(\"by a\",1.0),(\"the specious\",1.0),(\"nothing less\",1.0),(\"to suspicion\",1.0),(\"series of\",1.0),(\"separated and\",1.0),(\"than seriously\",1.0),(\"into several\",1.0),(\"the greatest\",1.0),(\"begin by\",1.0),(\"the offices\",1.0),(\"may result\",1.0),(\"this shall\",1.0),(\"fond of\",1.0),(\"subsisting federal\",1.0),(\"for nothing\",1.0),(\"to property\",1.0),(\"are able\",1.0),(\"private circles\",1.0),(\"hearts of\",1.0),(\"for your\",1.0),(\"they will\",1.0),(\"interesting particulars\",1.0),(\"an obsequious\",1.0),(\"cases of\",1.0),(\"happy will\",1.0),(\"principles of\",2.0),(\"bitterness of\",1.0),(\"the power\",1.0),(\"its union\",1.0),(\"the usual\",1.0),(\"invectives an\",1.0),(\"union under\",1.0),(\"us to\",1.0),(\"moment to\",1.0),(\"therefore be\",1.0),(\"into interested\",1.0),(\"in any\",1.0),(\"opposition which\",1.0),(\"right side\",2.0),(\"eye my\",1.0),(\"these are\",1.0),(\"specious mask\",1.0),(\"head than\",1.0),(\"the latter\",1.0),(\"astray by\",1.0),(\"are forever\",1.0),(\"portions of\",1.0),(\"engraved on\",1.0),(\"overscrupulous jealousy\",1.0),(\"us that\",1.0),(\"reserved to\",1.0),(\"malignant passions\",1.0),(\"for any\",1.0),(\"experience of\",1.0),(\"the causes\",1.0),(\"hear it\",1.0),(\"support as\",1.0),(\"tracing the\",1.0),(\"acknowledge to\",1.0),(\"a lesson\",1.0),(\"be wished\",1.0),(\"the introduction\",1.0),(\"will not\",2.0),(\"capable or\",1.0),(\"be exposed\",1.0),(\"an attentive\",1.0),(\"declamations and\",1.0),(\"be drawn\",1.0),(\"new constitution\",6.0),(\"more often\",1.0),(\"your dignity\",1.0),(\"one hand\",1.0),(\"great national\",1.0),(\"several partial\",1.0),(\"offices they\",1.0),(\"you upon\",1.0),(\"be allowed\",1.0),(\"by examining\",1.0),(\"government will\",1.0),(\"to have\",2.0),(\"a point\",1.0),(\"to their\",1.0),(\"can rarely\",1.0),(\"avarice personal\",1.0),(\"the certain\",1.0),(\"be regarded\",1.0),(\"opposition and\",1.0),(\"has made\",1.0),(\"other than\",1.0),(\"true principles\",1.0),(\"arguments to\",2.0),(\"are really\",1.0),(\"essential to\",1.0),(\"a new\",1.0),(\"resist all\",1.0),(\"welfare by\",1.0),(\"moderation nothing\",1.0),(\"has at\",1.0),(\"opposite parties\",1.0),(\"directed by\",1.0),(\"from reflection\",1.0),(\"lesson of\",1.0),(\"government is\",1.0),(\"elevation from\",1.0),(\"you with\",1.0),(\"their declamations\",1.0),(\"respects the\",1.0),(\"and your\",1.0),(\"its consequences\",1.0),(\"considerations not\",1.0),(\"party opposition\",1.0),(\"you the\",1.0),(\"by upright\",1.0),(\"good government\",1.0),(\"constitution or\",1.0),(\"the former\",1.0),(\"indeed and\",1.0),(\"i frankly\",1.0),(\"papers to\",1.0),(\"state and\",1.0),(\"to involve\",1.0),(\"a judicious\",1.0),(\"we upon\",1.0),(\"shall endeavor\",1.0),(\"of danger\",1.0),(\"reflection and\",1.0),(\"or not\",1.0),(\"because their\",1.0),(\"the bitterness\",1.0),(\"that may\",1.0),(\"a sound\",1.0),(\"unbiased by\",1.0),(\"open avowal\",1.0),(\"solicitude which\",1.0),(\"to encounter\",1.0),(\"use to\",1.0),(\"of great\",1.0),(\"they proceed\",1.0),(\"persuaded of\",1.0),(\"which may\",2.0),(\"union it\",1.0),(\"of minds\",1.0),(\"make its\",1.0),(\"my fellowcitizens\",1.0),(\"satisfactory answer\",1.0),(\"the private\",1.0),(\"will therefore\",1.0),(\"it would\",1.0),(\"be if\",1.0),(\"evident to\",1.0),(\"head my\",1.0),(\"the additional\",1.0),(\"arguments will\",1.0),(\"the present\",1.0),(\"constitution to\",1.0),(\"angry and\",1.0),(\"little favorable\",1.0),(\"resolve indiscriminately\",1.0),(\"or ambitious\",1.0),(\"observations i\",1.0),(\"prejudices little\",1.0),(\"the principles\",1.0),(\"their converts\",1.0),(\"disingenuous to\",1.0),(\"arrived may\",1.0),(\"sources blameless\",1.0),(\"that in\",1.0),(\"choice or\",1.0),(\"or whether\",1.0),(\"of an\",2.0),(\"truth in\",1.0),(\"against all\",1.0),(\"any impressions\",1.0),(\"errors of\",1.0),(\"seems to\",1.0),(\"will happen\",1.0),(\"you that\",1.0),(\"and ending\",1.0),(\"tyrants in\",1.0),(\"vigor of\",1.0),(\"and sword\",1.0),(\"deliberate on\",1.0),(\"however just\",1.0),(\"themselves with\",1.0),(\"of necessity\",1.0),(\"of despotic\",1.0),(\"by persecution\",1.0),(\"analogy to\",1.0),(\"serve to\",1.0),(\"adoption will\",1.0),(\"cannot be\",1.0),(\"of republican\",1.0),(\"yet however\",1.0),(\"they shall\",1.0),(\"with propriety\",1.0),(\"least if\",1.0),(\"government it\",1.0),(\"and unbiased\",1.0),(\"and choice\",1.0),(\"exposed from\",1.0),(\"be expected\",1.0),(\"not unfriendly\",1.0),(\"to our\",1.0),(\"as the\",3.0),(\"and illiberal\",1.0),(\"stigmatized as\",1.0),(\"the conduct\",1.0),(\"preservation of\",1.0),(\"distrust on\",1.0),(\"doubt deeply\",1.0),(\"discussion i\",1.0),(\"are founded\",1.0),(\"all attempts\",1.0),(\"judicious estimate\",1.0),(\"same time\",1.0),(\"the utility\",2.0),(\"view deserve\",1.0),(\"country or\",1.0),(\"may hazard\",1.0),(\"than their\",1.0),(\"they hold\",1.0),(\"the fact\",1.0),(\"philanthropy to\",1.0),(\"to aggrandize\",1.0),(\"wrong as\",1.0),(\"of new\",1.0),(\"decide the\",1.0),(\"their being\",1.0),(\"is a\",1.0),(\"never be\",1.0),(\"by fire\",1.0),(\"opinion it\",1.0),(\"safest course\",1.0),(\"inefficiency of\",1.0),(\"of moderation\",1.0),(\"of mankind\",1.0),(\"as mere\",1.0),(\"making proselytes\",1.0),(\"be any\",1.0),(\"dismemberment of\",1.0),(\"one government\",1.0),(\"merits and\",1.0),(\"the one\",2.0),(\"increase the\",1.0),(\"have begun\",1.0),(\"of this\",4.0),(\"the subject\",3.0),(\"be infected\",1.0),(\"a satisfactory\",1.0),(\"that after\",1.0),(\"patriotism to\",1.0),(\"deserve to\",1.0),(\"afford to\",1.0),(\"can be\",1.0),(\"truth are\",1.0),(\"it is\",4.0),(\"the conformity\",1.0),(\"to decide\",1.0),(\"when i\",1.0),(\"mutually hope\",1.0),(\"species of\",1.0),(\"to discuss\",1.0),(\"i own\",1.0),(\"proposed to\",1.0),(\"not disgrace\",1.0),(\"of any\",1.0),(\"the safest\",1.0),(\"safety and\",1.0),(\"composed the\",1.0),(\"which we\",1.0),(\"them to\",1.0),(\"hold under\",1.0),(\"my next\",1.0),(\"that we\",4.0),(\"let loose\",1.0),(\"such men\",1.0),(\"spring from\",1.0),(\"distinguished the\",1.0),(\"the fault\",1.0),(\"from a\",1.0),(\"overturned the\",1.0),(\"are not\",1.0),(\"doubt at\",1.0),(\"destined to\",1.0),(\"the arguments\",1.0),(\"with a\",1.0),(\"empire in\",1.0),(\"passions and\",1.0),(\"subject than\",1.0),(\"of too\",1.0),(\"to society\",1.0),(\"is your\",1.0),(\"the event\",1.0),(\"absurd to\",1.0),(\"the probable\",1.0),(\"on the\",5.0),(\"seriously to\",1.0),(\"and it\",1.0),(\"of liberty\",3.0),(\"will afford\",1.0),(\"are ever\",1.0),(\"being in\",1.0),(\"antagonists ambition\",1.0),(\"be made\",1.0),(\"who have\",1.0),(\"the rights\",2.0),(\"perverted ambition\",1.0),(\"to all\",2.0),(\"prosperity the\",1.0),(\"of it\",1.0),(\"prospects of\",1.0),(\"choice should\",1.0),(\"on accident\",1.0),(\"our true\",1.0),(\"situations might\",1.0),(\"that the\",4.0),(\"society this\",1.0),(\"been reserved\",1.0),(\"than those\",1.0),(\"which the\",1.0),(\"the preceding\",1.0),(\"despotic power\",1.0),(\"people which\",1.0),(\"the forbidden\",1.0),(\"decision is\",1.0),(\"liberty your\",1.0),(\"will oblige\",1.0),(\"demagogues and\",1.0),(\"the loudness\",1.0),(\"doctrine will\",1.0),(\"remarked that\",1.0),(\"on a\",1.0),(\"be cured\",1.0),(\"institutions not\",1.0),(\"hereafter make\",1.0),(\"perhaps be\",1.0),(\"sentiments will\",1.0),(\"and of\",1.0),(\"powerful are\",1.0),(\"consequences is\",1.0),(\"to judge\",1.0),(\"at making\",1.0),(\"the most\",2.0),(\"narrow and\",1.0),(\"it whispered\",1.0),(\"that a\",1.0),(\"their interest\",1.0),(\"to separate\",1.0),(\"amuse you\",1.0),(\"their country\",1.0),(\"conclude that\",1.0),(\"ardently to\",1.0),(\"for in\",1.0),(\"its discussion\",1.0),(\"proceed from\",1.0),(\"which all\",1.0),(\"their career\",1.0),(\"its own\",1.0),(\"judged of\",1.0),(\"hand it\",1.0),(\"one proposed\",1.0),(\"in politics\",1.0),(\"not connected\",1.0),(\"number of\",1.0),(\"ending tyrants\",1.0),(\"will flatter\",1.0),(\"this head\",1.0),(\"not of\",1.0),(\"enthusiasm of\",1.0),(\"confederation to\",1.0),(\"has been\",2.0),(\"more evident\",1.0),(\"and i\",1.0),(\"aim at\",1.0),(\"regarded as\",1.0),(\"those of\",1.0),(\"we have\",1.0),(\"attended to\",1.0),(\"would furnish\",1.0),(\"attentive consideration\",1.0),(\"all changes\",1.0),(\"to the\",13.0),(\"any general\",1.0),(\"the plan\",1.0),(\"be of\",1.0),(\"shall act\",1.0),(\"those men\",1.0),(\"will freely\",1.0),(\"class of\",2.0),(\"the opposition\",2.0),(\"question whether\",1.0),(\"readily be\",1.0),(\"own to\",1.0),(\"of men\",4.0),(\"often lurks\",1.0),(\"constitutions on\",1.0),(\"paying an\",1.0),(\"unfriendly to\",1.0),(\"will teach\",1.0),(\"will spring\",1.0),(\"the discovery\",1.0),(\"idea will\",1.0),(\"propriety be\",1.0),(\"of patriotism\",1.0),(\"if our\",1.0),(\"next address\",1.0),(\"upon to\",1.0),(\"the right\",3.0),(\"men may\",1.0),(\"by paying\",1.0),(\"new york\",1.0),(\"the objections\",1.0),(\"propose in\",1.0),(\"enlightened zeal\",1.0),(\"has votaries\",1.0),(\"mere pretense\",1.0),(\"with fairer\",1.0),(\"in this\",3.0),(\"of philanthropy\",1.0),(\"deliberations affects\",1.0),(\"too many\",2.0),(\"the era\",1.0),(\"right in\",1.0),(\"in its\",2.0),(\"just these\",1.0),(\"i propose\",1.0),(\"politics as\",1.0),(\"discuss the\",1.0),(\"our deliberations\",1.0),(\"forbidden appearance\",1.0),(\"its dissolution\",1.0),(\"prove the\",1.0),(\"an open\",1.0),(\"the other\",1.0),(\"the empire\",1.0),(\"whether they\",1.0),(\"the energy\",1.0),(\"subject of\",1.0),(\"connected with\",1.0),(\"if duly\",1.0),(\"constitute the\",1.0),(\"see wise\",1.0),(\"which has\",2.0),(\"by purer\",1.0),(\"constitution will\",1.0),(\"their antagonists\",1.0),(\"the important\",1.0),(\"a dismemberment\",1.0),(\"of them\",1.0),(\"is not\",1.0),(\"breast my\",1.0),(\"moderation to\",1.0),(\"collected from\",1.0),(\"open to\",1.0),(\"own breast\",1.0),(\"we must\",1.0),(\"establishments and\",1.0),(\"as on\",1.0),(\"will it\",1.0),(\"the parts\",1.0),(\"of deliberation\",1.0),(\"the true\",1.0),(\"than under\",1.0),(\"respect might\",1.0),(\"set of\",1.0),(\"additional security\",1.0),(\"the obstacles\",1.0)]"
      ]
     },
     "metadata": {},
     "output_type": "display_data"
    }
   ],
   "source": [
    "oneMap"
   ]
  },
  {
   "cell_type": "code",
   "execution_count": null,
   "metadata": {
    "collapsed": true
   },
   "outputs": [],
   "source": []
  }
 ],
 "metadata": {
  "kernelspec": {
   "display_name": "Haskell",
   "language": "haskell",
   "name": "haskell"
  },
  "language_info": {
   "codemirror_mode": "ihaskell",
   "file_extension": ".hs",
   "name": "haskell",
   "version": "7.6.3"
  }
 },
 "nbformat": 4,
 "nbformat_minor": 0
}
