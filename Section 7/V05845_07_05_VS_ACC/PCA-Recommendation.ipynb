{
 "cells": [
  {
   "cell_type": "code",
   "execution_count": 1,
   "metadata": {
    "collapsed": true
   },
   "outputs": [],
   "source": [
    "import Data.List\n",
    "import Database.HDBC.Sqlite3\n",
    "import Database.HDBC\n",
    "import Numeric.LinearAlgebra.Data\n",
    "import Numeric.LinearAlgebra.HMatrix"
   ]
  },
  {
   "cell_type": "code",
   "execution_count": 2,
   "metadata": {
    "collapsed": false
   },
   "outputs": [
    {
     "data": {
      "text/plain": []
     },
     "metadata": {},
     "output_type": "display_data"
    }
   ],
   "source": [
    "db <- connectSqlite3 \"../data/movies.sqlite3\""
   ]
  },
  {
   "cell_type": "code",
   "execution_count": 3,
   "metadata": {
    "collapsed": false
   },
   "outputs": [
    {
     "data": {
      "text/plain": []
     },
     "metadata": {},
     "output_type": "display_data"
    }
   ],
   "source": [
    "results <- quickQuery db \"SELECT IFNULL(data.rating, 0) FROM numberview LEFT OUTER JOIN data ON (numberview.userid=data.userid AND numberview.itemid=data.itemid)\" []"
   ]
  },
  {
   "cell_type": "code",
   "execution_count": 4,
   "metadata": {
    "collapsed": false
   },
   "outputs": [
    {
     "data": {
      "text/plain": [
       "1586126"
      ]
     },
     "metadata": {},
     "output_type": "display_data"
    }
   ],
   "source": [
    "length results"
   ]
  },
  {
   "cell_type": "code",
   "execution_count": 5,
   "metadata": {
    "collapsed": true
   },
   "outputs": [],
   "source": [
    "values = map fromSql (head (transpose results)) :: [Double]"
   ]
  },
  {
   "cell_type": "code",
   "execution_count": 6,
   "metadata": {
    "collapsed": true
   },
   "outputs": [],
   "source": [
    "m = matrix 1682 values"
   ]
  },
  {
   "cell_type": "code",
   "execution_count": 7,
   "metadata": {
    "collapsed": false
   },
   "outputs": [
    {
     "data": {
      "text/plain": [
       "(943,1682)"
      ]
     },
     "metadata": {},
     "output_type": "display_data"
    }
   ],
   "source": [
    "size m"
   ]
  },
  {
   "cell_type": "code",
   "execution_count": 8,
   "metadata": {
    "collapsed": true
   },
   "outputs": [],
   "source": [
    "(mean, cov) = meanCov m"
   ]
  },
  {
   "cell_type": "code",
   "execution_count": 9,
   "metadata": {
    "collapsed": false
   },
   "outputs": [
    {
     "data": {
      "text/plain": [
       "(1682,1682)"
      ]
     },
     "metadata": {},
     "output_type": "display_data"
    }
   ],
   "source": [
    "size cov"
   ]
  },
  {
   "cell_type": "code",
   "execution_count": 10,
   "metadata": {
    "collapsed": true
   },
   "outputs": [],
   "source": [
    "(evalues, evectors) = eigSH cov"
   ]
  },
  {
   "cell_type": "code",
   "execution_count": 11,
   "metadata": {
    "collapsed": false
   },
   "outputs": [
    {
     "data": {
      "text/plain": [
       "(1682,1682)"
      ]
     },
     "metadata": {},
     "output_type": "display_data"
    }
   ],
   "source": [
    "size evectors"
   ]
  },
  {
   "cell_type": "code",
   "execution_count": 12,
   "metadata": {
    "collapsed": false
   },
   "outputs": [
    {
     "data": {
      "text/plain": [
       "1682"
      ]
     },
     "metadata": {},
     "output_type": "display_data"
    }
   ],
   "source": [
    "size evalues"
   ]
  },
  {
   "cell_type": "code",
   "execution_count": 13,
   "metadata": {
    "collapsed": false
   },
   "outputs": [
    {
     "data": {
      "text/plain": [
       "1193.7523983852445"
      ]
     },
     "metadata": {},
     "output_type": "display_data"
    }
   ],
   "source": [
    "sum (toList evalues)"
   ]
  },
  {
   "cell_type": "code",
   "execution_count": 14,
   "metadata": {
    "collapsed": false
   },
   "outputs": [
    {
     "data": {
      "text/plain": [
       "201.8774412573846"
      ]
     },
     "metadata": {},
     "output_type": "display_data"
    }
   ],
   "source": [
    "sum (take 1 (toList evalues))"
   ]
  },
  {
   "cell_type": "code",
   "execution_count": 15,
   "metadata": {
    "collapsed": false
   },
   "outputs": [
    {
     "data": {
      "text/plain": [
       "258.70043064565687"
      ]
     },
     "metadata": {},
     "output_type": "display_data"
    }
   ],
   "source": [
    "sum (take 2 (toList evalues))"
   ]
  },
  {
   "cell_type": "code",
   "execution_count": 16,
   "metadata": {
    "collapsed": false
   },
   "outputs": [
    {
     "data": {
      "text/plain": [
       "1193.7523983852445"
      ]
     },
     "metadata": {},
     "output_type": "display_data"
    }
   ],
   "source": [
    "sum (take 1682 (toList evalues))"
   ]
  },
  {
   "cell_type": "code",
   "execution_count": 17,
   "metadata": {
    "collapsed": false
   },
   "outputs": [
    {
     "data": {
      "text/plain": [
       "628.1658651602687"
      ]
     },
     "metadata": {},
     "output_type": "display_data"
    }
   ],
   "source": [
    "sum (take 50 (toList evalues))"
   ]
  },
  {
   "cell_type": "code",
   "execution_count": 18,
   "metadata": {
    "collapsed": false
   },
   "outputs": [
    {
     "data": {
      "text/plain": [
       "967.6354827452101"
      ]
     },
     "metadata": {},
     "output_type": "display_data"
    }
   ],
   "source": [
    "sum (take 200 (toList evalues))"
   ]
  },
  {
   "cell_type": "code",
   "execution_count": 19,
   "metadata": {
    "collapsed": true
   },
   "outputs": [],
   "source": [
    "r = subMatrix (0,0) (1682, 200) evectors"
   ]
  },
  {
   "cell_type": "code",
   "execution_count": 20,
   "metadata": {
    "collapsed": false
   },
   "outputs": [
    {
     "data": {
      "text/plain": [
       "(1682,200)"
      ]
     },
     "metadata": {},
     "output_type": "display_data"
    }
   ],
   "source": [
    "size r"
   ]
  },
  {
   "cell_type": "code",
   "execution_count": 21,
   "metadata": {
    "collapsed": true
   },
   "outputs": [],
   "source": [
    "mprime = mul m r"
   ]
  },
  {
   "cell_type": "code",
   "execution_count": 22,
   "metadata": {
    "collapsed": false
   },
   "outputs": [
    {
     "data": {
      "text/plain": [
       "(943,200)"
      ]
     },
     "metadata": {},
     "output_type": "display_data"
    }
   ],
   "source": [
    "size mprime"
   ]
  },
  {
   "cell_type": "code",
   "execution_count": 23,
   "metadata": {
    "collapsed": false
   },
   "outputs": [
    {
     "data": {
      "text/plain": [
       "[[SqlInt64 11,SqlInt64 39,SqlByteString \"F\",SqlByteString \"other\",SqlInt64 30329]]"
      ]
     },
     "metadata": {},
     "output_type": "display_data"
    }
   ],
   "source": [
    "quickQuery db \"SELECT * FROM users WHERE userid=11\" []"
   ]
  },
  {
   "cell_type": "code",
   "execution_count": 24,
   "metadata": {
    "collapsed": false
   },
   "outputs": [
    {
     "data": {
      "text/plain": [
       "[[SqlByteString \"Truth About Cats & Dogs, The (1996)\"],[SqlByteString \"Bob Roberts (1992)\"],[SqlByteString \"Jane Eyre (1996)\"],[SqlByteString \"Boys on the Side (1995)\"],[SqlByteString \"Last Supper, The (1995)\"],[SqlByteString \"Real Genius (1985)\"],[SqlByteString \"Carrington (1995)\"],[SqlByteString \"Star Trek IV: The Voyage Home (1986)\"],[SqlByteString \"Midnight in the Garden of Good and Evil (1997)\"],[SqlByteString \"Harold and Maude (1971)\"],[SqlByteString \"Day the Earth Stood Still, The (1951)\"],[SqlByteString \"Dances with Wolves (1990)\"],[SqlByteString \"Unforgiven (1992)\"],[SqlByteString \"Ed Wood (1994)\"],[SqlByteString \"Ghost (1990)\"],[SqlByteString \"Butch Cassidy and the Sundance Kid (1969)\"],[SqlByteString \"Shadowlands (1993)\"],[SqlByteString \"2001: A Space Odyssey (1968)\"],[SqlByteString \"Chasing Amy (1997)\"],[SqlByteString \"Michael Collins (1996)\"],[SqlByteString \"Dead Man Walking (1995)\"],[SqlByteString \"Psycho (1960)\"],[SqlByteString \"Rosencrantz and Guildenstern Are Dead (1990)\"],[SqlByteString \"Fallen (1998)\"],[SqlByteString \"Fargo (1996)\"],[SqlByteString \"Absolute Power (1997)\"],[SqlByteString \"Being There (1979)\"],[SqlByteString \"Go Fish (1994)\"],[SqlByteString \"Replacement Killers, The (1998)\"],[SqlByteString \"Sting, The (1973)\"],[SqlByteString \"Restoration (1995)\"],[SqlByteString \"Last of the Mohicans, The (1992)\"],[SqlByteString \"Great Dictator, The (1940)\"],[SqlByteString \"Braveheart (1995)\"],[SqlByteString \"Othello (1995)\"],[SqlByteString \"Legends of the Fall (1994)\"],[SqlByteString \"Amadeus (1984)\"],[SqlByteString \"Amistad (1997)\"],[SqlByteString \"Four Weddings and a Funeral (1994)\"],[SqlByteString \"E.T. the Extra-Terrestrial (1982)\"],[SqlByteString \"Heathers (1989)\"],[SqlByteString \"MatchMaker, The (1997)\"],[SqlByteString \"Arsenic and Old Lace (1944)\"],[SqlByteString \"Enchanted April (1991)\"],[SqlByteString \"Pulp Fiction (1994)\"],[SqlByteString \"Contact (1997)\"],[SqlByteString \"Ruling Class, The (1972)\"],[SqlByteString \"In the Name of the Father (1993)\"],[SqlByteString \"American President, The (1995)\"],[SqlByteString \"People vs. Larry Flynt, The (1996)\"],[SqlByteString \"Fugitive, The (1993)\"],[SqlByteString \"Englishman Who Went Up a Hill, But Came Down a Mountain, The (1995)\"],[SqlByteString \"One Flew Over the Cuckoo's Nest (1975)\"],[SqlByteString \"Jerry Maguire (1996)\"],[SqlByteString \"English Patient, The (1996)\"],[SqlByteString \"Remains of the Day, The (1993)\"],[SqlByteString \"Things to Do in Denver when You're Dead (1995)\"],[SqlByteString \"Rob Roy (1995)\"],[SqlByteString \"Corrina, Corrina (1994)\"],[SqlByteString \"Rear Window (1954)\"],[SqlByteString \"Mr. Holland's Opus (1995)\"],[SqlByteString \"Phenomenon (1996)\"],[SqlByteString \"Kiss the Girls (1997)\"],[SqlByteString \"Seven Years in Tibet (1997)\"],[SqlByteString \"Gandhi (1982)\"],[SqlByteString \"Forbidden Planet (1956)\"],[SqlByteString \"Young Frankenstein (1974)\"],[SqlByteString \"In the Bleak Midwinter (1995)\"],[SqlByteString \"Little Women (1994)\"],[SqlByteString \"Jeffrey (1995)\"],[SqlByteString \"Schindler's List (1993)\"],[SqlByteString \"Much Ado About Nothing (1993)\"],[SqlByteString \"Apollo 13 (1995)\"],[SqlByteString \"Nell (1994)\"],[SqlByteString \"Sirens (1994)\"],[SqlByteString \"To Kill a Mockingbird (1962)\"],[SqlByteString \"Babe (1995)\"],[SqlByteString \"Dead Poets Society (1989)\"],[SqlByteString \"In & Out (1997)\"],[SqlByteString \"Room with a View, A (1986)\"],[SqlByteString \"Client, The (1994)\"],[SqlByteString \"Princess Bride, The (1987)\"],[SqlByteString \"Mrs. Doubtfire (1993)\"],[SqlByteString \"Sneakers (1992)\"],[SqlByteString \"Moll Flanders (1996)\"],[SqlByteString \"Star Trek III: The Search for Spock (1984)\"]]"
      ]
     },
     "metadata": {},
     "output_type": "display_data"
    }
   ],
   "source": [
    "quickQuery db \"SELECT title FROM items,data WHERE data.userid=11 AND data.itemid=items.movieid AND data.rating >= 4\" []"
   ]
  },
  {
   "cell_type": "code",
   "execution_count": 25,
   "metadata": {
    "collapsed": true
   },
   "outputs": [],
   "source": [
    "copy = fromRows $ replicate 943 (mprime ! 10)"
   ]
  },
  {
   "cell_type": "code",
   "execution_count": 26,
   "metadata": {
    "collapsed": false
   },
   "outputs": [
    {
     "data": {
      "text/plain": [
       "(943,200)"
      ]
     },
     "metadata": {},
     "output_type": "display_data"
    }
   ],
   "source": [
    "size copy"
   ]
  },
  {
   "cell_type": "code",
   "execution_count": 27,
   "metadata": {
    "collapsed": true
   },
   "outputs": [],
   "source": [
    "diffSqrd = (mprime - copy) ^ 2"
   ]
  },
  {
   "cell_type": "code",
   "execution_count": 28,
   "metadata": {
    "collapsed": true
   },
   "outputs": [],
   "source": [
    "difflist = map (\\i -> sum (toList (diffSqrd ! i) :: [Double])) [0..942]"
   ]
  },
  {
   "cell_type": "code",
   "execution_count": 29,
   "metadata": {
    "collapsed": false
   },
   "outputs": [
    {
     "data": {
      "text/plain": [
       "[3888.06887804032,2421.7564163988777,2195.4243195280765,2098.959655710307,2026.6558331454823,3385.08651584399,5695.452965754604,2285.5064935671694,2168.355976327543,3895.765079969442,0.0,2209.0389625422945,6201.65247199578,2550.9518870160455,2283.1824666983034,3124.22518947067,2042.1183731316023,3733.348783820831,1982.2782545836733,2084.2586308058353]"
      ]
     },
     "metadata": {},
     "output_type": "display_data"
    }
   ],
   "source": [
    "take 20 difflist"
   ]
  },
  {
   "cell_type": "code",
   "execution_count": 30,
   "metadata": {
    "collapsed": true
   },
   "outputs": [],
   "source": [
    "diffindex = zip difflist [0..]"
   ]
  },
  {
   "cell_type": "code",
   "execution_count": 31,
   "metadata": {
    "collapsed": false
   },
   "outputs": [
    {
     "data": {
      "text/plain": [
       "[(0.0,10),(1684.2193564396582,186),(1700.377045033831,179),(1745.3169462446886,105),(1748.1366837709609,64)]"
      ]
     },
     "metadata": {},
     "output_type": "display_data"
    }
   ],
   "source": [
    "take 5 $ sortBy (\\a b -> if fst a < fst b then LT else GT) diffindex"
   ]
  },
  {
   "cell_type": "code",
   "execution_count": 32,
   "metadata": {
    "collapsed": true
   },
   "outputs": [],
   "source": [
    "movieRecommend i a b = m ! a ! i == 0 && m ! b ! i >= 4"
   ]
  },
  {
   "cell_type": "code",
   "execution_count": 33,
   "metadata": {
    "collapsed": true
   },
   "outputs": [],
   "source": [
    "rec = map (\\i -> movieRecommend i 10 186) [0..1681]"
   ]
  },
  {
   "cell_type": "code",
   "execution_count": 34,
   "metadata": {
    "collapsed": false
   },
   "outputs": [
    {
     "data": {
      "text/plain": [
       "[(True,23),(True,64),(True,65),(True,116),(True,137),(True,179),(True,186),(True,197),(True,209),(True,210),(True,214),(True,275),(True,462),(True,651),(True,694),(True,792),(True,1065)]"
      ]
     },
     "metadata": {},
     "output_type": "display_data"
    }
   ],
   "source": [
    "filter fst (zip rec [1..])"
   ]
  },
  {
   "cell_type": "code",
   "execution_count": 35,
   "metadata": {
    "collapsed": false
   },
   "outputs": [
    {
     "data": {
      "text/plain": [
       "[[SqlByteString \"Taxi Driver (1976)\"]]"
      ]
     },
     "metadata": {},
     "output_type": "display_data"
    }
   ],
   "source": [
    "quickQuery db \"SELECT title FROM items WHERE items.movieid=23\" []"
   ]
  },
  {
   "cell_type": "code",
   "execution_count": 36,
   "metadata": {
    "collapsed": false
   },
   "outputs": [
    {
     "data": {
      "text/plain": [
       "[[SqlByteString \"Shawshank Redemption, The (1994)\"]]"
      ]
     },
     "metadata": {},
     "output_type": "display_data"
    }
   ],
   "source": [
    "quickQuery db \"SELECT title FROM items WHERE items.movieid=64\" []"
   ]
  },
  {
   "cell_type": "code",
   "execution_count": 37,
   "metadata": {
    "collapsed": false
   },
   "outputs": [
    {
     "data": {
      "text/plain": [
       "[[SqlByteString \"What's Eating Gilbert Grape (1993)\"]]"
      ]
     },
     "metadata": {},
     "output_type": "display_data"
    }
   ],
   "source": [
    "quickQuery db \"SELECT title FROM items WHERE items.movieid=65\" []"
   ]
  },
  {
   "cell_type": "code",
   "execution_count": null,
   "metadata": {
    "collapsed": true
   },
   "outputs": [],
   "source": []
  }
 ],
 "metadata": {
  "kernelspec": {
   "display_name": "Haskell",
   "language": "haskell",
   "name": "haskell"
  },
  "language_info": {
   "codemirror_mode": "ihaskell",
   "file_extension": ".hs",
   "name": "haskell",
   "version": "7.6.3"
  }
 },
 "nbformat": 4,
 "nbformat_minor": 0
}
