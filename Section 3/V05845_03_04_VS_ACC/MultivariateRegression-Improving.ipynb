{
 "cells": [
  {
   "cell_type": "code",
   "execution_count": 1,
   "metadata": {
    "collapsed": true
   },
   "outputs": [],
   "source": [
    "import Data.List\n",
    "import Database.HDBC.Sqlite3\n",
    "import Database.HDBC\n",
    "import Numeric.LinearAlgebra.Data\n",
    "import Numeric.LinearAlgebra.HMatrix"
   ]
  },
  {
   "cell_type": "code",
   "execution_count": 2,
   "metadata": {
    "collapsed": false
   },
   "outputs": [],
   "source": [
    "db <- connectSqlite3 \"../data/movies.sqlite3\""
   ]
  },
  {
   "cell_type": "code",
   "execution_count": 3,
   "metadata": {
    "collapsed": false
   },
   "outputs": [
    {
     "data": {
      "text/plain": [
       "(5><3)\n",
       " [  1.0,  2.0,  3.0\n",
       " ,  4.0,  5.0,  6.0\n",
       " ,  7.0,  8.0,  9.0\n",
       " , 10.0, 11.0, 12.0\n",
       " , 13.0, 14.0, 15.0 ]"
      ]
     },
     "metadata": {},
     "output_type": "display_data"
    }
   ],
   "source": [
    "matrix 3 [1..15]"
   ]
  },
  {
   "cell_type": "code",
   "execution_count": 4,
   "metadata": {
    "collapsed": false
   },
   "outputs": [
    {
     "data": {
      "text/plain": [
       "(3><5)\n",
       " [  1.0,  2.0,  3.0,  4.0,  5.0\n",
       " ,  6.0,  7.0,  8.0,  9.0, 10.0\n",
       " , 11.0, 12.0, 13.0, 14.0, 15.0 ]"
      ]
     },
     "metadata": {},
     "output_type": "display_data"
    }
   ],
   "source": [
    "matrix 5 [1..15]"
   ]
  },
  {
   "cell_type": "code",
   "execution_count": 5,
   "metadata": {
    "collapsed": false
   },
   "outputs": [
    {
     "data": {
      "text/plain": [
       "(5><1)\n",
       " [ 1.0\n",
       " , 2.0\n",
       " , 3.0\n",
       " , 4.0\n",
       " , 5.0 ]"
      ]
     },
     "metadata": {},
     "output_type": "display_data"
    }
   ],
   "source": [
    "matrix 1 [1..5]"
   ]
  },
  {
   "cell_type": "code",
   "execution_count": 6,
   "metadata": {
    "collapsed": false
   },
   "outputs": [
    {
     "data": {
      "text/plain": [
       "(1><5)\n",
       " [ 1.0, 2.0, 3.0, 4.0, 5.0 ]"
      ]
     },
     "metadata": {},
     "output_type": "display_data"
    }
   ],
   "source": [
    "matrix 5 [1..5]"
   ]
  },
  {
   "cell_type": "code",
   "execution_count": 7,
   "metadata": {
    "collapsed": true
   },
   "outputs": [],
   "source": [
    "readColumn = map fromSql"
   ]
  },
  {
   "cell_type": "code",
   "execution_count": 8,
   "metadata": {
    "collapsed": true
   },
   "outputs": [],
   "source": [
    "raw <- quickQuery db \"SELECT action, adventure, animation, childrens, comedy, crime, documentary, drama, fantasy, filmnoir, horror, musical, mystery, romance, scifi, thriller, war, western FROM items ORDER BY movieid\" []"
   ]
  },
  {
   "cell_type": "code",
   "execution_count": 9,
   "metadata": {
    "collapsed": false
   },
   "outputs": [],
   "source": [
    "full = map readColumn raw :: [[Double]]"
   ]
  },
  {
   "cell_type": "code",
   "execution_count": 10,
   "metadata": {
    "collapsed": false
   },
   "outputs": [
    {
     "data": {
      "text/plain": [
       "[0.0,0.0,1.0,1.0,1.0,0.0,0.0,0.0,0.0,0.0,0.0,0.0,0.0,0.0,0.0,0.0,0.0,0.0]"
      ]
     },
     "metadata": {},
     "output_type": "display_data"
    }
   ],
   "source": [
    "head full"
   ]
  },
  {
   "cell_type": "code",
   "execution_count": 11,
   "metadata": {
    "collapsed": false
   },
   "outputs": [
    {
     "data": {
      "text/plain": [
       "1682"
      ]
     },
     "metadata": {},
     "output_type": "display_data"
    }
   ],
   "source": [
    "length full"
   ]
  },
  {
   "cell_type": "code",
   "execution_count": 12,
   "metadata": {
    "collapsed": false
   },
   "outputs": [
    {
     "data": {
      "text/plain": [
       "18"
      ]
     },
     "metadata": {},
     "output_type": "display_data"
    }
   ],
   "source": [
    "length (head full)"
   ]
  },
  {
   "cell_type": "code",
   "execution_count": 13,
   "metadata": {
    "collapsed": true
   },
   "outputs": [],
   "source": [
    "m = fromLists full"
   ]
  },
  {
   "cell_type": "code",
   "execution_count": 14,
   "metadata": {
    "collapsed": false
   },
   "outputs": [
    {
     "data": {
      "text/plain": [
       "30276"
      ]
     },
     "metadata": {},
     "output_type": "display_data"
    }
   ],
   "source": [
    "1682*18"
   ]
  },
  {
   "cell_type": "code",
   "execution_count": 15,
   "metadata": {
    "collapsed": false
   },
   "outputs": [],
   "source": [
    "dependentRaw <- quickQuery db \"SELECT avg(rating) FROM data GROUP BY itemid ORDER BY itemid\" []"
   ]
  },
  {
   "cell_type": "code",
   "execution_count": 16,
   "metadata": {
    "collapsed": false
   },
   "outputs": [
    {
     "data": {
      "text/plain": [
       "1682"
      ]
     },
     "metadata": {},
     "output_type": "display_data"
    }
   ],
   "source": [
    "length dependentRaw"
   ]
  },
  {
   "cell_type": "code",
   "execution_count": 17,
   "metadata": {
    "collapsed": false
   },
   "outputs": [],
   "source": [
    "dependent = readColumn $ head (transpose dependentRaw) :: [Double]"
   ]
  },
  {
   "cell_type": "code",
   "execution_count": 18,
   "metadata": {
    "collapsed": true
   },
   "outputs": [],
   "source": [
    "d = matrix 1 dependent"
   ]
  },
  {
   "cell_type": "code",
   "execution_count": 19,
   "metadata": {
    "collapsed": true
   },
   "outputs": [],
   "source": [
    "m = fromLists (map (\\row -> row ++ [1]) full)"
   ]
  },
  {
   "cell_type": "code",
   "execution_count": 20,
   "metadata": {
    "collapsed": true
   },
   "outputs": [],
   "source": [
    "p = mul (inv (mul (tr m) m)) (mul (tr m) d)"
   ]
  },
  {
   "cell_type": "code",
   "execution_count": 21,
   "metadata": {
    "collapsed": false
   },
   "outputs": [
    {
     "data": {
      "text/plain": [
       "(19><1)\n",
       " [   -0.1791092688282312\n",
       " ,   0.30419457048844745\n",
       " ,   0.45069819239411224\n",
       " ,   -0.2635577207662525\n",
       " , 5.9343374373696633e-2\n",
       " ,   0.15329428945699153\n",
       " ,    0.3866907794187533\n",
       " ,    0.2854049673559267\n",
       " , -8.285258338404444e-2\n",
       " ,   0.44845610841716343\n",
       " ,  -0.17457492721650425\n",
       " ,   0.37397995547966545\n",
       " ,    0.2764134961019167\n",
       " ,   0.21437588668728935\n",
       " ,   0.21134308369784005\n",
       " ,   0.15293274247923172\n",
       " ,    0.4204185730622596\n",
       " ,   0.31830357734400394\n",
       " ,     2.815862777685112 ]"
      ]
     },
     "metadata": {},
     "output_type": "display_data"
    }
   ],
   "source": [
    "p"
   ]
  },
  {
   "cell_type": "code",
   "execution_count": 22,
   "metadata": {
    "collapsed": false
   },
   "outputs": [
    {
     "data": {
      "text/plain": [
       "[(\"action,\",-0.1791092688282312),(\"adventure,\",0.30419457048844745),(\"animation,\",0.45069819239411224),(\"childrens,\",-0.2635577207662525),(\"comedy,\",5.9343374373696633e-2),(\"crime,\",0.15329428945699153),(\"documentary,\",0.3866907794187533),(\"drama,\",0.2854049673559267),(\"fantasy,\",-8.285258338404444e-2),(\"filmnoir,\",0.44845610841716343),(\"horror,\",-0.17457492721650425),(\"musical,\",0.37397995547966545),(\"mystery,\",0.2764134961019167),(\"romance,\",0.21437588668728935),(\"scifi,\",0.21134308369784005),(\"thriller,\",0.15293274247923172),(\"war,\",0.4204185730622596),(\"western,\",0.31830357734400394),(\"intercept\",2.815862777685112)]"
      ]
     },
     "metadata": {},
     "output_type": "display_data"
    }
   ],
   "source": [
    "zip (words \"action, adventure, animation, childrens, comedy, crime, documentary, drama, fantasy, filmnoir, horror, musical, mystery, romance, scifi, thriller, war, western, intercept\") ((concat . toLists) p)"
   ]
  },
  {
   "cell_type": "code",
   "execution_count": 23,
   "metadata": {
    "collapsed": true
   },
   "outputs": [],
   "source": [
    "fillAll rows cols val = matrix cols (replicate (rows*cols) val)"
   ]
  },
  {
   "cell_type": "code",
   "execution_count": 24,
   "metadata": {
    "collapsed": false
   },
   "outputs": [
    {
     "data": {
      "text/plain": [
       "(3><4)\n",
       " [ 10.0, 10.0, 10.0, 10.0\n",
       " , 10.0, 10.0, 10.0, 10.0\n",
       " , 10.0, 10.0, 10.0, 10.0 ]"
      ]
     },
     "metadata": {},
     "output_type": "display_data"
    }
   ],
   "source": [
    "fillAll 3 4 10"
   ]
  },
  {
   "cell_type": "code",
   "execution_count": 25,
   "metadata": {
    "collapsed": true
   },
   "outputs": [],
   "source": [
    "ybar = sum (head (transpose (toLists d))) / 1682"
   ]
  },
  {
   "cell_type": "code",
   "execution_count": 26,
   "metadata": {
    "collapsed": false
   },
   "outputs": [
    {
     "data": {
      "text/plain": [
       "3.0760445083251824"
      ]
     },
     "metadata": {},
     "output_type": "display_data"
    }
   ],
   "source": [
    "ybar"
   ]
  },
  {
   "cell_type": "code",
   "execution_count": 27,
   "metadata": {
    "collapsed": true
   },
   "outputs": [],
   "source": [
    "syy = mul (tr (d - fillAll 1682 1 ybar)) (d - fillAll 1682 1 ybar)"
   ]
  },
  {
   "cell_type": "code",
   "execution_count": 28,
   "metadata": {
    "collapsed": false
   },
   "outputs": [
    {
     "data": {
      "text/plain": [
       "(1><1)\n",
       " [ 1027.082175220263 ]"
      ]
     },
     "metadata": {},
     "output_type": "display_data"
    }
   ],
   "source": [
    "syy"
   ]
  },
  {
   "cell_type": "code",
   "execution_count": 29,
   "metadata": {
    "collapsed": true
   },
   "outputs": [],
   "source": [
    "se = mul (tr (d - mul m p)) (d - mul m p)"
   ]
  },
  {
   "cell_type": "code",
   "execution_count": 30,
   "metadata": {
    "collapsed": false
   },
   "outputs": [
    {
     "data": {
      "text/plain": [
       "(1><1)\n",
       " [ 935.8935078508722 ]"
      ]
     },
     "metadata": {},
     "output_type": "display_data"
    }
   ],
   "source": [
    "se"
   ]
  },
  {
   "cell_type": "code",
   "execution_count": 31,
   "metadata": {
    "collapsed": true
   },
   "outputs": [],
   "source": [
    "rsqrd = atIndex (1 - se / syy) (0, 0)"
   ]
  },
  {
   "cell_type": "code",
   "execution_count": 32,
   "metadata": {
    "collapsed": false
   },
   "outputs": [
    {
     "data": {
      "text/plain": [
       "8.878419815808303e-2"
      ]
     },
     "metadata": {},
     "output_type": "display_data"
    }
   ],
   "source": [
    "rsqrd"
   ]
  },
  {
   "cell_type": "code",
   "execution_count": 33,
   "metadata": {
    "collapsed": true
   },
   "outputs": [],
   "source": [
    "rsqrdadj = 1 - (1 - rsqrd) * (1682 - 1) / (1682-18-1)"
   ]
  },
  {
   "cell_type": "code",
   "execution_count": 34,
   "metadata": {
    "collapsed": false
   },
   "outputs": [
    {
     "data": {
      "text/plain": [
       "7.892136927464677e-2"
      ]
     },
     "metadata": {},
     "output_type": "display_data"
    }
   ],
   "source": [
    "rsqrdadj"
   ]
  },
  {
   "cell_type": "code",
   "execution_count": 36,
   "metadata": {
    "collapsed": true
   },
   "outputs": [],
   "source": [
    "\n",
    "adjrsqrd :: Matrix Double -> Matrix Double -> Double\n",
    "adjrsqrd m d = 1 - (1-rsqrd) * (n-1) / (n-covars-1)\n",
    "  where\n",
    "    p = mul (inv (mul (tr m) m)) (mul (tr m) d)\n",
    "    ybar = sum (head (transpose (toLists d))) / n\n",
    "    ybarss = mul (tr (d - fillAll n 1 ybar)) (d - fillAll n 1 ybar)\n",
    "    yhatss = mul (tr (mul m p - d)) (mul m p - d)\n",
    "    rsqrd = atIndex (1 - yhatss / ybarss) (0,0)\n",
    "    n = fromIntegral (fst (size m))\n",
    "    covars = fromIntegral (snd (size m) - 1)\n",
    "    fillAll rows cols val = matrix cols (replicate (rows*cols) val)"
   ]
  },
  {
   "cell_type": "code",
   "execution_count": 37,
   "metadata": {
    "collapsed": false
   },
   "outputs": [
    {
     "data": {
      "text/plain": [
       "7.892136927464677e-2"
      ]
     },
     "metadata": {},
     "output_type": "display_data"
    }
   ],
   "source": [
    "adjrsqrd m d"
   ]
  },
  {
   "cell_type": "code",
   "execution_count": 38,
   "metadata": {
    "collapsed": false
   },
   "outputs": [
    {
     "data": {
      "text/plain": [
       "[(0,7.454695938799527e-2),(1,7.115937576141262e-2),(2,7.355893950274739e-2),(3,7.45841243623846e-2),(4,7.869068670053092e-2),(5,7.727914829954108e-2),(6,7.340225595005156e-2),(7,6.086866115910661e-2),(8,7.934468625313207e-2),(9,7.523268482191314e-2),(10,7.721611895326652e-2),(11,7.303451845888742e-2),(12,7.53755524179055e-2),(13,7.053018893200913e-2),(14,7.592424835664491e-2),(15,7.567252614589393e-2),(16,6.800788528807522e-2),(17,7.691843246322227e-2)]"
      ]
     },
     "metadata": {},
     "output_type": "display_data"
    }
   ],
   "source": [
    "map (\\n -> (n, adjrsqrd (m ¿ ([0..(n-1)]++[(n+1)..18])) d)) [0..17]"
   ]
  },
  {
   "cell_type": "code",
   "execution_count": 39,
   "metadata": {
    "collapsed": false
   },
   "outputs": [
    {
     "data": {
      "text/plain": [
       "[(0,False),(1,False),(2,False),(3,False),(4,False),(5,False),(6,False),(7,False),(8,True),(9,False),(10,False),(11,False),(12,False),(13,False),(14,False),(15,False),(16,False),(17,False)]"
      ]
     },
     "metadata": {},
     "output_type": "display_data"
    }
   ],
   "source": [
    "map (\\n -> (n, 7.892136927464677e-2 < adjrsqrd (m ¿ ([0..(n-1)]++[(n+1)..18])) d)) [0..17]"
   ]
  },
  {
   "cell_type": "code",
   "execution_count": 41,
   "metadata": {
    "collapsed": false
   },
   "outputs": [
    {
     "data": {
      "text/plain": [
       "7.934468625313207e-2"
      ]
     },
     "metadata": {},
     "output_type": "display_data"
    }
   ],
   "source": [
    "adjrsqrd (m ¿ [0,1,2,3,4,5,6,7,9,10,11,12,13,14,15,16,17,18]) d"
   ]
  },
  {
   "cell_type": "code",
   "execution_count": null,
   "metadata": {
    "collapsed": true
   },
   "outputs": [],
   "source": []
  }
 ],
 "metadata": {
  "kernelspec": {
   "display_name": "Haskell",
   "language": "haskell",
   "name": "haskell"
  },
  "language_info": {
   "codemirror_mode": "ihaskell",
   "file_extension": ".hs",
   "name": "haskell",
   "version": "7.6.3"
  }
 },
 "nbformat": 4,
 "nbformat_minor": 0
}
