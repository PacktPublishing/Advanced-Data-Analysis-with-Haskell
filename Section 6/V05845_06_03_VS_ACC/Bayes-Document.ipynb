{
 "cells": [
  {
   "cell_type": "code",
   "execution_count": 1,
   "metadata": {
    "collapsed": true
   },
   "outputs": [],
   "source": [
    "import Data.List\n",
    "import Data.Traversable\n",
    "import Database.HDBC\n",
    "import Database.HDBC.Sqlite3"
   ]
  },
  {
   "cell_type": "code",
   "execution_count": 2,
   "metadata": {
    "collapsed": false
   },
   "outputs": [],
   "source": [
    "db <- connectSqlite3 \"../data/enron.sqlite3\""
   ]
  },
  {
   "cell_type": "code",
   "execution_count": 9,
   "metadata": {
    "collapsed": false
   },
   "outputs": [
    {
     "data": {
      "text/plain": [
       "[[SqlInt64 5172]]"
      ]
     },
     "metadata": {},
     "output_type": "display_data"
    }
   ],
   "source": [
    "quickQuery db \"SELECT count(*) FROM document\" []"
   ]
  },
  {
   "cell_type": "code",
   "execution_count": 10,
   "metadata": {
    "collapsed": false
   },
   "outputs": [
    {
     "data": {
      "text/plain": [
       "[[SqlDouble 850027.0]]"
      ]
     },
     "metadata": {},
     "output_type": "display_data"
    }
   ],
   "source": [
    "quickQuery db \"SELECT total(frequency) FROM word\" []"
   ]
  },
  {
   "cell_type": "code",
   "execution_count": 11,
   "metadata": {
    "collapsed": false
   },
   "outputs": [
    {
     "data": {
      "text/plain": [
       "[[SqlDouble 139.0]]"
      ]
     },
     "metadata": {},
     "output_type": "display_data"
    }
   ],
   "source": [
    "quickQuery db \"SELECT total(frequency) FROM word WHERE word='website'\" []"
   ]
  },
  {
   "cell_type": "code",
   "execution_count": 12,
   "metadata": {
    "collapsed": true
   },
   "outputs": [],
   "source": [
    "pWebsite = 139 / 850027"
   ]
  },
  {
   "cell_type": "code",
   "execution_count": 13,
   "metadata": {
    "collapsed": false
   },
   "outputs": [
    {
     "data": {
      "text/plain": [
       "1.6352421746603342e-4"
      ]
     },
     "metadata": {},
     "output_type": "display_data"
    }
   ],
   "source": [
    "pWebsite"
   ]
  },
  {
   "cell_type": "code",
   "execution_count": 14,
   "metadata": {
    "collapsed": false
   },
   "outputs": [
    {
     "data": {
      "text/plain": [
       "[[SqlDouble 74.0]]"
      ]
     },
     "metadata": {},
     "output_type": "display_data"
    }
   ],
   "source": [
    "quickQuery db \"SELECT total(frequency) FROM word,document WHERE word='website' AND word.document_id=document.document_id AND label='ham'\" []"
   ]
  },
  {
   "cell_type": "code",
   "execution_count": 15,
   "metadata": {
    "collapsed": false
   },
   "outputs": [
    {
     "data": {
      "text/plain": [
       "[[SqlDouble 582265.0]]"
      ]
     },
     "metadata": {},
     "output_type": "display_data"
    }
   ],
   "source": [
    "quickQuery db \"SELECT total(frequency) FROM word,document WHERE word.document_id=document.document_id AND label='ham'\" []"
   ]
  },
  {
   "cell_type": "code",
   "execution_count": 16,
   "metadata": {
    "collapsed": true
   },
   "outputs": [],
   "source": [
    "pWebsiteGivenHam = 74/582265"
   ]
  },
  {
   "cell_type": "code",
   "execution_count": 17,
   "metadata": {
    "collapsed": false
   },
   "outputs": [
    {
     "data": {
      "text/plain": [
       "1.2708989892918173e-4"
      ]
     },
     "metadata": {},
     "output_type": "display_data"
    }
   ],
   "source": [
    "pWebsiteGivenHam"
   ]
  },
  {
   "cell_type": "code",
   "execution_count": 18,
   "metadata": {
    "collapsed": false
   },
   "outputs": [
    {
     "data": {
      "text/plain": [
       "[[SqlInt64 3672]]"
      ]
     },
     "metadata": {},
     "output_type": "display_data"
    }
   ],
   "source": [
    "quickQuery db \"SELECT count(*) FROM document WHERE label='ham'\" []"
   ]
  },
  {
   "cell_type": "code",
   "execution_count": 19,
   "metadata": {
    "collapsed": true
   },
   "outputs": [],
   "source": [
    "pHam = 3672 / 5172"
   ]
  },
  {
   "cell_type": "code",
   "execution_count": 20,
   "metadata": {
    "collapsed": false
   },
   "outputs": [
    {
     "data": {
      "text/plain": [
       "0.7099767981438515"
      ]
     },
     "metadata": {},
     "output_type": "display_data"
    }
   ],
   "source": [
    "pHam"
   ]
  },
  {
   "cell_type": "code",
   "execution_count": 21,
   "metadata": {
    "collapsed": true
   },
   "outputs": [],
   "source": [
    "pHamGivenWebsite = (pHam * pWebsiteGivenHam) / pWebsite"
   ]
  },
  {
   "cell_type": "code",
   "execution_count": 22,
   "metadata": {
    "collapsed": false
   },
   "outputs": [
    {
     "data": {
      "text/plain": [
       "0.5517890922603469"
      ]
     },
     "metadata": {},
     "output_type": "display_data"
    }
   ],
   "source": [
    "pHamGivenWebsite"
   ]
  },
  {
   "cell_type": "code",
   "execution_count": 23,
   "metadata": {
    "collapsed": false
   },
   "outputs": [
    {
     "data": {
      "text/plain": [
       "[[SqlByteString \"spam\"]]"
      ]
     },
     "metadata": {},
     "output_type": "display_data"
    }
   ],
   "source": [
    "quickQuery db \"SELECT label FROM document WHERE document_id=8\" []"
   ]
  },
  {
   "cell_type": "code",
   "execution_count": 24,
   "metadata": {
    "collapsed": false
   },
   "outputs": [
    {
     "data": {
      "text/plain": [
       "[[SqlByteString \"and\"],[SqlByteString \"via\"],[SqlByteString \"secure\"],[SqlByteString \"ogrg\"],[SqlByteString \"soma\"],[SqlByteString \"is\"],[SqlByteString \"direct\"],[SqlByteString \"one\"],[SqlByteString \"ultram\"],[SqlByteString \"cost\"],[SqlByteString \"thanks\"],[SqlByteString \"ready\"],[SqlByteString \"our\"],[SqlByteString \"ship\"],[SqlByteString \"your\"],[SqlByteString \"doorstep\"],[SqlByteString \"click\"],[SqlByteString \"take\"],[SqlByteString \"medications\"],[SqlByteString \"for\"],[SqlByteString \"no\"],[SqlByteString \"please\"],[SqlByteString \"shipped\"],[SqlByteString \"fast\"],[SqlByteString \"pharmacy\"],[SqlByteString \"write\"],[SqlByteString \"to\"],[SqlByteString \"low\"],[SqlByteString \"online\"],[SqlByteString \"you\"],[SqlByteString \"more\"],[SqlByteString \"physicians\"],[SqlByteString \"door\"],[SqlByteString \"adipex\"],[SqlByteString \"oxwq\"],[SqlByteString \"here\"],[SqlByteString \"me\"],[SqlByteString \"a\"],[SqlByteString \"e\"],[SqlByteString \"lnu\"],[SqlByteString \"licensed\"],[SqlByteString \"approved\"],[SqlByteString \"off\"],[SqlByteString \"fda\"],[SqlByteString \"prescribed\"],[SqlByteString \"prescription\"],[SqlByteString \"f\"],[SqlByteString \"many\"],[SqlByteString \"list\"],[SqlByteString \"overnight\"],[SqlByteString \"us\"],[SqlByteString \"will\"],[SqlByteString \"s\"],[SqlByteString \"of\"],[SqlByteString \"an\"],[SqlByteString \"vicodin\"],[SqlByteString \"z\"],[SqlByteString \"order\"],[SqlByteString \"lqlokeolnq\"]]"
      ]
     },
     "metadata": {},
     "output_type": "display_data"
    }
   ],
   "source": [
    "quickQuery db \"SELECT word FROM word WHERE document_id=8\" []"
   ]
  },
  {
   "cell_type": "code",
   "execution_count": 25,
   "metadata": {
    "collapsed": true
   },
   "outputs": [],
   "source": [
    "\n",
    "bayesWordLabel :: Connection -> String -> String -> IO Double\n",
    "bayesWordLabel db word label = do\n",
    "    fLabel <- sumFrequencyLabel label\n",
    "    fWordGivenLabel <- sumFrequencyWordLabel word label\n",
    "    let pWordGivenLabel = (decipher fWordGivenLabel) / (decipher fLabel)\n",
    "    if pWordGivenLabel == 0 then\n",
    "        return 0.00001\n",
    "      else\n",
    "        return pWordGivenLabel\n",
    "  where\n",
    "      sumFrequencyWordLabel word label = query (\"SELECT total(frequency) FROM word, document WHERE word.document_id=document.document_id AND word.word='\"++word++\"' AND document.label='\"++label++\"'\")\n",
    "      sumFrequencyLabel label = query (\"SELECT total(frequency) FROM word, document WHERE word.document_id=document.document_id AND document.label='\"++label++\"'\")\n",
    "      decipher x = fromIntegral (fromSql (head (head x)) :: Integer)\n",
    "      query q = quickQuery db q []"
   ]
  },
  {
   "cell_type": "code",
   "execution_count": 26,
   "metadata": {
    "collapsed": false
   },
   "outputs": [
    {
     "data": {
      "text/plain": [
       "1.2708989892918173e-4"
      ]
     },
     "metadata": {},
     "output_type": "display_data"
    }
   ],
   "source": [
    "bayesWordLabel db \"website\" \"ham\""
   ]
  },
  {
   "cell_type": "code",
   "execution_count": 27,
   "metadata": {
    "collapsed": false
   },
   "outputs": [
    {
     "data": {
      "text/plain": [
       "2.4275289249408056e-4"
      ]
     },
     "metadata": {},
     "output_type": "display_data"
    }
   ],
   "source": [
    "bayesWordLabel db \"website\" \"spam\""
   ]
  },
  {
   "cell_type": "code",
   "execution_count": 28,
   "metadata": {
    "collapsed": false
   },
   "outputs": [
    {
     "data": {
      "text/plain": [
       "7.039833882328335e-5"
      ]
     },
     "metadata": {},
     "output_type": "display_data"
    }
   ],
   "source": [
    "0.29 * 2.4275289249408056e-4"
   ]
  },
  {
   "cell_type": "code",
   "execution_count": 29,
   "metadata": {
    "collapsed": false
   },
   "outputs": [
    {
     "data": {
      "text/plain": [
       "9.023382823971902e-5"
      ]
     },
     "metadata": {},
     "output_type": "display_data"
    }
   ],
   "source": [
    "0.71 * 1.2708989892918173e-4"
   ]
  },
  {
   "cell_type": "code",
   "execution_count": 30,
   "metadata": {
    "collapsed": true
   },
   "outputs": [],
   "source": [
    "\n",
    "bayesDocumentLabel :: Connection -> String -> String -> IO Double\n",
    "bayesDocumentLabel db docid label = do\n",
    "    cAll <- countAll\n",
    "    cLabel <- countLabel label\n",
    "    let pLabel = (decipher cLabel) / (decipher cAll)\n",
    "    docWords <- wordsIO\n",
    "    probs <- traverse (\\word -> bayesWordLabel db word label) (pullWords docWords)\n",
    "    return $ pLabel * foldr (*) 1.0 probs\n",
    "  where\n",
    "      countAll = query \"SELECT count(*) FROM document\"\n",
    "      countLabel label = query (\"SELECT count(*) FROM document WHERE label='\"++label++\"'\")\n",
    "      sumFrequencyWord word = query (\"SELECT total(frequency) FROM word WHERE word.word='\"++word++\"'\")\n",
    "      wordsIO = query (\"SELECT word FROM word WHERE document_id=\"++docid)\n",
    "      pullWords dw = map fromSql (head (transpose dw))\n",
    "      decipher x = fromIntegral (fromSql (head (head x)) :: Integer)\n",
    "      query q = quickQuery db q []"
   ]
  },
  {
   "cell_type": "code",
   "execution_count": 31,
   "metadata": {
    "collapsed": false
   },
   "outputs": [
    {
     "data": {
      "text/plain": [
       "4.098748931287863e-223"
      ]
     },
     "metadata": {},
     "output_type": "display_data"
    }
   ],
   "source": [
    "bayesDocumentLabel db \"8\" \"ham\""
   ]
  },
  {
   "cell_type": "code",
   "execution_count": 32,
   "metadata": {
    "collapsed": false
   },
   "outputs": [
    {
     "data": {
      "text/plain": [
       "5.2669163791267e-198"
      ]
     },
     "metadata": {},
     "output_type": "display_data"
    }
   ],
   "source": [
    "bayesDocumentLabel db \"8\" \"spam\""
   ]
  },
  {
   "cell_type": "code",
   "execution_count": null,
   "metadata": {
    "collapsed": true
   },
   "outputs": [],
   "source": []
  }
 ],
 "metadata": {
  "kernelspec": {
   "display_name": "Haskell",
   "language": "haskell",
   "name": "haskell"
  },
  "language_info": {
   "codemirror_mode": "ihaskell",
   "file_extension": ".hs",
   "name": "haskell",
   "version": "7.6.3"
  }
 },
 "nbformat": 4,
 "nbformat_minor": 0
}
