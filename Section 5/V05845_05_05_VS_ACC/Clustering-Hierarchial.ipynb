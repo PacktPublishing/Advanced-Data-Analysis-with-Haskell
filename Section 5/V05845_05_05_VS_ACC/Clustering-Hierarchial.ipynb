{
 "cells": [
  {
   "cell_type": "code",
   "execution_count": 1,
   "metadata": {
    "collapsed": true
   },
   "outputs": [],
   "source": [
    "import System.Random\n",
    "import Data.List\n",
    "import Data.Maybe\n",
    "import Data.Ord\n",
    "import Graphics.EasyPlot"
   ]
  },
  {
   "cell_type": "code",
   "execution_count": 2,
   "metadata": {
    "collapsed": true
   },
   "outputs": [],
   "source": [
    "type Sigma = Double\n",
    "type Mean = Double\n",
    "type Distance = Double\n",
    "type Label = Int\n",
    "type Point = (Double, Double)\n",
    "type LabeledPoint = (Double, Double, Label)\n",
    "type Centroid = (Double, Double, Label)"
   ]
  },
  {
   "cell_type": "code",
   "execution_count": 3,
   "metadata": {
    "collapsed": true
   },
   "outputs": [],
   "source": [
    "\n",
    "reposition :: [Double] -> Sigma -> Mean -> [Double]\n",
    "reposition values sigma mu = map (\\x -> sigma * x + mu) scaled\n",
    "  where\n",
    "    scaled = map (\\x -> (x-mi)/(ma-mi) - 0.5) values\n",
    "    mi = minimum values\n",
    "    ma = maximum values"
   ]
  },
  {
   "cell_type": "code",
   "execution_count": 4,
   "metadata": {
    "collapsed": false
   },
   "outputs": [
    {
     "data": {
      "text/plain": [
       "[-0.25,-0.19444444444444445,-0.1388888888888889,-8.333333333333334e-2,-2.777777777777779e-2,2.777777777777779e-2,8.333333333333331e-2,0.1388888888888889,0.19444444444444442,0.25]"
      ]
     },
     "metadata": {},
     "output_type": "display_data"
    }
   ],
   "source": [
    "reposition [0..9] 0.5 0"
   ]
  },
  {
   "cell_type": "code",
   "execution_count": 5,
   "metadata": {
    "collapsed": false
   },
   "outputs": [
    {
     "data": {
      "text/plain": [
       "[-0.5,-0.3888888888888889,-0.2777777777777778,-0.16666666666666669,-5.555555555555558e-2,5.555555555555558e-2,0.16666666666666663,0.2777777777777778,0.38888888888888884,0.5]"
      ]
     },
     "metadata": {},
     "output_type": "display_data"
    }
   ],
   "source": [
    "reposition [0..9] 1.0 0"
   ]
  },
  {
   "cell_type": "code",
   "execution_count": 6,
   "metadata": {
    "collapsed": false
   },
   "outputs": [
    {
     "data": {
      "text/plain": [
       "[0.5,0.6111111111111112,0.7222222222222222,0.8333333333333333,0.9444444444444444,1.0555555555555556,1.1666666666666665,1.2777777777777777,1.3888888888888888,1.5]"
      ]
     },
     "metadata": {},
     "output_type": "display_data"
    }
   ],
   "source": [
    "reposition [0..9] 1.0 1.0"
   ]
  },
  {
   "cell_type": "code",
   "execution_count": 7,
   "metadata": {
    "collapsed": true
   },
   "outputs": [],
   "source": [
    "\n",
    "randomClusters :: [Double] -> [Sigma] -> [Mean] -> [Mean] -> ([Double], [Double])\n",
    "randomClusters values sigmas xmus ymus = (xs, ys)\n",
    "  where\n",
    "    clusters = genericLength sigmas\n",
    "    pointsPerCluster = floor (genericLength values / (2.0 * clusters))\n",
    "    chunks = chunk pointsPerCluster values\n",
    "    xs = concatMap (\\i -> reposition (chunks !! (2*i)) (sigmas !! i) (xmus !! i)) [0..(clusters-1)]\n",
    "    ys = concatMap (\\i -> reposition (chunks !! (2*i+1)) (sigmas !! i) (ymus !! i)) [0..(clusters-1)]\n",
    "    chunk n [] = []\n",
    "    chunk n list = genericTake n list : chunk n (genericDrop n list)"
   ]
  },
  {
   "cell_type": "code",
   "execution_count": 8,
   "metadata": {
    "collapsed": true
   },
   "outputs": [],
   "source": [
    "g <- newStdGen"
   ]
  },
  {
   "cell_type": "code",
   "execution_count": 9,
   "metadata": {
    "collapsed": true
   },
   "outputs": [],
   "source": [
    "values = take 80 (randoms g) :: [Double]"
   ]
  },
  {
   "cell_type": "code",
   "execution_count": 10,
   "metadata": {
    "collapsed": false
   },
   "outputs": [
    {
     "data": {
      "text/plain": [
       "[0.9703859152498816,0.9432946947709178,0.8074359945323409,0.9481624440665145,0.46195381697186033,0.35222011287961874,5.9686054865328964e-2,0.664614801885259,0.7815948902831122,0.5626263596524446,0.21689983686254632,0.2874412410857048,0.9293646817753709,0.5292871663360826,0.9271286375347073,0.6584038089377753,0.8772962411370492,2.7134895370750645e-4,0.3352330431844749,0.9861546637587967,0.2291775449492538,0.6816691006635447,0.44120739016163946,0.8832140635676957,0.5015493737197922,0.41702326469034046,0.35167747688624806,0.27185467422545795,0.8848039311413529,0.41075841924449674,0.9017675576212282,0.19663888267956098,0.19148598021793273,0.42425367682497983,8.515296535715777e-2,0.6663752322212272,0.3456989990588544,0.7517330591880879,0.5046829257024983,0.2150959121777376,0.790359676792437,1.0631168602126762e-2,0.5310004836486982,0.29097469175388824,0.47411997021277086,0.9768631582774693,0.717483229846673,0.40680640696646175,0.33740310022159126,0.4960124332670398,0.4051573225327687,0.10884760075012445,1.927836417213169e-2,0.8586802155731919,0.24066350436530692,0.32353974425483367,0.8766778365070428,0.9614945944928877,5.918546140829617e-2,0.8367076668434642,0.5888933777308093,0.866531445057948,0.8180507488164537,0.4630677312141711,8.290252810243637e-2,0.24310324680235063,0.8845222798653478,0.3710300112407935,0.17289631673758843,0.6610646912728556,0.45579978459504245,0.6828664072870793,0.7666740554742077,8.883796576855807e-2,5.2795733343137696e-2,0.7895455448992865,0.4381867038206867,0.7877003682319205,0.6752932893692846,0.3220631438729029]"
      ]
     },
     "metadata": {},
     "output_type": "display_data"
    }
   ],
   "source": [
    "values"
   ]
  },
  {
   "cell_type": "code",
   "execution_count": 11,
   "metadata": {
    "collapsed": true
   },
   "outputs": [],
   "source": [
    "(xs, ys) = randomClusters values [0.25, 0.5, 0.75, 1.0] [1, 1, -1, -1] [1, -1, 1, -1]"
   ]
  },
  {
   "cell_type": "code",
   "execution_count": 12,
   "metadata": {
    "collapsed": false
   },
   "outputs": [
    {
     "data": {
      "text/plain": [
       "[1.125,1.117563076580597,1.0802679406778615,1.1188993426511609,0.9854281936357906,0.9553047388990387,0.875,1.041061502075034,1.0731741918553028,1.0130642313304912,0.75,1.0950833929537045,0.9117002073725726,1.2487875201432241,0.9577187819975364,0.8932566807081249,0.843422057529196,0.7825468362584325,1.25,0.8884789249788061,-0.7697660733741319,-1.375,-0.971083559170854,-1.157394244228585,-1.0152348453348314,-0.625,-0.8263335807567929,-1.0674843806164103,-1.1213559980073255,-0.9982416724051931,-0.86878944347915,-0.5224431031893046,-0.5829215234563655,-1.025753697715556,-1.5,-1.3001537283137012,-0.5,-1.1405683835700018,-1.3877350658622882,-0.778757588122133]"
      ]
     },
     "metadata": {},
     "output_type": "display_data"
    }
   ],
   "source": [
    "xs"
   ]
  },
  {
   "cell_type": "code",
   "execution_count": 13,
   "metadata": {
    "collapsed": false
   },
   "outputs": [
    {
     "data": {
      "text/plain": [
       "[0.929932588029362,0.9478204564930616,1.1105992131293314,1.0091476748409527,1.110032197690718,1.0418890349651018,1.0973957133194638,0.875,0.9599394875642535,1.125,-0.75,-1.1817389632890911,-1.184894002710651,-1.0423740803310515,-1.25,-0.894126940437945,-1.0904718479378805,-0.8418637138341898,-0.9931285429383583,-1.1704380205475438,0.9321579638062009,0.6962967207226156,0.625,1.2931602038806727,0.801221603705932,0.8671907283260685,1.3074862314590694,1.375,0.6567658749275994,1.2756701511549988,-0.952997415227447,-0.6447969662684835,-0.5310437669156237,-1.4510794141239172,-1.5,-0.5,-0.9769038764142558,-0.5025044820350462,-0.6550760566720479,-1.134519878653211]"
      ]
     },
     "metadata": {},
     "output_type": "display_data"
    }
   ],
   "source": [
    "ys"
   ]
  },
  {
   "cell_type": "code",
   "execution_count": 14,
   "metadata": {
    "collapsed": false
   },
   "outputs": [
    {
     "data": {
      "text/plain": [
       "True"
      ]
     },
     "metadata": {},
     "output_type": "display_data"
    }
   ],
   "source": [
    "plot X11 (zip xs ys)"
   ]
  },
  {
   "cell_type": "code",
   "execution_count": 15,
   "metadata": {
    "collapsed": true
   },
   "outputs": [],
   "source": [
    "cs = take 40 (randomRs (0,3) g)"
   ]
  },
  {
   "cell_type": "code",
   "execution_count": 16,
   "metadata": {
    "collapsed": false
   },
   "outputs": [
    {
     "data": {
      "text/plain": [
       "[0,2,1,0,1,3,3,0,0,0,3,2,1,3,3,0,0,0,2,2,3,1,0,2,1,0,1,0,3,3,3,2,3,2,3,3,1,3,2,1]"
      ]
     },
     "metadata": {},
     "output_type": "display_data"
    }
   ],
   "source": [
    "cs"
   ]
  },
  {
   "cell_type": "code",
   "execution_count": 17,
   "metadata": {
    "collapsed": true
   },
   "outputs": [],
   "source": [
    "\n",
    "getCentroids :: [Double] -> [Double] -> [Label] -> [Centroid]\n",
    "getCentroids xs ys cs = centroids\n",
    "  where\n",
    "    centroids = zip3 xmeans ymeans labels\n",
    "    xmeans = means xs\n",
    "    ymeans = means ys\n",
    "    means ms = map (\\c -> average (map (ms !!) (elemIndices c cs))) labels\n",
    "    average vs =  sum vs / genericLength vs\n",
    "    labels = nub cs"
   ]
  },
  {
   "cell_type": "code",
   "execution_count": 18,
   "metadata": {
    "collapsed": true
   },
   "outputs": [],
   "source": [
    "centroids = getCentroids xs ys cs"
   ]
  },
  {
   "cell_type": "code",
   "execution_count": 19,
   "metadata": {
    "collapsed": false
   },
   "outputs": [
    {
     "data": {
      "text/plain": [
       "[(0.47516880932913436,0.4490679978682382,0),(3.2224910439671794e-2,-0.48190966293321347,2),(-0.18974120906594155,0.21616477611619353,1),(-0.26884506012046694,-0.1557723851027541,3)]"
      ]
     },
     "metadata": {},
     "output_type": "display_data"
    }
   ],
   "source": [
    "centroids"
   ]
  },
  {
   "cell_type": "code",
   "execution_count": 20,
   "metadata": {
    "collapsed": false
   },
   "outputs": [
    {
     "data": {
      "text/html": [
       "<style>/* Styles used for the Hoogle display in the pager */\n",
       ".hoogle-doc {\n",
       "display: block;\n",
       "padding-bottom: 1.3em;\n",
       "padding-left: 0.4em;\n",
       "}\n",
       ".hoogle-code {\n",
       "display: block;\n",
       "font-family: monospace;\n",
       "white-space: pre;\n",
       "}\n",
       ".hoogle-text {\n",
       "display: block;\n",
       "}\n",
       ".hoogle-name {\n",
       "color: green;\n",
       "font-weight: bold;\n",
       "}\n",
       ".hoogle-head {\n",
       "font-weight: bold;\n",
       "}\n",
       ".hoogle-sub {\n",
       "display: block;\n",
       "margin-left: 0.4em;\n",
       "}\n",
       ".hoogle-package {\n",
       "font-weight: bold;\n",
       "font-style: italic;\n",
       "}\n",
       ".hoogle-module {\n",
       "font-weight: bold;\n",
       "}\n",
       ".hoogle-class {\n",
       "font-weight: bold;\n",
       "}\n",
       ".get-type {\n",
       "color: green;\n",
       "font-weight: bold;\n",
       "font-family: monospace;\n",
       "display: block;\n",
       "white-space: pre-wrap;\n",
       "}\n",
       ".show-type {\n",
       "color: green;\n",
       "font-weight: bold;\n",
       "font-family: monospace;\n",
       "margin-left: 1em;\n",
       "}\n",
       ".mono {\n",
       "font-family: monospace;\n",
       "display: block;\n",
       "}\n",
       ".err-msg {\n",
       "color: red;\n",
       "font-style: italic;\n",
       "font-family: monospace;\n",
       "white-space: pre;\n",
       "display: block;\n",
       "}\n",
       "#unshowable {\n",
       "color: red;\n",
       "font-weight: bold;\n",
       "}\n",
       ".err-msg.in.collapse {\n",
       "padding-top: 0.7em;\n",
       "}\n",
       ".highlight-code {\n",
       "white-space: pre;\n",
       "font-family: monospace;\n",
       "}\n",
       ".suggestion-warning { \n",
       "font-weight: bold;\n",
       "color: rgb(200, 130, 0);\n",
       "}\n",
       ".suggestion-error { \n",
       "font-weight: bold;\n",
       "color: red;\n",
       "}\n",
       ".suggestion-name {\n",
       "font-weight: bold;\n",
       "}\n",
       "</style><div class=\"suggestion-name\" style=\"clear:both;\">Use head</div><div class=\"suggestion-row\" style=\"float: left;\"><div class=\"suggestion-warning\">Found:</div><div class=\"highlight-code\" id=\"haskell\">centroids !! 0</div></div><div class=\"suggestion-row\" style=\"float: left;\"><div class=\"suggestion-warning\">Why Not:</div><div class=\"highlight-code\" id=\"haskell\">head centroids</div></div>"
      ],
      "text/plain": [
       "Line 1: Use head\n",
       "Found:\n",
       "centroids !! 0\n",
       "Why not:\n",
       "head centroids"
      ]
     },
     "metadata": {},
     "output_type": "display_data"
    }
   ],
   "source": [
    "(ax, ay, a) = centroids !! 0"
   ]
  },
  {
   "cell_type": "code",
   "execution_count": 21,
   "metadata": {
    "collapsed": true
   },
   "outputs": [],
   "source": [
    "(bx, by, b) = centroids !! 1"
   ]
  },
  {
   "cell_type": "code",
   "execution_count": 22,
   "metadata": {
    "collapsed": false
   },
   "outputs": [
    {
     "data": {
      "text/plain": [
       "1.0629187024747413"
      ]
     },
     "metadata": {},
     "output_type": "display_data"
    }
   ],
   "source": [
    "(ax - bx)^2 + (ay - by)^2"
   ]
  },
  {
   "cell_type": "code",
   "execution_count": 23,
   "metadata": {
    "collapsed": true
   },
   "outputs": [],
   "source": [
    "\n",
    "findNearestCentroid :: [Centroid] -> LabeledPoint -> Centroid\n",
    "findNearestCentroid centroids observation = centroids !! index\n",
    "  where\n",
    "    index = fromJust (elemIndex mindistance distanceToEachCentroid)\n",
    "    mindistance = minimum distanceToEachCentroid\n",
    "    distanceToEachCentroid = map (distanceSqrd observation) centroids\n",
    "    distanceSqrd (ax, ay, _) (bx, by, _) = (ax-bx)^2 + (ay-by)^2"
   ]
  },
  {
   "cell_type": "code",
   "execution_count": 24,
   "metadata": {
    "collapsed": true
   },
   "outputs": [],
   "source": [
    "\n",
    "kmeans :: [Double] -> [Double] -> [Label] -> [Label]\n",
    "kmeans xs ys cs = map (\\(_, _, label) -> label) nextClusters\n",
    "  where\n",
    "    nextClusters = map (findNearestCentroid centroids) observations\n",
    "    observations = zip3 xs ys cs\n",
    "    centroids = getCentroids xs ys cs\n"
   ]
  },
  {
   "cell_type": "code",
   "execution_count": 25,
   "metadata": {
    "collapsed": true
   },
   "outputs": [],
   "source": [
    "g <- newStdGen"
   ]
  },
  {
   "cell_type": "code",
   "execution_count": 26,
   "metadata": {
    "collapsed": true
   },
   "outputs": [],
   "source": [
    "cs = take 40 (randomRs (0,3) g)"
   ]
  },
  {
   "cell_type": "code",
   "execution_count": 27,
   "metadata": {
    "collapsed": true
   },
   "outputs": [
    {
     "data": {
      "text/plain": [
       "[1,1,1,1,1,1,1,1,1,1,0,0,0,0,0,0,0,0,0,0,3,3,3,3,3,3,3,3,3,3,2,2,2,2,2,3,2,2,2,2]"
      ]
     },
     "metadata": {},
     "output_type": "display_data"
    }
   ],
   "source": [
    "kmeans xs ys cs"
   ]
  },
  {
   "cell_type": "code",
   "execution_count": 28,
   "metadata": {
    "collapsed": true
   },
   "outputs": [],
   "source": [
    "\n",
    "kmeansClustering :: [Double] -> [Double] -> [Label] -> [Label]\n",
    "kmeansClustering xs ys cs\n",
    " | cs == cs' = cs\n",
    " | otherwise = kmeansClustering xs ys cs'\n",
    "  where\n",
    "    cs' = kmeans xs ys cs"
   ]
  },
  {
   "cell_type": "code",
   "execution_count": 29,
   "metadata": {
    "collapsed": true
   },
   "outputs": [
    {
     "data": {
      "text/plain": [
       "[1,1,1,1,1,1,1,1,1,1,0,0,0,0,0,0,0,0,0,0,3,3,3,3,3,3,3,3,3,3,2,2,2,2,2,2,2,2,2,2]"
      ]
     },
     "metadata": {},
     "output_type": "display_data"
    }
   ],
   "source": [
    "kmeansClustering xs ys cs"
   ]
  },
  {
   "cell_type": "code",
   "execution_count": 30,
   "metadata": {
    "collapsed": true
   },
   "outputs": [],
   "source": [
    "\n",
    "closestCentroids :: [Centroid] -> (Distance, Label, Label)\n",
    "closestCentroids ps = minimumBy (\\(distA, _, _) (distB, _, _) ->\n",
    "                                  if distA < distB then LT else GT)\n",
    "                                allNonZeroPoints\n",
    "  where\n",
    "    allNonZeroPoints = filter (\\(dist, _, _) -> dist > 0) allPoints \n",
    "    allPoints = concatMap (\\(ax, ay, a) ->\n",
    "                             map (\\(bx, by, b) ->\n",
    "                                  (distanceSqrd (ax, ay) (bx, by), a, b))\n",
    "                             ps)\n",
    "                          ps\n",
    "    distanceSqrd (ax, ay) (bx, by) = (ax-bx)^2 + (ay-by)^2"
   ]
  },
  {
   "cell_type": "code",
   "execution_count": 31,
   "metadata": {
    "collapsed": true
   },
   "outputs": [],
   "source": [
    "centroids = getCentroids xs ys [0..39]"
   ]
  },
  {
   "cell_type": "code",
   "execution_count": 32,
   "metadata": {
    "collapsed": false
   },
   "outputs": [
    {
     "data": {
      "text/plain": [
       "[(1.125,0.929932588029362,0),(1.117563076580597,0.9478204564930616,1),(1.0802679406778615,1.1105992131293314,2),(1.1188993426511609,1.0091476748409527,3),(0.9854281936357906,1.110032197690718,4),(0.9553047388990387,1.0418890349651018,5),(0.875,1.0973957133194638,6),(1.041061502075034,0.875,7),(1.0731741918553028,0.9599394875642535,8),(1.0130642313304912,1.125,9),(0.75,-0.75,10),(1.0950833929537045,-1.1817389632890911,11),(0.9117002073725726,-1.184894002710651,12),(1.2487875201432241,-1.0423740803310515,13),(0.9577187819975364,-1.25,14),(0.8932566807081249,-0.894126940437945,15),(0.843422057529196,-1.0904718479378805,16),(0.7825468362584325,-0.8418637138341898,17),(1.25,-0.9931285429383583,18),(0.8884789249788061,-1.1704380205475438,19),(-0.7697660733741319,0.9321579638062009,20),(-1.375,0.6962967207226156,21),(-0.971083559170854,0.625,22),(-1.157394244228585,1.2931602038806727,23),(-1.0152348453348314,0.801221603705932,24),(-0.625,0.8671907283260685,25),(-0.8263335807567929,1.3074862314590694,26),(-1.0674843806164103,1.375,27),(-1.1213559980073255,0.6567658749275994,28),(-0.9982416724051931,1.2756701511549988,29),(-0.86878944347915,-0.952997415227447,30),(-0.5224431031893046,-0.6447969662684835,31),(-0.5829215234563655,-0.5310437669156237,32),(-1.025753697715556,-1.4510794141239172,33),(-1.5,-1.5,34),(-1.3001537283137012,-0.5,35),(-0.5,-0.9769038764142558,36),(-1.1405683835700018,-0.5025044820350462,37),(-1.3877350658622882,-0.6550760566720479,38),(-0.778757588122133,-1.134519878653211,39)]"
      ]
     },
     "metadata": {},
     "output_type": "display_data"
    }
   ],
   "source": [
    "centroids"
   ]
  },
  {
   "cell_type": "code",
   "execution_count": 33,
   "metadata": {
    "collapsed": false
   },
   "outputs": [
    {
     "data": {
      "text/plain": [
       "(3.7528366812068293e-4,1,0)"
      ]
     },
     "metadata": {},
     "output_type": "display_data"
    }
   ],
   "source": [
    "closestCentroids centroids"
   ]
  },
  {
   "cell_type": "code",
   "execution_count": 34,
   "metadata": {
    "collapsed": true
   },
   "outputs": [],
   "source": [
    "\n",
    "relabelClosestClusters :: [LabeledPoint] -> [LabeledPoint]\n",
    "relabelClosestClusters points\n",
    "  | a < b     = map (relabel a b) points\n",
    "  | otherwise = map (relabel b a) points\n",
    "  where\n",
    "    (xs, ys, cs) = unzip3 points\n",
    "    centroids = getCentroids xs ys cs\n",
    "    (_, a, b) = closestCentroids centroids\n",
    "    relabel p q (x, y, label) = (x, y, if label == q then p else label)"
   ]
  },
  {
   "cell_type": "code",
   "execution_count": 35,
   "metadata": {
    "collapsed": false
   },
   "outputs": [
    {
     "data": {
      "text/plain": [
       "[0,0,2,3,4,5,6,7,8,9,10,11,12,13,14,15,16,17,18,19,20,21,22,23,24,25,26,27,28,29,30,31,32,33,34,35,36,37,38,39]"
      ]
     },
     "metadata": {},
     "output_type": "display_data"
    }
   ],
   "source": [
    "map (\\(_,_,x) -> x) $ relabelClosestClusters centroids"
   ]
  },
  {
   "cell_type": "code",
   "execution_count": 36,
   "metadata": {
    "collapsed": true
   },
   "outputs": [],
   "source": [
    "\n",
    "hierarchicalCluster :: [LabeledPoint] -> Int -> [LabeledPoint]\n",
    "hierarchicalCluster points n\n",
    " | n == length (nub cs') || cs == cs' = points'\n",
    " | otherwise = hierarchicalCluster points' n\n",
    " where\n",
    "   points' = relabelClosestClusters points\n",
    "   cs' = map (\\(_, _, x) -> x) points'"
   ]
  },
  {
   "cell_type": "code",
   "execution_count": 37,
   "metadata": {
    "collapsed": true
   },
   "outputs": [],
   "source": [
    "points = hierarchicalCluster centroids 4"
   ]
  },
  {
   "cell_type": "code",
   "execution_count": 38,
   "metadata": {
    "collapsed": false
   },
   "outputs": [
    {
     "data": {
      "text/plain": [
       "[0,0,0,0,0,0,0,0,0,0,10,10,10,10,10,10,10,10,10,10,20,20,20,20,20,20,20,20,20,20,30,30,30,30,30,30,30,30,30,30]"
      ]
     },
     "metadata": {},
     "output_type": "display_data"
    }
   ],
   "source": [
    "map (\\(_, _, x) -> x) points"
   ]
  },
  {
   "cell_type": "code",
   "execution_count": null,
   "metadata": {
    "collapsed": true
   },
   "outputs": [],
   "source": []
  }
 ],
 "metadata": {
  "kernelspec": {
   "display_name": "Haskell",
   "language": "haskell",
   "name": "haskell"
  },
  "language_info": {
   "codemirror_mode": "ihaskell",
   "file_extension": ".hs",
   "name": "haskell",
   "version": "7.6.3"
  }
 },
 "nbformat": 4,
 "nbformat_minor": 0
}
