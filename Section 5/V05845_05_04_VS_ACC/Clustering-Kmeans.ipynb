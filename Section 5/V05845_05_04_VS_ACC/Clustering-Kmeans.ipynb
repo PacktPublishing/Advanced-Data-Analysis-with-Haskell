{
 "cells": [
  {
   "cell_type": "code",
   "execution_count": 1,
   "metadata": {
    "collapsed": true
   },
   "outputs": [],
   "source": [
    "import System.Random\n",
    "import Data.List\n",
    "import Data.Maybe\n",
    "import Data.Ord\n",
    "import Graphics.EasyPlot"
   ]
  },
  {
   "cell_type": "code",
   "execution_count": 2,
   "metadata": {
    "collapsed": true
   },
   "outputs": [],
   "source": [
    "type Sigma = Double\n",
    "type Mean = Double\n",
    "type Distance = Double\n",
    "type Label = Int\n",
    "type Point = (Double, Double)\n",
    "type LabeledPoint = (Double, Double, Label)\n",
    "type Centroid = (Double, Double, Label)"
   ]
  },
  {
   "cell_type": "code",
   "execution_count": 3,
   "metadata": {
    "collapsed": true
   },
   "outputs": [],
   "source": [
    "\n",
    "reposition :: [Double] -> Sigma -> Mean -> [Double]\n",
    "reposition values sigma mu = map (\\x -> sigma * x + mu) scaled\n",
    "  where\n",
    "    scaled = map (\\x -> (x-mi)/(ma-mi) - 0.5) values\n",
    "    mi = minimum values\n",
    "    ma = maximum values"
   ]
  },
  {
   "cell_type": "code",
   "execution_count": 4,
   "metadata": {
    "collapsed": false
   },
   "outputs": [
    {
     "data": {
      "text/plain": [
       "[-0.25,-0.19444444444444445,-0.1388888888888889,-8.333333333333334e-2,-2.777777777777779e-2,2.777777777777779e-2,8.333333333333331e-2,0.1388888888888889,0.19444444444444442,0.25]"
      ]
     },
     "metadata": {},
     "output_type": "display_data"
    }
   ],
   "source": [
    "reposition [0..9] 0.5 0"
   ]
  },
  {
   "cell_type": "code",
   "execution_count": 5,
   "metadata": {
    "collapsed": false
   },
   "outputs": [
    {
     "data": {
      "text/plain": [
       "[-0.5,-0.3888888888888889,-0.2777777777777778,-0.16666666666666669,-5.555555555555558e-2,5.555555555555558e-2,0.16666666666666663,0.2777777777777778,0.38888888888888884,0.5]"
      ]
     },
     "metadata": {},
     "output_type": "display_data"
    }
   ],
   "source": [
    "reposition [0..9] 1.0 0"
   ]
  },
  {
   "cell_type": "code",
   "execution_count": 6,
   "metadata": {
    "collapsed": false
   },
   "outputs": [
    {
     "data": {
      "text/plain": [
       "[0.5,0.6111111111111112,0.7222222222222222,0.8333333333333333,0.9444444444444444,1.0555555555555556,1.1666666666666665,1.2777777777777777,1.3888888888888888,1.5]"
      ]
     },
     "metadata": {},
     "output_type": "display_data"
    }
   ],
   "source": [
    "reposition [0..9] 1.0 1.0"
   ]
  },
  {
   "cell_type": "code",
   "execution_count": 7,
   "metadata": {
    "collapsed": true
   },
   "outputs": [],
   "source": [
    "\n",
    "randomClusters :: [Double] -> [Sigma] -> [Mean] -> [Mean] -> ([Double], [Double])\n",
    "randomClusters values sigmas xmus ymus = (xs, ys)\n",
    "  where\n",
    "    clusters = genericLength sigmas\n",
    "    pointsPerCluster = floor (genericLength values / (2.0 * clusters))\n",
    "    chunks = chunk pointsPerCluster values\n",
    "    xs = concatMap (\\i -> reposition (chunks !! (2*i)) (sigmas !! i) (xmus !! i)) [0..(clusters-1)]\n",
    "    ys = concatMap (\\i -> reposition (chunks !! (2*i+1)) (sigmas !! i) (ymus !! i)) [0..(clusters-1)]\n",
    "    chunk n [] = []\n",
    "    chunk n list = genericTake n list : chunk n (genericDrop n list)"
   ]
  },
  {
   "cell_type": "code",
   "execution_count": 8,
   "metadata": {
    "collapsed": true
   },
   "outputs": [],
   "source": [
    "g <- newStdGen"
   ]
  },
  {
   "cell_type": "code",
   "execution_count": 9,
   "metadata": {
    "collapsed": true
   },
   "outputs": [],
   "source": [
    "values = take 80 (randoms g) :: [Double]"
   ]
  },
  {
   "cell_type": "code",
   "execution_count": 10,
   "metadata": {
    "collapsed": false
   },
   "outputs": [
    {
     "data": {
      "text/plain": [
       "[0.46024982104050893,0.3581128628311353,0.21064922966635735,6.59847348368352e-2,0.46833308773194704,6.5654913611069565e-3,0.7710906571199988,0.8816635231623543,0.3411197833133226,0.33198411346320456,0.9391616885142349,0.5155086335318453,0.3297459395058129,0.4688596950141187,0.2786100003171603,0.2530356290126645,4.273512499336429e-2,0.36648988140360894,0.8808815495515794,0.26208544117496113,0.45574987906313247,0.42648250240338925,0.8219263014978118,0.19326670140319613,0.8110173461338968,0.312696249654978,0.31625160293419374,0.6739699993016531,0.12692985871290186,0.1515905404782959,0.453433279662825,0.8286466343753662,9.378228605309391e-2,0.9546535496836943,0.5240667892379306,0.7159292655065608,0.1334234726627499,0.8999898564085034,6.821807640004762e-2,0.44663917673639564,0.9239922971905942,0.9502924698727468,0.5496747506525373,0.523656438537601,6.737744714622063e-2,0.724858429694705,0.29710525083739847,0.7595897593080743,0.7220623461459864,0.46724750670274595,0.9532255605412281,0.8654436527535229,0.7356944173931923,0.7482101915877158,0.4131115453158205,0.9033557553271252,0.9079911389434963,0.29956719565452516,0.133072534567099,0.23167985465820418,0.8994236624572681,0.2671115400534031,0.30327866287178773,0.5829577301577302,0.12257604648175524,0.7850140437503522,0.5935406915790082,0.7930690388752213,0.37714326176690904,0.7868695024747178,1.724837921516509e-2,0.462001572214636,0.6078530656340896,0.23585253297827802,0.7132046623589662,0.6209070099673308,0.6522079444898418,0.14207349116931722,0.6458258129149996,0.48545048411617586]"
      ]
     },
     "metadata": {},
     "output_type": "display_data"
    }
   ],
   "source": [
    "values"
   ]
  },
  {
   "cell_type": "code",
   "execution_count": 11,
   "metadata": {
    "collapsed": true
   },
   "outputs": [],
   "source": [
    "(xs, ys) = randomClusters values [0.25, 0.5, 0.75, 1.0] [1, 1, -1, -1] [1, -1, 1, -1]"
   ]
  },
  {
   "cell_type": "code",
   "execution_count": 12,
   "metadata": {
    "collapsed": false
   },
   "outputs": [
    {
     "data": {
      "text/plain": [
       "[1.0046095732113483,0.9754308542285328,0.933303107448767,0.8919750248876184,1.0069188192608451,0.875,1.0934112916427319,1.125,0.9705762325460812,0.9679663335638741,0.9865623765156415,0.9655066020842887,1.25,0.7977245915277471,1.2421517905039903,0.8836455696073022,0.8862033908135296,1.1435560723136329,0.75,0.7677415884796306,-0.6473409150415195,-0.625,-0.9653082762000104,-0.9874097622818101,-1.375,-0.8164969456646121,-1.1798556788213692,-0.7869941095597437,-0.8188721036442137,-1.0353268299351548,-0.5,-1.3139461451649692,-1.2673898810088793,-0.9073719553121642,-1.5,-0.6472742097087445,-0.8937489986297411,-0.6369053870989794,-1.1723073997395417,-0.6448857635241789]"
      ]
     },
     "metadata": {},
     "output_type": "display_data"
    }
   ],
   "source": [
    "xs"
   ]
  },
  {
   "cell_type": "code",
   "execution_count": 13,
   "metadata": {
    "collapsed": false
   },
   "outputs": [
    {
     "data": {
      "text/plain": [
       "[1.125,1.0068494809774438,0.9550430359250969,0.9938397877086207,0.9407819850845776,0.9336496743228214,0.875,0.9652903733515665,1.1087465383852109,0.936173531973456,-1.0327167262182015,-0.821075063614928,-1.2355803324531067,-0.75,-0.992875411365663,-0.8846540675390735,-1.2132204496390695,-0.7808334305895379,-1.25,-1.0365489865074147,1.375,1.29472665008145,1.1760757112463873,1.187520929819767,0.8810854516290796,1.3293958837850377,1.3336347728730211,0.77725328915571,0.625,0.715172794254449,-1.5,-0.8609466517201134,-0.6513767448854376,-1.1858938426769772,-0.5,-0.6326198995929813,-0.5876444675426847,-1.3206423090394597,-0.5968147728182008,-0.8272535700288102]"
      ]
     },
     "metadata": {},
     "output_type": "display_data"
    }
   ],
   "source": [
    "ys"
   ]
  },
  {
   "cell_type": "code",
   "execution_count": 14,
   "metadata": {
    "collapsed": false
   },
   "outputs": [
    {
     "data": {
      "text/plain": [
       "True"
      ]
     },
     "metadata": {},
     "output_type": "display_data"
    }
   ],
   "source": [
    "plot X11 (zip xs ys)"
   ]
  },
  {
   "cell_type": "code",
   "execution_count": 15,
   "metadata": {
    "collapsed": true
   },
   "outputs": [],
   "source": [
    "cs = take 40 (randomRs (0,3) g)"
   ]
  },
  {
   "cell_type": "code",
   "execution_count": 16,
   "metadata": {
    "collapsed": false
   },
   "outputs": [
    {
     "data": {
      "text/plain": [
       "[2,2,1,1,2,0,1,2,1,2,3,1,2,1,0,3,2,0,0,3,2,0,2,3,0,2,0,2,3,2,2,0,0,0,2,0,3,0,1,0]"
      ]
     },
     "metadata": {},
     "output_type": "display_data"
    }
   ],
   "source": [
    "cs"
   ]
  },
  {
   "cell_type": "code",
   "execution_count": 17,
   "metadata": {
    "collapsed": true
   },
   "outputs": [],
   "source": [
    "\n",
    "getCentroids :: [Double] -> [Double] -> [Label] -> [Centroid]\n",
    "getCentroids xs ys cs = centroids\n",
    "  where\n",
    "    centroids = zip3 xmeans ymeans labels\n",
    "    xmeans = means xs\n",
    "    ymeans = means ys\n",
    "    means ms = map (\\c -> average (map (ms !!) (elemIndices c cs))) labels\n",
    "    average vs =  sum vs / genericLength vs\n",
    "    labels = nub cs"
   ]
  },
  {
   "cell_type": "code",
   "execution_count": 18,
   "metadata": {
    "collapsed": true
   },
   "outputs": [],
   "source": [
    "centroids = getCentroids xs ys cs"
   ]
  },
  {
   "cell_type": "code",
   "execution_count": 19,
   "metadata": {
    "collapsed": true
   },
   "outputs": [
    {
     "data": {
      "text/plain": [
       "[(6.890442104836346e-2,0.42129944769546085,2),(0.6400270643425275,0.25210564651225703,1),(-0.35284008906320474,-0.312257331614816,0),(-1.034688832553173e-2,-0.2881738863312679,3)]"
      ]
     },
     "metadata": {},
     "output_type": "display_data"
    }
   ],
   "source": [
    "centroids"
   ]
  },
  {
   "cell_type": "code",
   "execution_count": 20,
   "metadata": {
    "collapsed": false
   },
   "outputs": [
    {
     "data": {
      "text/html": [
       "<style>/* Styles used for the Hoogle display in the pager */\n",
       ".hoogle-doc {\n",
       "display: block;\n",
       "padding-bottom: 1.3em;\n",
       "padding-left: 0.4em;\n",
       "}\n",
       ".hoogle-code {\n",
       "display: block;\n",
       "font-family: monospace;\n",
       "white-space: pre;\n",
       "}\n",
       ".hoogle-text {\n",
       "display: block;\n",
       "}\n",
       ".hoogle-name {\n",
       "color: green;\n",
       "font-weight: bold;\n",
       "}\n",
       ".hoogle-head {\n",
       "font-weight: bold;\n",
       "}\n",
       ".hoogle-sub {\n",
       "display: block;\n",
       "margin-left: 0.4em;\n",
       "}\n",
       ".hoogle-package {\n",
       "font-weight: bold;\n",
       "font-style: italic;\n",
       "}\n",
       ".hoogle-module {\n",
       "font-weight: bold;\n",
       "}\n",
       ".hoogle-class {\n",
       "font-weight: bold;\n",
       "}\n",
       ".get-type {\n",
       "color: green;\n",
       "font-weight: bold;\n",
       "font-family: monospace;\n",
       "display: block;\n",
       "white-space: pre-wrap;\n",
       "}\n",
       ".show-type {\n",
       "color: green;\n",
       "font-weight: bold;\n",
       "font-family: monospace;\n",
       "margin-left: 1em;\n",
       "}\n",
       ".mono {\n",
       "font-family: monospace;\n",
       "display: block;\n",
       "}\n",
       ".err-msg {\n",
       "color: red;\n",
       "font-style: italic;\n",
       "font-family: monospace;\n",
       "white-space: pre;\n",
       "display: block;\n",
       "}\n",
       "#unshowable {\n",
       "color: red;\n",
       "font-weight: bold;\n",
       "}\n",
       ".err-msg.in.collapse {\n",
       "padding-top: 0.7em;\n",
       "}\n",
       ".highlight-code {\n",
       "white-space: pre;\n",
       "font-family: monospace;\n",
       "}\n",
       ".suggestion-warning { \n",
       "font-weight: bold;\n",
       "color: rgb(200, 130, 0);\n",
       "}\n",
       ".suggestion-error { \n",
       "font-weight: bold;\n",
       "color: red;\n",
       "}\n",
       ".suggestion-name {\n",
       "font-weight: bold;\n",
       "}\n",
       "</style><div class=\"suggestion-name\" style=\"clear:both;\">Use head</div><div class=\"suggestion-row\" style=\"float: left;\"><div class=\"suggestion-warning\">Found:</div><div class=\"highlight-code\" id=\"haskell\">centroids !! 0</div></div><div class=\"suggestion-row\" style=\"float: left;\"><div class=\"suggestion-warning\">Why Not:</div><div class=\"highlight-code\" id=\"haskell\">head centroids</div></div>"
      ],
      "text/plain": [
       "Line 1: Use head\n",
       "Found:\n",
       "centroids !! 0\n",
       "Why not:\n",
       "head centroids"
      ]
     },
     "metadata": {},
     "output_type": "display_data"
    }
   ],
   "source": [
    "(ax, ay, a) = centroids !! 0"
   ]
  },
  {
   "cell_type": "code",
   "execution_count": 21,
   "metadata": {
    "collapsed": true
   },
   "outputs": [],
   "source": [
    "(bx, by, b) = centroids !! 1"
   ]
  },
  {
   "cell_type": "code",
   "execution_count": 22,
   "metadata": {
    "collapsed": true
   },
   "outputs": [
    {
     "data": {
      "text/plain": [
       "0.35480761604213445"
      ]
     },
     "metadata": {},
     "output_type": "display_data"
    }
   ],
   "source": [
    "(ax - bx)^2 + (ay - by)^2"
   ]
  },
  {
   "cell_type": "code",
   "execution_count": 23,
   "metadata": {
    "collapsed": true
   },
   "outputs": [],
   "source": [
    "\n",
    "findNearestCentroid :: [Centroid] -> LabeledPoint -> Centroid\n",
    "findNearestCentroid centroids observation = centroids !! index\n",
    "  where\n",
    "    index = fromJust (elemIndex mindistance distanceToEachCentroid)\n",
    "    mindistance = minimum distanceToEachCentroid\n",
    "    distanceToEachCentroid = map (distanceSqrd observation) centroids\n",
    "    distanceSqrd (ax, ay, _) (bx, by, _) = (ax-bx)^2 + (ay-by)^2"
   ]
  },
  {
   "cell_type": "code",
   "execution_count": 24,
   "metadata": {
    "collapsed": true
   },
   "outputs": [],
   "source": [
    "\n",
    "kmeans :: [Double] -> [Double] -> [Label] -> [Label]\n",
    "kmeans xs ys cs = map (\\(_, _, label) -> label) nextClusters\n",
    "  where\n",
    "    nextClusters = map (findNearestCentroid centroids) observations\n",
    "    observations = zip3 xs ys cs\n",
    "    centroids = getCentroids xs ys cs\n"
   ]
  },
  {
   "cell_type": "code",
   "execution_count": 28,
   "metadata": {
    "collapsed": true
   },
   "outputs": [],
   "source": [
    "g <- newStdGen"
   ]
  },
  {
   "cell_type": "code",
   "execution_count": 29,
   "metadata": {
    "collapsed": true
   },
   "outputs": [],
   "source": [
    "cs = take 40 (randomRs (0,3) g)"
   ]
  },
  {
   "cell_type": "code",
   "execution_count": 30,
   "metadata": {
    "collapsed": false
   },
   "outputs": [
    {
     "data": {
      "text/plain": [
       "[2,2,2,2,2,2,2,2,2,2,3,2,3,3,2,3,3,2,3,3,0,0,1,1,1,0,1,1,1,1,3,1,1,3,1,3,1,3,1,3]"
      ]
     },
     "metadata": {},
     "output_type": "display_data"
    }
   ],
   "source": [
    "kmeans xs ys cs"
   ]
  },
  {
   "cell_type": "code",
   "execution_count": 31,
   "metadata": {
    "collapsed": true
   },
   "outputs": [],
   "source": [
    "\n",
    "kmeansClustering :: [Double] -> [Double] -> [Label] -> [Label]\n",
    "kmeansClustering xs ys cs\n",
    " | cs == cs' = cs\n",
    " | otherwise = kmeansClustering xs ys cs'\n",
    "  where\n",
    "    cs' = kmeans xs ys cs"
   ]
  },
  {
   "cell_type": "code",
   "execution_count": 32,
   "metadata": {
    "collapsed": false
   },
   "outputs": [
    {
     "data": {
      "text/plain": [
       "[2,2,2,2,2,2,2,2,2,2,3,3,3,3,3,3,3,3,3,3,0,0,0,0,0,0,0,0,0,0,1,1,1,1,1,1,1,1,1,1]"
      ]
     },
     "metadata": {},
     "output_type": "display_data"
    }
   ],
   "source": [
    "kmeansClustering xs ys cs"
   ]
  },
  {
   "cell_type": "code",
   "execution_count": null,
   "metadata": {
    "collapsed": true
   },
   "outputs": [],
   "source": []
  }
 ],
 "metadata": {
  "kernelspec": {
   "display_name": "Haskell",
   "language": "haskell",
   "name": "haskell"
  },
  "language_info": {
   "codemirror_mode": "ihaskell",
   "file_extension": ".hs",
   "name": "haskell",
   "version": "7.6.3"
  }
 },
 "nbformat": 4,
 "nbformat_minor": 0
}
