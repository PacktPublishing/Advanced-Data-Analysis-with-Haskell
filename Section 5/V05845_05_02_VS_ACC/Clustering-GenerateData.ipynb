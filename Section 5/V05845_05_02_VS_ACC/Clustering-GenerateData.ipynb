{
 "cells": [
  {
   "cell_type": "code",
   "execution_count": 1,
   "metadata": {
    "collapsed": true
   },
   "outputs": [],
   "source": [
    "import System.Random\n",
    "import Data.List\n",
    "import Data.Maybe\n",
    "import Data.Ord\n",
    "import Graphics.EasyPlot"
   ]
  },
  {
   "cell_type": "code",
   "execution_count": 2,
   "metadata": {
    "collapsed": true
   },
   "outputs": [],
   "source": [
    "type Sigma = Double\n",
    "type Mean = Double\n",
    "type Distance = Double\n",
    "type Label = Int\n",
    "type Point = (Double, Double)\n",
    "type LabeledPoint = (Double, Double, Label)\n",
    "type Centroid = (Double, Double, Label)"
   ]
  },
  {
   "cell_type": "code",
   "execution_count": 3,
   "metadata": {
    "collapsed": true
   },
   "outputs": [],
   "source": [
    "\n",
    "reposition :: [Double] -> Sigma -> Mean -> [Double]\n",
    "reposition values sigma mu = map (\\x -> sigma * x + mu) scaled\n",
    "  where\n",
    "    scaled = map (\\x -> (x-mi)/(ma-mi) - 0.5) values\n",
    "    mi = minimum values\n",
    "    ma = maximum values"
   ]
  },
  {
   "cell_type": "code",
   "execution_count": 4,
   "metadata": {
    "collapsed": false
   },
   "outputs": [
    {
     "data": {
      "text/plain": [
       "[-0.25,-0.19444444444444445,-0.1388888888888889,-8.333333333333334e-2,-2.777777777777779e-2,2.777777777777779e-2,8.333333333333331e-2,0.1388888888888889,0.19444444444444442,0.25]"
      ]
     },
     "metadata": {},
     "output_type": "display_data"
    }
   ],
   "source": [
    "reposition [0..9] 0.5 0"
   ]
  },
  {
   "cell_type": "code",
   "execution_count": 5,
   "metadata": {
    "collapsed": false
   },
   "outputs": [
    {
     "data": {
      "text/plain": [
       "[-0.5,-0.3888888888888889,-0.2777777777777778,-0.16666666666666669,-5.555555555555558e-2,5.555555555555558e-2,0.16666666666666663,0.2777777777777778,0.38888888888888884,0.5]"
      ]
     },
     "metadata": {},
     "output_type": "display_data"
    }
   ],
   "source": [
    "reposition [0..9] 1.0 0"
   ]
  },
  {
   "cell_type": "code",
   "execution_count": 6,
   "metadata": {
    "collapsed": false
   },
   "outputs": [
    {
     "data": {
      "text/plain": [
       "[0.5,0.6111111111111112,0.7222222222222222,0.8333333333333333,0.9444444444444444,1.0555555555555556,1.1666666666666665,1.2777777777777777,1.3888888888888888,1.5]"
      ]
     },
     "metadata": {},
     "output_type": "display_data"
    }
   ],
   "source": [
    "reposition [0..9] 1.0 1.0"
   ]
  },
  {
   "cell_type": "code",
   "execution_count": 7,
   "metadata": {
    "collapsed": true
   },
   "outputs": [],
   "source": [
    "\n",
    "randomClusters :: [Double] -> [Sigma] -> [Mean] -> [Mean] -> ([Double], [Double])\n",
    "randomClusters values sigmas xmus ymus = (xs, ys)\n",
    "  where\n",
    "    clusters = genericLength sigmas\n",
    "    pointsPerCluster = floor (genericLength values / (2.0 * clusters))\n",
    "    chunks = chunk pointsPerCluster values\n",
    "    xs = concatMap (\\i -> reposition (chunks !! (2*i)) (sigmas !! i) (xmus !! i)) [0..(clusters-1)]\n",
    "    ys = concatMap (\\i -> reposition (chunks !! (2*i+1)) (sigmas !! i) (ymus !! i)) [0..(clusters-1)]\n",
    "    chunk n [] = []\n",
    "    chunk n list = genericTake n list : chunk n (genericDrop n list)"
   ]
  },
  {
   "cell_type": "code",
   "execution_count": 8,
   "metadata": {
    "collapsed": true
   },
   "outputs": [],
   "source": [
    "g <- newStdGen"
   ]
  },
  {
   "cell_type": "code",
   "execution_count": 9,
   "metadata": {
    "collapsed": true
   },
   "outputs": [],
   "source": [
    "values = take 80 (randoms g) :: [Double]"
   ]
  },
  {
   "cell_type": "code",
   "execution_count": 10,
   "metadata": {
    "collapsed": false
   },
   "outputs": [
    {
     "data": {
      "text/plain": [
       "[0.6937974804115149,0.2565458962298087,0.23895869183319762,0.1431006956726939,0.6987389181380942,0.9919657677272834,0.5791823328561538,0.2989428849161512,0.5354405154870818,3.0241761567148973e-2,0.6999520576050814,1.7952871362268197e-2,0.6796814131364086,0.9020178003618079,0.8291288101600439,0.48349438590585914,0.6210139653661917,0.5424350992558249,0.5074922057844619,0.592075874622494,0.14704961709924447,0.4196624648819446,0.16131098667862442,0.5285943834408394,0.3397521608669064,0.7019365638545914,5.5680680384420644e-2,0.6051648907430782,0.1842663790350514,0.30935864204700014,0.5652210902245642,3.46398077523169e-3,0.5521666432607883,0.6858260956464338,0.21772049895257706,0.7107352188358151,0.2312503121900128,0.7390891194371411,0.49632177476867234,0.957823594280557,0.9418468697316442,0.20994069094151946,0.10433481674407641,0.5998525054425968,0.7939199501329908,0.7367250070036774,0.9557029490323377,0.7684642606002514,1.201438199125937e-2,0.8943719312485795,0.4906064471120598,4.75176784154846e-2,0.8425194188393471,0.22911867980916734,0.4163359459676448,0.7599341585896091,0.4950495511470585,8.486747518050475e-2,5.587972268286334e-3,0.7216943700682623,0.3892666199217516,0.19105777584006522,0.8235251051084,0.6837608610280412,0.7934069773600526,6.022693026770787e-2,0.6106589201664335,0.906140284332163,0.8092723009550352,0.33296067657366435,0.6123729269069017,0.8784218485252081,0.8900000040399153,0.490876565189428,0.5160587864195307,0.6555836689872834,0.7419502756893214,0.2077779380876128,2.5739947138325392e-2,0.9016615339432585]"
      ]
     },
     "metadata": {},
     "output_type": "display_data"
    }
   ],
   "source": [
    "values"
   ]
  },
  {
   "cell_type": "code",
   "execution_count": 11,
   "metadata": {
    "collapsed": true
   },
   "outputs": [],
   "source": [
    "(xs, ys) = randomClusters values [0.25, 0.5, 0.75, 1.0] [1, 1, -1, -1] [1, -1, 1, -1]"
   ]
  },
  {
   "cell_type": "code",
   "execution_count": 12,
   "metadata": {
    "collapsed": false
   },
   "outputs": [
    {
     "data": {
      "text/plain": [
       "[1.0474912018921463,0.9338277232379334,0.9292559322968839,0.9043376616842902,1.0487757278307024,1.125,1.0176970128053562,0.9448488135961799,1.00632633444834,0.875,0.8206909902500262,1.0316081012238276,0.8317248314452517,1.1158873483031486,0.9697825101081634,1.25,0.75,1.1751289809603878,0.8494851280580766,0.9462674291647579,-0.6360121705809197,-1.2176973295033748,-1.3016279909677038,-0.9078134641167992,-0.7535776403490415,-0.7990335342161099,-0.625,-0.7738086443225416,-1.375,-0.6737430545884915,-1.1110243583777586,-1.345337770182088,-0.597663878725655,-0.7628867628529923,-0.633268149072772,-1.5,-0.8493045271669928,-0.5,-0.6145128906071706,-1.1775866641713102]"
      ]
     },
     "metadata": {},
     "output_type": "display_data"
    }
   ],
   "source": [
    "xs"
   ]
  },
  {
   "cell_type": "code",
   "execution_count": 13,
   "metadata": {
    "collapsed": false
   },
   "outputs": [
    {
     "data": {
      "text/plain": [
       "[1.067858907720331,0.875,1.062126680424647,1.125,1.104388111718149,1.0066479987138572,1.0455364261781042,1.0233155282743462,1.0134342140390598,1.0373531780380478,-0.9556889764089971,-1.25,-0.9625283516188445,-0.8925026241602403,-1.13774854093501,-0.8794524474569895,-1.1306601158560499,-0.864597512168402,-0.9917861218041314,-0.75,1.0596399667776664,0.6625744987707647,1.375,0.8253127392841086,0.9930838873203488,1.300992809278383,1.0636215689027886,0.6960447999388386,0.625,1.266724959135444,-0.8302676990660594,-0.5265316961793589,-0.5133134404711734,-0.9689745919520442,-0.9402251906249699,-0.7809359521022702,-0.6823351092835948,-1.2921754713075395,-1.5,-0.5]"
      ]
     },
     "metadata": {},
     "output_type": "display_data"
    }
   ],
   "source": [
    "ys"
   ]
  },
  {
   "cell_type": "code",
   "execution_count": 14,
   "metadata": {
    "collapsed": false
   },
   "outputs": [
    {
     "data": {
      "text/plain": [
       "True"
      ]
     },
     "metadata": {},
     "output_type": "display_data"
    }
   ],
   "source": [
    "plot X11 (zip xs ys)"
   ]
  },
  {
   "cell_type": "code",
   "execution_count": null,
   "metadata": {
    "collapsed": true
   },
   "outputs": [],
   "source": []
  }
 ],
 "metadata": {
  "kernelspec": {
   "display_name": "Haskell",
   "language": "haskell",
   "name": "haskell"
  },
  "language_info": {
   "codemirror_mode": "ihaskell",
   "file_extension": ".hs",
   "name": "haskell",
   "version": "7.6.3"
  }
 },
 "nbformat": 4,
 "nbformat_minor": 0
}
