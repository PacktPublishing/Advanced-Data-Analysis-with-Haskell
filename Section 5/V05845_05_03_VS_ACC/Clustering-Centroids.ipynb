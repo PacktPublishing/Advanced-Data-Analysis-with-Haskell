{
 "cells": [
  {
   "cell_type": "code",
   "execution_count": 1,
   "metadata": {
    "collapsed": true
   },
   "outputs": [],
   "source": [
    "import System.Random\n",
    "import Data.List\n",
    "import Data.Maybe\n",
    "import Data.Ord\n",
    "import Graphics.EasyPlot"
   ]
  },
  {
   "cell_type": "code",
   "execution_count": 2,
   "metadata": {
    "collapsed": true
   },
   "outputs": [],
   "source": [
    "type Sigma = Double\n",
    "type Mean = Double\n",
    "type Distance = Double\n",
    "type Label = Int\n",
    "type Point = (Double, Double)\n",
    "type LabeledPoint = (Double, Double, Label)\n",
    "type Centroid = (Double, Double, Label)"
   ]
  },
  {
   "cell_type": "code",
   "execution_count": 3,
   "metadata": {
    "collapsed": true
   },
   "outputs": [],
   "source": [
    "\n",
    "reposition :: [Double] -> Sigma -> Mean -> [Double]\n",
    "reposition values sigma mu = map (\\x -> sigma * x + mu) scaled\n",
    "  where\n",
    "    scaled = map (\\x -> (x-mi)/(ma-mi) - 0.5) values\n",
    "    mi = minimum values\n",
    "    ma = maximum values"
   ]
  },
  {
   "cell_type": "code",
   "execution_count": 4,
   "metadata": {
    "collapsed": false
   },
   "outputs": [
    {
     "data": {
      "text/plain": [
       "[-0.25,-0.19444444444444445,-0.1388888888888889,-8.333333333333334e-2,-2.777777777777779e-2,2.777777777777779e-2,8.333333333333331e-2,0.1388888888888889,0.19444444444444442,0.25]"
      ]
     },
     "metadata": {},
     "output_type": "display_data"
    }
   ],
   "source": [
    "reposition [0..9] 0.5 0"
   ]
  },
  {
   "cell_type": "code",
   "execution_count": 5,
   "metadata": {
    "collapsed": false
   },
   "outputs": [
    {
     "data": {
      "text/plain": [
       "[-0.5,-0.3888888888888889,-0.2777777777777778,-0.16666666666666669,-5.555555555555558e-2,5.555555555555558e-2,0.16666666666666663,0.2777777777777778,0.38888888888888884,0.5]"
      ]
     },
     "metadata": {},
     "output_type": "display_data"
    }
   ],
   "source": [
    "reposition [0..9] 1.0 0"
   ]
  },
  {
   "cell_type": "code",
   "execution_count": 6,
   "metadata": {
    "collapsed": false
   },
   "outputs": [
    {
     "data": {
      "text/plain": [
       "[0.5,0.6111111111111112,0.7222222222222222,0.8333333333333333,0.9444444444444444,1.0555555555555556,1.1666666666666665,1.2777777777777777,1.3888888888888888,1.5]"
      ]
     },
     "metadata": {},
     "output_type": "display_data"
    }
   ],
   "source": [
    "reposition [0..9] 1.0 1.0"
   ]
  },
  {
   "cell_type": "code",
   "execution_count": 7,
   "metadata": {
    "collapsed": true
   },
   "outputs": [],
   "source": [
    "\n",
    "randomClusters :: [Double] -> [Sigma] -> [Mean] -> [Mean] -> ([Double], [Double])\n",
    "randomClusters values sigmas xmus ymus = (xs, ys)\n",
    "  where\n",
    "    clusters = genericLength sigmas\n",
    "    pointsPerCluster = floor (genericLength values / (2.0 * clusters))\n",
    "    chunks = chunk pointsPerCluster values\n",
    "    xs = concatMap (\\i -> reposition (chunks !! (2*i)) (sigmas !! i) (xmus !! i)) [0..(clusters-1)]\n",
    "    ys = concatMap (\\i -> reposition (chunks !! (2*i+1)) (sigmas !! i) (ymus !! i)) [0..(clusters-1)]\n",
    "    chunk n [] = []\n",
    "    chunk n list = genericTake n list : chunk n (genericDrop n list)"
   ]
  },
  {
   "cell_type": "code",
   "execution_count": 8,
   "metadata": {
    "collapsed": true
   },
   "outputs": [],
   "source": [
    "g <- newStdGen"
   ]
  },
  {
   "cell_type": "code",
   "execution_count": 9,
   "metadata": {
    "collapsed": true
   },
   "outputs": [],
   "source": [
    "values = take 80 (randoms g) :: [Double]"
   ]
  },
  {
   "cell_type": "code",
   "execution_count": 10,
   "metadata": {
    "collapsed": false
   },
   "outputs": [
    {
     "data": {
      "text/plain": [
       "[0.9357653950579865,0.620696176336032,0.4417969315936716,0.8016212442476839,0.3885614657381379,0.7323678474147667,0.8600230686330098,0.4212687899977592,8.07757232687234e-2,0.2009498179755156,0.2101044621285989,0.5044650485584523,0.3994320878261912,0.18889092833388343,0.14534348155383148,0.915531863063101,0.9776884247072287,0.29232082365309275,0.12964404466415347,0.2629557003048818,0.20253887089195555,0.8948713030500158,0.23250232963227457,0.7360824309864079,0.5755157998745857,0.3696696332793994,0.6959179328344441,1.2374185159136353e-3,0.11028872533577061,0.6722683260168099,0.5460831472771348,0.9152575586332934,0.13876358967637215,0.6070326250842013,0.9543785894908988,0.9378909689242503,0.34293901139905236,5.998957830183049e-2,0.21999653012324827,0.5892979464987624,0.25137953941827385,4.271305548853166e-2,0.39452885653242054,0.8308236436029196,0.1966509850480208,0.7299374949710978,0.10489065949399434,0.20068039757873135,0.6118373807913038,0.5338328861426899,0.42308532929296083,0.36576033691285303,0.7180062439426343,0.7924748717634088,0.8392983640013741,8.80399540678809e-2,0.7142934363232795,0.23654792605621722,1.8843755741820845e-2,0.9615711696638524,0.3646607183746714,0.9495928097351874,0.8055741520456577,0.395052244009935,0.24566510620845372,0.16965568486302562,0.43949208294336894,0.48856118670474014,0.12805603983843294,0.9712495604154415,0.755563564743949,0.559430132182548,0.2639199063645843,0.7978841388115036,0.9233659155798088,0.1968933864550717,0.48865278792476186,0.42882758025962886,0.39676353152567123,0.8704201709290892]"
      ]
     },
     "metadata": {},
     "output_type": "display_data"
    }
   ],
   "source": [
    "values"
   ]
  },
  {
   "cell_type": "code",
   "execution_count": 11,
   "metadata": {
    "collapsed": true
   },
   "outputs": [],
   "source": [
    "(xs, ys) = randomClusters values [0.25, 0.5, 0.75, 1.0] [1, 1, -1, -1] [1, -1, 1, -1]"
   ]
  },
  {
   "cell_type": "code",
   "execution_count": 12,
   "metadata": {
    "collapsed": false
   },
   "outputs": [
    {
     "data": {
      "text/plain": [
       "[1.125,1.0328733845805997,0.9805630319982194,1.085776090274408,0.9649969182742587,1.065526314423903,1.102852853395741,0.9745605789063145,0.875,0.9101390486552019,0.8626308300635841,1.25,0.8793957822766151,1.1611555219583058,1.0713163641719299,0.9561427062804185,1.1386829530197948,0.75,0.8110156512119676,1.1254506846227856,-1.1764239812184938,-1.375,-1.0401969219012457,-0.625,-1.2285060321345922,-0.721007606819367,-1.3158291124273938,-1.2246714695191305,-0.8333967651058556,-0.9076292038888875,-1.219394572227824,-0.5256841995956445,-0.6964856279450652,-1.183351214571961,-1.3605194851479179,-1.4506641784959098,-1.1306470157742483,-1.0724526599544921,-1.5,-0.5]"
      ]
     },
     "metadata": {},
     "output_type": "display_data"
    }
   ],
   "source": [
    "xs"
   ]
  },
  {
   "cell_type": "code",
   "execution_count": 13,
   "metadata": {
    "collapsed": false
   },
   "outputs": [
    {
     "data": {
      "text/plain": [
       "[0.8987194005873721,0.9854956924174358,0.9545324070033735,0.8924657379566387,0.8796281295115949,1.106676500927649,1.125,0.9229564462713249,0.875,0.9142997285218601,-0.9782538342409559,-0.7718702546476923,-1.2059621091107697,-0.9441805858867327,-0.75,-0.7592172535442541,-1.091819706214275,-1.25,-1.1605495764037326,-0.9540949958155068,0.9466000465097641,0.9009943458054493,1.181228511451751,1.240473071481274,1.2777241566410593,0.6800500048880908,1.178274735340657,0.7981976023233597,0.625,1.375,-0.7309823759448002,-1.0009628978479546,-1.4077370207098308,-0.6727274903560183,-0.5,-1.5,-1.0983889413943768,-1.1807392096656506,-1.2248758389922803,-0.5728805873974468]"
      ]
     },
     "metadata": {},
     "output_type": "display_data"
    }
   ],
   "source": [
    "ys"
   ]
  },
  {
   "cell_type": "code",
   "execution_count": 14,
   "metadata": {
    "collapsed": false
   },
   "outputs": [
    {
     "data": {
      "text/plain": [
       "True"
      ]
     },
     "metadata": {},
     "output_type": "display_data"
    }
   ],
   "source": [
    "plot X11 (zip xs ys)"
   ]
  },
  {
   "cell_type": "code",
   "execution_count": 15,
   "metadata": {
    "collapsed": true
   },
   "outputs": [],
   "source": [
    "cs = take 40 (randomRs (0,3) g)"
   ]
  },
  {
   "cell_type": "code",
   "execution_count": 16,
   "metadata": {
    "collapsed": false
   },
   "outputs": [
    {
     "data": {
      "text/plain": [
       "[0,1,3,0,1,0,1,3,2,1,0,2,1,0,0,2,0,3,1,3,1,3,1,2,2,1,1,1,3,0,2,0,1,3,1,0,3,3,0,2]"
      ]
     },
     "metadata": {},
     "output_type": "display_data"
    }
   ],
   "source": [
    "cs"
   ]
  },
  {
   "cell_type": "code",
   "execution_count": 17,
   "metadata": {
    "collapsed": true
   },
   "outputs": [],
   "source": [
    "\n",
    "getCentroids :: [Double] -> [Double] -> [Label] -> [Centroid]\n",
    "getCentroids xs ys cs = centroids\n",
    "  where\n",
    "    centroids = zip3 xmeans ymeans labels\n",
    "    xmeans = means xs\n",
    "    ymeans = means ys\n",
    "    means ms = map (\\c -> average (map (ms !!) (elemIndices c cs))) labels\n",
    "    average vs =  sum vs / genericLength vs\n",
    "    labels = nub cs"
   ]
  },
  {
   "cell_type": "code",
   "execution_count": 18,
   "metadata": {
    "collapsed": true
   },
   "outputs": [],
   "source": [
    "centroids = getCentroids xs ys cs"
   ]
  },
  {
   "cell_type": "code",
   "execution_count": 19,
   "metadata": {
    "collapsed": false
   },
   "outputs": [
    {
     "data": {
      "text/plain": [
       "[(0.28419186290286225,-0.2924755657918671,0),(-0.1410661974295562,0.3395789034415523,1),(-0.19603037331991527,-0.19471860423904497,3),(-7.025112829742827e-2,7.974953665544855e-2,2)]"
      ]
     },
     "metadata": {},
     "output_type": "display_data"
    }
   ],
   "source": [
    "centroids"
   ]
  },
  {
   "cell_type": "code",
   "execution_count": 20,
   "metadata": {
    "collapsed": false
   },
   "outputs": [
    {
     "data": {
      "text/html": [
       "<style>/* Styles used for the Hoogle display in the pager */\n",
       ".hoogle-doc {\n",
       "display: block;\n",
       "padding-bottom: 1.3em;\n",
       "padding-left: 0.4em;\n",
       "}\n",
       ".hoogle-code {\n",
       "display: block;\n",
       "font-family: monospace;\n",
       "white-space: pre;\n",
       "}\n",
       ".hoogle-text {\n",
       "display: block;\n",
       "}\n",
       ".hoogle-name {\n",
       "color: green;\n",
       "font-weight: bold;\n",
       "}\n",
       ".hoogle-head {\n",
       "font-weight: bold;\n",
       "}\n",
       ".hoogle-sub {\n",
       "display: block;\n",
       "margin-left: 0.4em;\n",
       "}\n",
       ".hoogle-package {\n",
       "font-weight: bold;\n",
       "font-style: italic;\n",
       "}\n",
       ".hoogle-module {\n",
       "font-weight: bold;\n",
       "}\n",
       ".hoogle-class {\n",
       "font-weight: bold;\n",
       "}\n",
       ".get-type {\n",
       "color: green;\n",
       "font-weight: bold;\n",
       "font-family: monospace;\n",
       "display: block;\n",
       "white-space: pre-wrap;\n",
       "}\n",
       ".show-type {\n",
       "color: green;\n",
       "font-weight: bold;\n",
       "font-family: monospace;\n",
       "margin-left: 1em;\n",
       "}\n",
       ".mono {\n",
       "font-family: monospace;\n",
       "display: block;\n",
       "}\n",
       ".err-msg {\n",
       "color: red;\n",
       "font-style: italic;\n",
       "font-family: monospace;\n",
       "white-space: pre;\n",
       "display: block;\n",
       "}\n",
       "#unshowable {\n",
       "color: red;\n",
       "font-weight: bold;\n",
       "}\n",
       ".err-msg.in.collapse {\n",
       "padding-top: 0.7em;\n",
       "}\n",
       ".highlight-code {\n",
       "white-space: pre;\n",
       "font-family: monospace;\n",
       "}\n",
       ".suggestion-warning { \n",
       "font-weight: bold;\n",
       "color: rgb(200, 130, 0);\n",
       "}\n",
       ".suggestion-error { \n",
       "font-weight: bold;\n",
       "color: red;\n",
       "}\n",
       ".suggestion-name {\n",
       "font-weight: bold;\n",
       "}\n",
       "</style><div class=\"suggestion-name\" style=\"clear:both;\">Use head</div><div class=\"suggestion-row\" style=\"float: left;\"><div class=\"suggestion-warning\">Found:</div><div class=\"highlight-code\" id=\"haskell\">centroids !! 0</div></div><div class=\"suggestion-row\" style=\"float: left;\"><div class=\"suggestion-warning\">Why Not:</div><div class=\"highlight-code\" id=\"haskell\">head centroids</div></div>"
      ],
      "text/plain": [
       "Line 1: Use head\n",
       "Found:\n",
       "centroids !! 0\n",
       "Why not:\n",
       "head centroids"
      ]
     },
     "metadata": {},
     "output_type": "display_data"
    }
   ],
   "source": [
    "(ax, ay, a) = centroids !! 0"
   ]
  },
  {
   "cell_type": "code",
   "execution_count": 21,
   "metadata": {
    "collapsed": true
   },
   "outputs": [],
   "source": [
    "(bx, by, b) = centroids !! 1"
   ]
  },
  {
   "cell_type": "code",
   "execution_count": 22,
   "metadata": {
    "collapsed": false
   },
   "outputs": [
    {
     "data": {
      "text/plain": [
       "0.5803372699556303"
      ]
     },
     "metadata": {},
     "output_type": "display_data"
    }
   ],
   "source": [
    "(ax - bx)^2 + (ay - by)^2"
   ]
  },
  {
   "cell_type": "code",
   "execution_count": null,
   "metadata": {
    "collapsed": true
   },
   "outputs": [],
   "source": []
  }
 ],
 "metadata": {
  "kernelspec": {
   "display_name": "Haskell",
   "language": "haskell",
   "name": "haskell"
  },
  "language_info": {
   "codemirror_mode": "ihaskell",
   "file_extension": ".hs",
   "name": "haskell",
   "version": "7.6.3"
  }
 },
 "nbformat": 4,
 "nbformat_minor": 0
}
